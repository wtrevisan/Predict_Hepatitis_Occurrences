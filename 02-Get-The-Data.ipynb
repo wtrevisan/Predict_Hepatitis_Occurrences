{
 "cells": [
  {
   "cell_type": "markdown",
   "metadata": {},
   "source": [
    "***\n",
    "# `Project:` Prevendo a <font color='blue'>morte</font> ou <font color='blue'>vida</font> de pacientes com hepatite\n",
    "\n",
    "## `Date:` fevereiro, 2022\n",
    "\n",
    "## `Data Scientist:` Walter Trevisan\n",
    "***"
   ]
  },
  {
   "cell_type": "markdown",
   "metadata": {},
   "source": [
    "# `Compreensão dos Dados`\n",
    "\n",
    "Nesta etapa, vamos realizar as seguintes atividades:\n",
    "\n",
    "1. **Compreender** o conjunto de dados que utilizaremos no projeto;\n",
    "\n",
    "1. **Carregar** o conjunto de dados (*dataset*);\n",
    "\n",
    "2. **Analisar** se existem **informações duplicadas** no *dataset*;\n",
    "\n",
    "3. **Analisar** se existem ***missing values*** (valores ausentes) no *dataset*;\n",
    "\n",
    "4. **Criar** dois conjuntos de dados: um para **treinamento** do modelo e outro para **teste** do modelo;\n",
    "\n",
    "5. **Salvar** os conjuntos de dados de **Treino** e **Teste**."
   ]
  },
  {
   "cell_type": "markdown",
   "metadata": {},
   "source": [
    "## <font color='blue'>1- Compreensão do conjunto de dados (*dataset*)</font>"
   ]
  },
  {
   "cell_type": "markdown",
   "metadata": {},
   "source": [
    "O *dataset* que utilizaremos neste projeto possui as seguintes características:\n",
    "\n",
    "1. Número de instâncias (observações): **<font color='blue'>155</font>**;\n",
    "2. Número de atributos (variáveis explicativas): **<font color='blue'>19</font>**;\n",
    "3. Missing Values? **<font color='blue'>Sim</font>**."
   ]
  },
  {
   "cell_type": "markdown",
   "metadata": {},
   "source": [
    "### <font color='blue'>Informações dos atributos</font>"
   ]
  },
  {
   "cell_type": "markdown",
   "metadata": {},
   "source": [
    "#### <font color='red'>Class</font>\n",
    "\n",
    "É a variável dependente (**target**) do nosso *dataset*, ou seja, a varíavel que vamos prever.\n",
    "\n",
    "Valores: **DIE** (paciente, com hepatite, **morreu**), **LIVE** (paciente, com hepatite, **viveu**)"
   ]
  },
  {
   "cell_type": "markdown",
   "metadata": {},
   "source": [
    "#### <font color='red'>AGE</font>\n",
    "\n",
    "Está variável explicativa informa a **idade** do paciente.\n",
    "\n",
    "Valores: **10, 20, 30, 40, 50, 60, 70, 80**."
   ]
  },
  {
   "cell_type": "markdown",
   "metadata": {},
   "source": [
    "#### <font color='red'>SEX</font>\n",
    "\n",
    "Está variável explicativa informa o **gênero** do paciente.\n",
    "\n",
    "Valores: **male** (Masculino), **female** (Feminino)."
   ]
  },
  {
   "cell_type": "markdown",
   "metadata": {},
   "source": [
    "#### <font color='red'>STEROID</font>\n",
    "\n",
    "Os esteroides são hormônios produzidos pelo córtex da suprarrenal ou pelas gônadas, sendo responsáveis por diversas funções nos organismos, incluindo controle metabólico e características sexuais. Então, esta variável explicativa informa se o paciente utilizou (ou não) algum tipo de **esteróide**.\n",
    "\n",
    "Valores: **no** (paciente não utilizou esteróide), **yes** (paciente utilizou esteróide)."
   ]
  },
  {
   "cell_type": "markdown",
   "metadata": {},
   "source": [
    "#### <font color='red'>ANTIVIRALS</font>\n",
    "\n",
    "Um **antiviral** é uma classe de medicamentos usado especificamente para tratar infecções virais ([O que são antivirais e como atuam?](https://www.cliquefarma.com.br/blog/antivirais/)). Então, esta variável explicativa informa se o paciente utilizou (ou não) algum tipo de **antiviral**.\n",
    "\n",
    "Valores: **no** (paciente não utilizou algum medicamento antiviral), **yes** (paciente não utilizou 1 ou mais medicamentos antivirais)."
   ]
  },
  {
   "cell_type": "markdown",
   "metadata": {},
   "source": [
    "#### <font color='red'>FATIGUE</font>\n",
    "\n",
    "A **Fadiga** é um sintoma em que a pessoa sente uma intensa necessidade de repousar, cuja falta de energia é tão forte que ela encontra dificuldade para iniciar e manter atividades corriqueiras do seu dia a dia. De acordo com o clínico geral Waldyr Bueno, médico da Rede de Hospitais São Camilo de São Paulo, **a fadiga é considerada normal quando ocorre após a realização de uma atividade física**, em uma situação de estresse prolongado ou, até mesmo, em dias de insônia. **Mas, a fadiga que ocorre após atividades que antes não causavam cansaço extremo pode ser um indicativo de alguma doença**.\n",
    "\n",
    "[Fadiga: o que é, tipos e como tratar a exaustão](https://www.minhavida.com.br/saude/temas/fadiga).\n",
    "\n",
    "Valores: **no** (paciente não apresentou sinais de fadiga), **yes** (paciente apresentou sinais de fadiga)."
   ]
  },
  {
   "cell_type": "markdown",
   "metadata": {},
   "source": [
    "#### <font color='red'>MALAISE</font>\n",
    "\n",
    "**Mal-estar** é uma sensação generalizada de desconforto e incômodo. O termo “mal-estar” é frequentemente usado para descrever um sintoma que não sabemos ao certo do que se trata. Portanto, ele pode ser entendido de acordo com a sua própria definição: ausência de bem-estar.\n",
    "\n",
    "[Mal-estar: tratamentos e causas](https://www.minhavida.com.br/saude/temas/mal-estar).\n",
    "\n",
    "Valores: **no** (paciente não apresentou sinais de mal-estar), **yes** (paciente apresentou sinais de mal-estar)."
   ]
  },
  {
   "cell_type": "markdown",
   "metadata": {},
   "source": [
    "#### <font color='red'>ANOREXIA</font>\n",
    "\n",
    "A **anorexia nervosa** é um **transtorno alimentar** que faz a pessoa enxergar o próprio corpo de maneira distorcida (em geral, muito acima do peso) e, a partir daí, leva a atitudes de risco como dietas restritivas, abuso de exercícios físicos, indução de vômito para expulsar as refeições e até mesmo uso de medicamentos como laxantes. Quando um paciente possui anorexia, ele para de comer e não consegue ver que seu corpo, aos poucos, está definhando com a falta de nutrição adequada. O indivíduo anoréxico pode até mesmo deixar de sentir fome por completo. O problema pode afetar qualquer faixa etária ou gênero, mas é mais comum em mulheres jovens.\n",
    "\n",
    "[Anorexia: o que é, sintomas e tratamento](https://saude.abril.com.br/mente-saudavel/anorexia-o-que-e-sintomas-e-tratamento/).\n",
    "\n",
    "Valores: **no** (paciente não possui anorexia, ou seja, não é anoréxico), **yes** (paciente possui anorexia, ou seja, é anoréxico)."
   ]
  },
  {
   "cell_type": "markdown",
   "metadata": {},
   "source": [
    "#### <font color='red'>LIVER BIG</font>\n",
    "\n",
    "Um **fígado aumentado** é geralmente causado por distúrbios hepáticos relacionados ao uso excessivo de álcool, insuficiência cardíaca congestiva, doença de armazenamento de glicogênio, hepatite viral, câncer de fígado e esteatose (gordura no fígado).\n",
    "\n",
    "[FÍGADO INCHADO E COM GORDURA É PERIGOSO À SAÚDE? ENTENDA](https://grupodetransplantehepatico.com.br/figado-inchado-e-com-gordura/).\n",
    "\n",
    "Valores: **no** (paciente não está com o seu fígado aumentado), **yes** (paciente está com o seu fígado aumentado)."
   ]
  },
  {
   "cell_type": "markdown",
   "metadata": {},
   "source": [
    "#### <font color='red'>LIVER FIRM</font>\n",
    "\n",
    "O fígado é o maior órgão do corpo humano. Durante o desenvolvimento, o tamanho do fígado aumenta com o aumento da idade, atingindo em média 5 cm de extensão aos 5 anos de idade e atingindo o tamanho adulto aos 15 anos de idade. O tamanho depende de vários fatores: idade, sexo, tamanho e forma do corpo, bem como da técnica de exame particular utilizada (por exemplo, palpação versus percussão versus radiografia). Por percussão, o tamanho médio do fígado é de 7 cm para as mulheres e 10,5 cm para os homens. **Uma extensão hepática de 2 a 3 cm maior ou menor que esses valores é considerada anormal**. O fígado pesa de 1200 a 1400 g na mulher adulta e de 1400 a 1500 g no homem adulto.\n",
    "\n",
    "[Avaliação do Tamanho, Forma e Consistência do Fígado](https://www.ncbi.nlm.nih.gov/books/NBK421/).\n",
    "\n",
    "Valores: **no** (paciente não têm um fígado saudável), **yes** (paciente têm um fígado saudável)."
   ]
  },
  {
   "cell_type": "markdown",
   "metadata": {},
   "source": [
    "#### <font color='red'>SPLEEN PALPABLE</font>\n",
    "\n",
    "Clinicamente, se um **baço é palpável** (sentido através de exame externo), significa que ele é **aumentado**, pois tem que passar por pelo menos duas vezes para se tornar palpável. A **esplenomegalia** consiste no **aumento do tamanho do baço** que pode ser causado por diversas doenças e que necessita de tratamento para evitar uma possível ruptura, de forma a evitar hemorragias internas potencialmente fatais. Entretanto, a ponta do baço pode ser palpável em um recém-nascido de até três meses de idade.\n",
    "\n",
    "[Esplenomegalia: o que é, sintomas, causas e tratamento](https://www.tuasaude.com/esplenomegalia/).\n",
    "\n",
    "Valores: **no** (paciente não está com o baço aumentado), **yes** (paciente está com o baço aumentado)."
   ]
  },
  {
   "cell_type": "markdown",
   "metadata": {},
   "source": [
    "#### <font color='red'>SPIDERS</font>\n",
    "\n",
    "Uma **mancha ou pinta em formato de aranha** (*spider nevus*) é uma coleção de pequenas arteríolas dilatadas (vasos sanguíneos) agrupadas muito próximas à superfície da pele. O aglomerado de vasos é semelhante a uma teia de aranha, com uma mancha central e vasos radiantes. As **manchas de aranha** (*spider nevi*) podem ser causadas por lesões, exposição ao sol, alterações hormonais ou **doenças hepáticas**, mas muitas vezes a causa é desconhecida. Para a maioria das pessoas, as **manchas** não são uma preocupação médica. Em alguns casos, elas causam desconforto. As **manchas de aranha**, especialmente se houver mais de uma, é um sinal comum de **doença hepática**. As pessoas com **doença hepática** frequentemente têm múltiplos grupos de vasos ao mesmo tempo.\n",
    "\n",
    "[Spider Nevus (Spider Angiomas)](https://www.healthline.com/health/spider-angioma).\n",
    "\n",
    "Valores: **no** (paciente não possui manchas de aranha no corpo), **yes** (paciente possui manchas de aranha no corpo)."
   ]
  },
  {
   "cell_type": "markdown",
   "metadata": {},
   "source": [
    "#### <font color='red'>ASCITES</font>\n",
    "\n",
    "a ascite ou **barriga d'água** é o acúmulo anormal de líquido rico em proteínas no interior do abdômen, no espaço entre os tecidos que revestem o abdômen e os órgãos abdominais. A ascite não é considerada uma doença mas sim um fenômeno que está presente em várias doenças, sendo a mais comum a **cirrose hepática**.\n",
    "\n",
    "[Ascite: o que é, principais sintomas e tratamento](https://www.tuasaude.com/o-que-e-ascite/).\n",
    "\n",
    "Valores: **no** (paciente não está com ascite), **yes** (paciente está com ascite)."
   ]
  },
  {
   "cell_type": "markdown",
   "metadata": {},
   "source": [
    "#### <font color='red'>VARICES</font>\n",
    "\n",
    "As varizes são veias dilatadas que podem ser facilmente observadas por baixo da pele e que surgem principalmente nas pernas, devido à perda da capacidade das veias em promover o retorno venoso do sangue dos membros inferiores para o coração, o que causa a sensação de peso nas pernas, formigamento e maior sensibilidade na região.\n",
    "\n",
    "[Varizes: o que são, sintomas, causas e tratamento](https://www.tuasaude.com/varizes/).\n",
    "\n",
    "Valores: **no** (paciente não possui varizes), **yes** (paciente possui varizes)."
   ]
  },
  {
   "cell_type": "markdown",
   "metadata": {},
   "source": [
    "#### <font color='red'>BILIRUBIN</font>\n",
    "\n",
    "O exame de **bilirrubina** auxilia o diagnóstico de problemas no **fígado**, vias biliares ou anemia hemolítica, por exemplo, já que a bilirrubina é produto da destruição das hemácias e para ser eliminada pelo organismo necessita ser conjugada a um açúcar no fígado e sofrer a ação da bile. Medir os valores de bilirrubina no sangue é importante para avaliar o funcionamento adequado do **fígado** e ajudar a diagnosticar ou acompanhar doenças como cálculo biliar, cirrose e **hepatite**. Os valores foram fornecidos em miligramas por decilitro (**mg/dL**), mas podem ser convertidos para gramas por litro (**mg/L**).\n",
    "\n",
    "Utilizaremos os seguintes [valores de referência](https://www.ebmconsult.com/articles/lab-test-bilirubin-total-level) para fazermos um diagnóstico do resultado:\n",
    "> * Crianças, 6 dias a 18 anos: 0.3 - 1.2 mg/dL (3 - 12 mg/L);\n",
    "> * Adultos, acima de 18 anos: 0.3 - 1.0 mg/dL (3 - 10 mg/L).\n",
    "\n",
    "Os níveis elevados de **bilirrubina total** e indireta no sangue indicam um aumento da produção de bilirrubina ou deficiência do fígado relacionada ao metabolismo desta substância. Ocorre em casos de:\n",
    "> * Anemia hemolítica: doença na qual ocorre a degradação prematura dos glóbulos vermelhos do sangue (hemácias);\n",
    "> * Síndrome de Gilbert: distúrbio benigno e genético que causa elevação nos níveis de bilirrubina na corrente sanguínea;\n",
    "> * **Cirrose hepática**: doença que provoca a substituição do tecido normal do fígado por tecido cicatricial e impede o órgão de desempenhar sua função. Este tecido cicatricial ocorre quando o fígado sofre lesões contínuas e repetidas por consumo abusivo de álcool, por exemplo.\n",
    "\n",
    "Quando os níveis de bilirrubina no exame de sangue se mostram **abaixo do normal**, raramente indicam alterações graves para a saúde. Por este motivo, você não deve se preocupar se seus níveis de bilirrubina se apresentarem baixos, inferiores aos valores de referência.\n",
    "\n",
    "Artigos relacionados ao exame de **Bilirrubina**:\n",
    "> * [Bilirrubina direta e indireta: o que é e porque pode estar alta](https://www.tuasaude.com/exame-de-bilirrubina/).\n",
    "> * [O que é bilirrubina direta, indireta e total no exame? Quais os valores normais?](https://medicoresponde.com.br/o-que-e-bilirrubina-direta-indireta-e-total-no-exame/)."
   ]
  },
  {
   "cell_type": "markdown",
   "metadata": {},
   "source": [
    "#### <font color='red'>ALK PHOSPHATE</font>\n",
    "\n",
    "Um teste de **fosfatase alcalina** (**ALP**) mede a quantidade de ALP em seu sangue. A ALP é uma enzima encontrada em todo o corpo, mas é encontrada principalmente no fígado, nos ossos, nos rins e no sistema digestivo. Quando o fígado é danificado, a ALP pode vazar para a corrente sangüínea. **Níveis elevados de ALP podem indicar doença hepática ou distúrbios ósseos**.\n",
    "\n",
    "O exame da **fosfatase alcalina** serve para investigar distúrbios **hepáticos** ou **ósseos** e o seu resultado pode identificar:\n",
    "\n",
    "1. **Fosfatase alcalina alta:** a fosfatase alcalina pode estar elevada quando existem problemas no **fígado** como:\n",
    "> * Obstrução do fluxo biliar, provocados por cálculos biliares ou câncer, que bloqueiam os canais que conduzem a bile para o intestino;\n",
    "> * **Hepatite**, que é uma inflamação no fígado que pode ser provocada por bactérias, vírus ou produtos tóxicos;\n",
    "> * Cirrose, que é uma doença que conduz à destruição do fígado;\n",
    "> * Consumo de alimentos gordurosos;\n",
    "> * Insuficiência renal.\n",
    "\n",
    "2. **Fosfatase alcalina baixa:** os níveis de fosfatase alcalina raramente estão baixos, no entanto esta enzima pode estar diminuída nas seguintes situações:\n",
    "> * Hipofosfatasia, que é uma doença genética que provoca deformações e fraturas nos ossos;\n",
    "> * Desnutrição;\n",
    "> * Deficiência de magnésio;\n",
    "> * Hipotireoidismo;\n",
    "> * Diarreia grave;\n",
    "> * Anemia severa.\n",
    "\n",
    "Utilizaremos os seguintes [valores de referência](https://www.tuasaude.com/exame-fosfatase-alcalina/) para fazermos um diagnóstico do resultado:\n",
    "1. **Crianças e adolescentes:**\n",
    "> * < 2 anos:  85 - 235 U/L;\n",
    "> * 2 a 8 anos:  65 - 210 U/L;\n",
    "> * 9 a 15 anos:  60 - 300 U/L;\n",
    "> * 16 a 21 anos:  30 - 200 U/L;\n",
    "\n",
    "2. **Adultos:**\n",
    "> * 46 a 120 U/L."
   ]
  },
  {
   "cell_type": "markdown",
   "metadata": {},
   "source": [
    "#### <font color='red'>SGOT</font>\n",
    "\n",
    "O teste **SGOT** (**aspartato aminotransferase ou transaminase oxalacética** (**AST ou TGO**)) é um exame de sangue. Ele ajuda a determinar quão bem o fígado está funcionando, medindo os níveis de aspartato aminotransferase no sangue. Muito desta enzima pode indicar um problema, como danos ao fígado. A aspartato aminotransferase (AST) é uma enzima encontrada principalmente no fígado e no coração. Em menor grau, ela também está presente em outras partes do corpo, incluindo os rins e músculos. Esta enzima também é chamada soro glutâmico-oxaloacetico transaminase (SGOT). A maioria das pessoas tem níveis baixos desta enzima. Entretanto, quando as células hepáticas são danificadas ou feridas, elas excretam AST extra no sangue.\n",
    "\n",
    "Como marcador hepático, a AST normalmente é dosada junto com a ALT, já que pode estar elevado em outras situações, sendo inespecífico para este fim. O **[valor de referência](https://www.tuasaude.com/exame-aspartato-aminotransferase/)** da enzima é entre **5 e 40 U/L** de sangue, podendo variar de acordo com o laboratório.\n",
    "\n",
    "A AST aumentada, ou o TGO alto, pode indicar:\n",
    "> * Pancreatite aguda;\n",
    "> * Hepatite viral aguda;\n",
    "> * Hepatite alcoólica;\n",
    "> * Cirrose hepática;\n",
    "> * entre outros.\n",
    "\n",
    "Os valores acima de **150 U/L** geralmente indicam alguma **lesão no fígado** e acima de **1000 U/L** pode indicar **hepatite** causada pelo uso de medicamentos, como paracetamol, ou hepatite isquêmica, por exemplo.\n",
    "\n",
    "Níveis baixos de AST podem indicar:\n",
    "> * deficiência de vitamina B6;\n",
    "> * doença dos rins;\n",
    "> * doença hepática;\n",
    "> * cirrose;\n",
    "> * câncer;\n",
    "> * condições auto-imunes;\n",
    "> * condições genéticas.\n",
    "\n",
    "Artigos relacionados ao exame de **aspartato aminotransferase (SGOT)**:\n",
    "> * [Como entender o exame TGO-AST: Aspartato Aminotransferase](https://www.tuasaude.com/exame-aspartato-aminotransferase/);\n",
    "> * [TGO e TGP: o que são, para que servem e valores normais](https://www.tuasaude.com/tgo-tgp/);\n",
    "> * [What does the SGOT blood test mean?](https://www.medicalnewstoday.com/articles/320982)."
   ]
  },
  {
   "cell_type": "markdown",
   "metadata": {},
   "source": [
    "#### <font color='red'>ALBUMIN</font>\n",
    "\n",
    "A **Albumina** é um exame de sangue que mede a quantidade de albumina no sangue. A baixa albumina é comum em muitos problemas de saúde, portanto os níveis de albumina são frequentemente verificados em conjunto com outros testes para ajudar a diagnosticar doenças, determinar se outros testes são necessários, ou para verificar se os tratamentos para uma condição estão funcionando.\n",
    "\n",
    "O **[valor de referência](https://labs.selfdecode.com/blog/albumin/)** para os níveis normais de albumina depende do laboratório específico que realiza o exame de sangue, no entanto, geralmente fica em torno de **3.5 a 5.6 g/dL** ou **35 a 56 g/L**.\n",
    "\n",
    "**Níveis baixos de albumina** são observados em uma ampla gama de problemas de saúde, incluindo diabetes, câncer e **doença hepática**, e são principalmente resultado de doença e não de uma causa. Como a albumina é produzida no fígado, doenças hepáticas que interrompem a produção de albumina podem causar níveis baixos.\n",
    "\n",
    "A condição de ter alto nível de albumina é chamada hiperalbuminemia. Entretanto, um resultado superior ao normal, não significa necessariamente que você tenha uma condição de saúde que precise de tratamento. Seu médico interpretará o resultado de sua albumina, levando em conta seu histórico médico, sintomas e outros resultados de testes.\n",
    "\n",
    "A desidratação severa ou crônica é uma causa comum de altos níveis de albumina nos testes de sangue, pois o volume total de fluido do sangue é reduzido na desidratação enquanto a quantidade de albumina permanece a mesma. A desidratação pode ocorrer devido a condições como vômitos graves e diarréia, por exemplo. Além disso, há vários estudos que encontraram uma ligação entre a resistência à insulina e níveis mais altos de albumina no sangue.\n",
    "\n",
    "Artigos relacionados ao exame de **Albumina**:\n",
    "> * [Exame de albumina: para que serve e valores de referência](https://www.tuasaude.com/exame-de-albumina/);\n",
    "> * [Albumin: Function & Associated Diseases](https://labs.selfdecode.com/blog/albumin/);\n",
    "> * [Albumin (Blood)](https://www.urmc.rochester.edu/encyclopedia/content.aspx?contenttypeid=167&contentid=albumin_blood)."
   ]
  },
  {
   "cell_type": "markdown",
   "metadata": {},
   "source": [
    "#### <font color='red'>PROTIME</font>\n",
    "\n",
    "O **tempo de protrombina** ou **TP** é um exame de sangue que avalia a capacidade do sangue para coagular, isto é, o tempo necessário para estancar uma hemorragia, por exemplo. O **[valor de referência](https://www.tuasaude.com/tempo-de-protrombina/))** do **tempo de protrombina** para uma pessoa saudável deve variar entre **10 e 14 segundos**.\n",
    "\n",
    "O resultado do exame do tempo de protrombina pode estar alterado devido a diferentes causas, por isso, sempre que existam alterações o médico pode pedir novos exames para conseguir identificar a causa correta e iniciar o tratamento.\n",
    "\n",
    "Algumas das causas mais comuns incluem:\n",
    "\n",
    "1. **Tempo de protrombina alto**: este resultado indica que, se acontecer um corte, o sangramento irá demorar mais tempo para parar, sendo que algumas das causas mais comuns incluem:\n",
    "> * Uso de anticoagulantes;\n",
    "> * Alteração da flora intestinal;\n",
    "> * Alimentação pouco equilibrada;\n",
    "> * **Doenças no fígado**;\n",
    "> * Deficiência de vitamina K;\n",
    "> * Problemas de coagulação, como hemofilia;\n",
    "\n",
    "2. **Tempo de protrombina baixo**: já quando valor de protrombina é mais baixo significa que a coagulação acontece muito rápido. Assim, embora os sangramentos sejam mais raros e parem rapidamente, há maior risco de formação de coágulos que podem levar a infarto ou AVC. Algumas das causas que podem provocar esta alteração incluem:\n",
    "> * Uso de suplementos com vitamina K;\n",
    "> * Consumo excessivo de alimentos com vitamina K, como espinafre, brócolis ou fígado;\n",
    "> * Uso de comprimidos com estrogênio, como pílula anticoncepcional.\n",
    "\n",
    "Artigos relacionados ao exame do **Tempo de Protrombina**:\n",
    "> * [Tempo de protrombina: o que é, para que serve e valores](https://www.tuasaude.com/tempo-de-protrombina/);\n",
    "> * [What Is a Prothrombin Time Test?](https://www.webmd.com/a-to-z-guides/prothrombin-time-test)."
   ]
  },
  {
   "cell_type": "markdown",
   "metadata": {},
   "source": [
    "#### <font color='red'>HISTOLOGY</font>\n",
    "\n",
    "**[Histologia](https://www.todamateria.com.br/histologia/)** é uma área biomédica que estuda os tecidos biológicos. Na área da saúde, a **histologia humana** permite realizar diagnósticos de diversas doenças a partir de estudos comparativos entre tecidos saudáveis e doentes.\n",
    "\n",
    "Valores: **no** (paciente não realizou o diagnóstico de doenças a partir de estudos comparativos entre tecidos saudáveis e doentes), **yes** (paciente realizou o diagnóstico de doenças a partir de estudos comparativos entre tecidos saudáveis e doentes)."
   ]
  },
  {
   "cell_type": "markdown",
   "metadata": {},
   "source": [
    "### Referência:\n",
    "\n",
    "Os **dados** foram obtidos no site: **[*UCI Machine Learning Repository*](https://archive.ics.uci.edu/ml/datasets/hepatitis)**."
   ]
  },
  {
   "cell_type": "markdown",
   "metadata": {},
   "source": [
    "## <font color='blue'>Setup</font>\n",
    "\n",
    "Primeiro, vamos carregar os **pacotes e funções** que serão utilizadas neste **notebook**."
   ]
  },
  {
   "cell_type": "code",
   "execution_count": 1,
   "metadata": {},
   "outputs": [
    {
     "name": "stdout",
     "output_type": "stream",
     "text": [
      "Setup Complete!\n"
     ]
    }
   ],
   "source": [
    "# As novas versões do Pandas e Matplotlib trazem diversas mensagens de aviso ao desenvolvedor.\n",
    "# Então, vamos desativar essas mensagens.\n",
    "import sys # O pacote \"sys\" permite manipulações com o sistema operacional:\n",
    "import os  # Operation System (Packages and Functions)\n",
    "import warnings\n",
    "if not sys.warnoptions:\n",
    "    warnings.simplefilter(\"ignore\")\n",
    "warnings.simplefilter(action='ignore', category=FutureWarning)\n",
    "warnings.filterwarnings(\"ignore\", category=FutureWarning)\n",
    "\n",
    "# Importa função para verificarmos a versão da linguagem python:\n",
    "from platform import python_version\n",
    "\n",
    "# Importando os pacote Pandas:\n",
    "import pandas as pd\n",
    "\n",
    "# Importando o pacote do Scikit-Learn:\n",
    "import sklearn as skl \n",
    "\n",
    "# Função para criar amostras de dados de forma estratificada:\n",
    "from sklearn.model_selection import StratifiedShuffleSplit\n",
    "\n",
    "# Definindo o diretório raiz (Root) onde serão armazenados todas as informações\n",
    "# (Imagens, Objetos, Dados, Modelos de ML, etc...) do projeto.\n",
    "# Diretório Raiz (Root) do Projeto:\n",
    "ROOT_DIR = \".\"\n",
    "\n",
    "# Path: onde ficarão armazenados os \"Objetos\" (Estrututras de Dados) relacionados ao Projeto:\n",
    "OBJ_PATH = os.path.join(ROOT_DIR, \"objects\")\n",
    "# Criando o diretório, se ele não existir:\n",
    "os.makedirs(OBJ_PATH, exist_ok=True)\n",
    "\n",
    "# Path: onde ficarão armazenados os \"datasets\" (arquivos \"csv\") e os \"objetos\" (Data Frames) do Projeto:\n",
    "DATA_PATH = os.path.join(ROOT_DIR, \"data\")\n",
    "# Path do arquivo \"csv\" que contém o conjunto de dados do Projeto:\n",
    "DATA_FILE_PATH = os.path.join(DATA_PATH, \"hepatite.data\")\n",
    "# Criando o diretório, se ele não existir:\n",
    "os.makedirs(DATA_PATH, exist_ok=True)\n",
    "\n",
    "# Path: onde estão armazenadas as classes e funções que serão utilizadas neste notebook:\n",
    "LIB_PATH = os.path.join(ROOT_DIR, \"library\")\n",
    "\n",
    "# Adicionando o diretório \"./library\" ao 'path' do Sistema, para podermos importar classes e funções que serão\n",
    "# utilizadas neste notebook:\n",
    "sys.path.append(LIB_PATH)\n",
    "\n",
    "# Importando para este notebook, as classes e funções definidas no módulo \"data_science_library.py\":\n",
    "import data_science_library as dslib\n",
    "\n",
    "# Definindo uma \"semente\" para reproduzir os mesmos dados nas tarefas de amostragem:\n",
    "SEED = 42\n",
    "\n",
    "print(\"Setup Complete!\")"
   ]
  },
  {
   "cell_type": "code",
   "execution_count": 2,
   "metadata": {},
   "outputs": [
    {
     "name": "stdout",
     "output_type": "stream",
     "text": [
      "Versões dos pacotes usados neste jupyter notebook:\n",
      "Python      : 3.8.12\n",
      "Pandas      : 1.3.5\n",
      "Scikit-Learn: 1.0.2\n"
     ]
    }
   ],
   "source": [
    "# Versões dos pacotes usados neste jupyter notebook:\n",
    "print(\"Versões dos pacotes usados neste jupyter notebook:\")\n",
    "print(\"Python      : {}\".format(python_version()))\n",
    "print(\"Pandas      : {}\".format(pd.__version__))\n",
    "print(\"Scikit-Learn: {}\".format(skl.__version__))"
   ]
  },
  {
   "cell_type": "markdown",
   "metadata": {},
   "source": [
    "## <font color='blue'>2- Carregar o conjunto de dados (*dataset*)</font>"
   ]
  },
  {
   "cell_type": "code",
   "execution_count": 3,
   "metadata": {},
   "outputs": [
    {
     "data": {
      "text/html": [
       "<div>\n",
       "<style scoped>\n",
       "    .dataframe tbody tr th:only-of-type {\n",
       "        vertical-align: middle;\n",
       "    }\n",
       "\n",
       "    .dataframe tbody tr th {\n",
       "        vertical-align: top;\n",
       "    }\n",
       "\n",
       "    .dataframe thead th {\n",
       "        text-align: right;\n",
       "    }\n",
       "</style>\n",
       "<table border=\"1\" class=\"dataframe\">\n",
       "  <thead>\n",
       "    <tr style=\"text-align: right;\">\n",
       "      <th></th>\n",
       "      <th>Class</th>\n",
       "      <th>Age</th>\n",
       "      <th>Gender</th>\n",
       "      <th>Steroid</th>\n",
       "      <th>Antivirals</th>\n",
       "      <th>Fatigue</th>\n",
       "      <th>Malaise</th>\n",
       "      <th>Anorexia</th>\n",
       "      <th>LiverBig</th>\n",
       "      <th>LiverFirm</th>\n",
       "      <th>SpleenPalpable</th>\n",
       "      <th>Spiders</th>\n",
       "      <th>Ascites</th>\n",
       "      <th>Varices</th>\n",
       "      <th>Bilirubin</th>\n",
       "      <th>AlkPhosphate</th>\n",
       "      <th>SGOT</th>\n",
       "      <th>Albumin</th>\n",
       "      <th>Protime</th>\n",
       "      <th>Histology</th>\n",
       "    </tr>\n",
       "  </thead>\n",
       "  <tbody>\n",
       "    <tr>\n",
       "      <th>0</th>\n",
       "      <td>2</td>\n",
       "      <td>30</td>\n",
       "      <td>2</td>\n",
       "      <td>1</td>\n",
       "      <td>2</td>\n",
       "      <td>2</td>\n",
       "      <td>2</td>\n",
       "      <td>2</td>\n",
       "      <td>1</td>\n",
       "      <td>2</td>\n",
       "      <td>2</td>\n",
       "      <td>2</td>\n",
       "      <td>2</td>\n",
       "      <td>2</td>\n",
       "      <td>1.00</td>\n",
       "      <td>85</td>\n",
       "      <td>18</td>\n",
       "      <td>4.0</td>\n",
       "      <td>?</td>\n",
       "      <td>1</td>\n",
       "    </tr>\n",
       "    <tr>\n",
       "      <th>1</th>\n",
       "      <td>2</td>\n",
       "      <td>50</td>\n",
       "      <td>1</td>\n",
       "      <td>1</td>\n",
       "      <td>2</td>\n",
       "      <td>1</td>\n",
       "      <td>2</td>\n",
       "      <td>2</td>\n",
       "      <td>1</td>\n",
       "      <td>2</td>\n",
       "      <td>2</td>\n",
       "      <td>2</td>\n",
       "      <td>2</td>\n",
       "      <td>2</td>\n",
       "      <td>0.90</td>\n",
       "      <td>135</td>\n",
       "      <td>42</td>\n",
       "      <td>3.5</td>\n",
       "      <td>?</td>\n",
       "      <td>1</td>\n",
       "    </tr>\n",
       "    <tr>\n",
       "      <th>2</th>\n",
       "      <td>2</td>\n",
       "      <td>78</td>\n",
       "      <td>1</td>\n",
       "      <td>2</td>\n",
       "      <td>2</td>\n",
       "      <td>1</td>\n",
       "      <td>2</td>\n",
       "      <td>2</td>\n",
       "      <td>2</td>\n",
       "      <td>2</td>\n",
       "      <td>2</td>\n",
       "      <td>2</td>\n",
       "      <td>2</td>\n",
       "      <td>2</td>\n",
       "      <td>0.70</td>\n",
       "      <td>96</td>\n",
       "      <td>32</td>\n",
       "      <td>4.0</td>\n",
       "      <td>?</td>\n",
       "      <td>1</td>\n",
       "    </tr>\n",
       "    <tr>\n",
       "      <th>3</th>\n",
       "      <td>2</td>\n",
       "      <td>31</td>\n",
       "      <td>1</td>\n",
       "      <td>?</td>\n",
       "      <td>1</td>\n",
       "      <td>2</td>\n",
       "      <td>2</td>\n",
       "      <td>2</td>\n",
       "      <td>2</td>\n",
       "      <td>2</td>\n",
       "      <td>2</td>\n",
       "      <td>2</td>\n",
       "      <td>2</td>\n",
       "      <td>2</td>\n",
       "      <td>0.70</td>\n",
       "      <td>46</td>\n",
       "      <td>52</td>\n",
       "      <td>4.0</td>\n",
       "      <td>80</td>\n",
       "      <td>1</td>\n",
       "    </tr>\n",
       "    <tr>\n",
       "      <th>4</th>\n",
       "      <td>2</td>\n",
       "      <td>34</td>\n",
       "      <td>1</td>\n",
       "      <td>2</td>\n",
       "      <td>2</td>\n",
       "      <td>2</td>\n",
       "      <td>2</td>\n",
       "      <td>2</td>\n",
       "      <td>2</td>\n",
       "      <td>2</td>\n",
       "      <td>2</td>\n",
       "      <td>2</td>\n",
       "      <td>2</td>\n",
       "      <td>2</td>\n",
       "      <td>1.00</td>\n",
       "      <td>?</td>\n",
       "      <td>200</td>\n",
       "      <td>4.0</td>\n",
       "      <td>?</td>\n",
       "      <td>1</td>\n",
       "    </tr>\n",
       "    <tr>\n",
       "      <th>5</th>\n",
       "      <td>2</td>\n",
       "      <td>34</td>\n",
       "      <td>1</td>\n",
       "      <td>2</td>\n",
       "      <td>2</td>\n",
       "      <td>2</td>\n",
       "      <td>2</td>\n",
       "      <td>2</td>\n",
       "      <td>2</td>\n",
       "      <td>2</td>\n",
       "      <td>2</td>\n",
       "      <td>2</td>\n",
       "      <td>2</td>\n",
       "      <td>2</td>\n",
       "      <td>0.90</td>\n",
       "      <td>95</td>\n",
       "      <td>28</td>\n",
       "      <td>4.0</td>\n",
       "      <td>75</td>\n",
       "      <td>1</td>\n",
       "    </tr>\n",
       "    <tr>\n",
       "      <th>6</th>\n",
       "      <td>1</td>\n",
       "      <td>51</td>\n",
       "      <td>1</td>\n",
       "      <td>1</td>\n",
       "      <td>2</td>\n",
       "      <td>1</td>\n",
       "      <td>2</td>\n",
       "      <td>1</td>\n",
       "      <td>2</td>\n",
       "      <td>2</td>\n",
       "      <td>1</td>\n",
       "      <td>1</td>\n",
       "      <td>2</td>\n",
       "      <td>2</td>\n",
       "      <td>?</td>\n",
       "      <td>?</td>\n",
       "      <td>?</td>\n",
       "      <td>?</td>\n",
       "      <td>?</td>\n",
       "      <td>1</td>\n",
       "    </tr>\n",
       "    <tr>\n",
       "      <th>7</th>\n",
       "      <td>2</td>\n",
       "      <td>23</td>\n",
       "      <td>1</td>\n",
       "      <td>2</td>\n",
       "      <td>2</td>\n",
       "      <td>2</td>\n",
       "      <td>2</td>\n",
       "      <td>2</td>\n",
       "      <td>2</td>\n",
       "      <td>2</td>\n",
       "      <td>2</td>\n",
       "      <td>2</td>\n",
       "      <td>2</td>\n",
       "      <td>2</td>\n",
       "      <td>1.00</td>\n",
       "      <td>?</td>\n",
       "      <td>?</td>\n",
       "      <td>?</td>\n",
       "      <td>?</td>\n",
       "      <td>1</td>\n",
       "    </tr>\n",
       "    <tr>\n",
       "      <th>8</th>\n",
       "      <td>2</td>\n",
       "      <td>39</td>\n",
       "      <td>1</td>\n",
       "      <td>2</td>\n",
       "      <td>2</td>\n",
       "      <td>1</td>\n",
       "      <td>2</td>\n",
       "      <td>2</td>\n",
       "      <td>2</td>\n",
       "      <td>1</td>\n",
       "      <td>2</td>\n",
       "      <td>2</td>\n",
       "      <td>2</td>\n",
       "      <td>2</td>\n",
       "      <td>0.70</td>\n",
       "      <td>?</td>\n",
       "      <td>48</td>\n",
       "      <td>4.4</td>\n",
       "      <td>?</td>\n",
       "      <td>1</td>\n",
       "    </tr>\n",
       "    <tr>\n",
       "      <th>9</th>\n",
       "      <td>2</td>\n",
       "      <td>30</td>\n",
       "      <td>1</td>\n",
       "      <td>2</td>\n",
       "      <td>2</td>\n",
       "      <td>2</td>\n",
       "      <td>2</td>\n",
       "      <td>2</td>\n",
       "      <td>2</td>\n",
       "      <td>2</td>\n",
       "      <td>2</td>\n",
       "      <td>2</td>\n",
       "      <td>2</td>\n",
       "      <td>2</td>\n",
       "      <td>1.00</td>\n",
       "      <td>?</td>\n",
       "      <td>120</td>\n",
       "      <td>3.9</td>\n",
       "      <td>?</td>\n",
       "      <td>1</td>\n",
       "    </tr>\n",
       "  </tbody>\n",
       "</table>\n",
       "</div>"
      ],
      "text/plain": [
       "   Class  Age  Gender Steroid  Antivirals Fatigue Malaise Anorexia LiverBig  \\\n",
       "0      2   30       2       1           2       2       2        2        1   \n",
       "1      2   50       1       1           2       1       2        2        1   \n",
       "2      2   78       1       2           2       1       2        2        2   \n",
       "3      2   31       1       ?           1       2       2        2        2   \n",
       "4      2   34       1       2           2       2       2        2        2   \n",
       "5      2   34       1       2           2       2       2        2        2   \n",
       "6      1   51       1       1           2       1       2        1        2   \n",
       "7      2   23       1       2           2       2       2        2        2   \n",
       "8      2   39       1       2           2       1       2        2        2   \n",
       "9      2   30       1       2           2       2       2        2        2   \n",
       "\n",
       "  LiverFirm SpleenPalpable Spiders Ascites Varices Bilirubin AlkPhosphate  \\\n",
       "0         2              2       2       2       2      1.00           85   \n",
       "1         2              2       2       2       2      0.90          135   \n",
       "2         2              2       2       2       2      0.70           96   \n",
       "3         2              2       2       2       2      0.70           46   \n",
       "4         2              2       2       2       2      1.00            ?   \n",
       "5         2              2       2       2       2      0.90           95   \n",
       "6         2              1       1       2       2         ?            ?   \n",
       "7         2              2       2       2       2      1.00            ?   \n",
       "8         1              2       2       2       2      0.70            ?   \n",
       "9         2              2       2       2       2      1.00            ?   \n",
       "\n",
       "  SGOT Albumin Protime  Histology  \n",
       "0   18     4.0       ?          1  \n",
       "1   42     3.5       ?          1  \n",
       "2   32     4.0       ?          1  \n",
       "3   52     4.0      80          1  \n",
       "4  200     4.0       ?          1  \n",
       "5   28     4.0      75          1  \n",
       "6    ?       ?       ?          1  \n",
       "7    ?       ?       ?          1  \n",
       "8   48     4.4       ?          1  \n",
       "9  120     3.9       ?          1  "
      ]
     },
     "execution_count": 3,
     "metadata": {},
     "output_type": "execute_result"
    }
   ],
   "source": [
    "# Carregando o arquivo \"hepatite.data\":\n",
    "# Definindo os nomes das variáveis (features):\n",
    "features = ['Class','Age','Gender','Steroid','Antivirals','Fatigue','Malaise','Anorexia','LiverBig',\n",
    "            'LiverFirm','SpleenPalpable','Spiders','Ascites','Varices','Bilirubin','AlkPhosphate','SGOT',\n",
    "            'Albumin','Protime','Histology']\n",
    "\n",
    "# Lendo os dados e criando um data frame:\n",
    "df_data = pd.read_csv(\n",
    "    filepath_or_buffer=DATA_FILE_PATH,\n",
    "    names = features,\n",
    "    sep = ',',\n",
    "    encoding = 'latin-1'\n",
    ")\n",
    "\n",
    "# Visualizando os primeiros registros:\n",
    "df_data.head(10)"
   ]
  },
  {
   "cell_type": "code",
   "execution_count": 4,
   "metadata": {},
   "outputs": [
    {
     "name": "stdout",
     "output_type": "stream",
     "text": [
      "O dataset possui 155 linhas e 20 colunas.\n"
     ]
    }
   ],
   "source": [
    "# Shape dos dados:\n",
    "print(\"O dataset possui {} linhas e {} colunas.\".format(df_data.shape[0], df_data.shape[1]))"
   ]
  },
  {
   "cell_type": "markdown",
   "metadata": {},
   "source": [
    "**Análise:**\n",
    "\n",
    "1. a primeira coluna (`Class`) do conjuto de dados representa a nossa variável **target**, ou seja, a variável que será prevista pelo modelo preditivo;\n",
    "\n",
    "2. observe que algumas variáveis apresentam valores iguais a **`?`**, ou seja, vamos considerar como sendo **missing values** (valores ausentes)."
   ]
  },
  {
   "cell_type": "markdown",
   "metadata": {},
   "source": [
    "## <font color='blue'>3- Analisar informações duplicadas no *dataset*</font>"
   ]
  },
  {
   "cell_type": "code",
   "execution_count": 5,
   "metadata": {},
   "outputs": [
    {
     "name": "stdout",
     "output_type": "stream",
     "text": [
      "Número de linhas duplicadas no dataset: 0\n"
     ]
    }
   ],
   "source": [
    "# Verificando se existem registros/linhas duplicadas no Data Frame \"df_data\":\n",
    "# Checando se temos linhas duplicadas:\n",
    "index = df_data.duplicated()\n",
    "print(\"Número de linhas duplicadas no dataset: {}\".format(df_data[index].shape[0]))"
   ]
  },
  {
   "cell_type": "code",
   "execution_count": 6,
   "metadata": {},
   "outputs": [
    {
     "name": "stdout",
     "output_type": "stream",
     "text": [
      "Número de colunas duplicadas no dataset: 0\n"
     ]
    }
   ],
   "source": [
    "# Verificando se existem colunas duplicadas no Data Frame \"df_data\":\n",
    "cols = list(df_data.columns)\n",
    "dup_cols = [x for x in cols if cols.count(x) > 1]\n",
    "print(\"Número de colunas duplicadas no dataset: {}\".format(len(dup_cols)))"
   ]
  },
  {
   "cell_type": "markdown",
   "metadata": {},
   "source": [
    "**Análise:** o conjuto de dados **não possui informações duplicadas**."
   ]
  },
  {
   "cell_type": "markdown",
   "metadata": {},
   "source": [
    "## <font color='blue'>4- Analisar se existem *missing values* (*`NaN`*) no *dataset*</font>"
   ]
  },
  {
   "cell_type": "code",
   "execution_count": 7,
   "metadata": {
    "scrolled": true
   },
   "outputs": [
    {
     "name": "stdout",
     "output_type": "stream",
     "text": [
      "Número de valores ausentes (NaN) no dataset: 0\n"
     ]
    }
   ],
   "source": [
    "# Verificando se existem valores ausentes no Data Frame \"df_data\":\n",
    "print(\"Número de valores ausentes (NaN) no dataset: {}\".format(df_data.isnull().sum().sum()))"
   ]
  },
  {
   "cell_type": "markdown",
   "metadata": {},
   "source": [
    "**Análise:** o conjuto de dados **não possui valores ausentes (`NaN`)**. Entretanto, temos valores iguais a **`?`** que serão considerados valores ausentes e por isso deverão ser tratados."
   ]
  },
  {
   "cell_type": "markdown",
   "metadata": {},
   "source": [
    "## <font color='blue'>5- Criando os *datasets*: treino (`df_train`) e teste (`df_test`)</font>"
   ]
  },
  {
   "cell_type": "markdown",
   "metadata": {},
   "source": [
    "Como o nosso dataset é pequeno (tanto em número de observações quanto em relação ao número de atributos), se utilizarmos um método de amostragem puramente aleatório correremos o risco do resultado apresentar um viés significativo de amostragem. Portanto, utilizaremos o método de *amostragem estratificada*, utilizando a nossa variável target (**`Class`**), para termos as mesmas proporções de classes (**1, 2**) nos dois conjuntos de dados (treino e teste) gerados.\n",
    "\n",
    "***amostragem estratificada***: a população é dividida em subgrupos homogêneos, chamados de *estratos*, e o número certo de instâncias de cada estrato é amostrado para garantir que o conjunto de testes seja representativo da população em geral."
   ]
  },
  {
   "cell_type": "markdown",
   "metadata": {},
   "source": [
    "Vamos comparar os dois métodos de amostragem: ***aleatório x estratificado***"
   ]
  },
  {
   "cell_type": "markdown",
   "metadata": {},
   "source": [
    "Primeiro, vamos criar um conjunto de dados de teste utilizando o método `sample`, ou seja, utilizando o método de ***amostragem puramente aleatória***:"
   ]
  },
  {
   "cell_type": "code",
   "execution_count": 8,
   "metadata": {},
   "outputs": [],
   "source": [
    "# Criando os datasets de treino e teste através de amostragem puramente aleatória:\n",
    "# Embaralhando os dados de forma aleatória:\n",
    "df_data_temp = df_data.sample(n = len(df_data), random_state=SEED, ignore_index=True)\n",
    "\n",
    "# Selecionando 20% para os dados de teste:\n",
    "random_test_set = df_data_temp.sample(frac = 0.2, random_state=SEED)\n",
    "# Selecionando 80% para os dados de treino:\n",
    "random_train_set = df_data_temp.drop(random_test_set.index)"
   ]
  },
  {
   "cell_type": "markdown",
   "metadata": {},
   "source": [
    "Agora, vamos análisar as proporções de cada categoria da variável **`Class`** nos conjuntos de dados completo (*df_data*), de treino (*random_train_set*) e de teste (*random_train_set*):"
   ]
  },
  {
   "cell_type": "code",
   "execution_count": 9,
   "metadata": {},
   "outputs": [
    {
     "data": {
      "text/html": [
       "<div>\n",
       "<style scoped>\n",
       "    .dataframe tbody tr th:only-of-type {\n",
       "        vertical-align: middle;\n",
       "    }\n",
       "\n",
       "    .dataframe tbody tr th {\n",
       "        vertical-align: top;\n",
       "    }\n",
       "\n",
       "    .dataframe thead th {\n",
       "        text-align: right;\n",
       "    }\n",
       "</style>\n",
       "<table border=\"1\" class=\"dataframe\">\n",
       "  <thead>\n",
       "    <tr style=\"text-align: right;\">\n",
       "      <th></th>\n",
       "      <th>Original Set</th>\n",
       "      <th>Random Train Set</th>\n",
       "      <th>Random Test Set</th>\n",
       "    </tr>\n",
       "  </thead>\n",
       "  <tbody>\n",
       "    <tr>\n",
       "      <th>2</th>\n",
       "      <td>0.793548</td>\n",
       "      <td>0.766129</td>\n",
       "      <td>0.903226</td>\n",
       "    </tr>\n",
       "    <tr>\n",
       "      <th>1</th>\n",
       "      <td>0.206452</td>\n",
       "      <td>0.233871</td>\n",
       "      <td>0.096774</td>\n",
       "    </tr>\n",
       "  </tbody>\n",
       "</table>\n",
       "</div>"
      ],
      "text/plain": [
       "   Original Set  Random Train Set  Random Test Set\n",
       "2      0.793548          0.766129         0.903226\n",
       "1      0.206452          0.233871         0.096774"
      ]
     },
     "execution_count": 9,
     "metadata": {},
     "output_type": "execute_result"
    }
   ],
   "source": [
    "# Calculando as proporções de cada categoria nos 3 conjuntos de dados:\n",
    "proportions_cat = pd.DataFrame(\n",
    "    {'Original Set': df_data[\"Class\"].value_counts() / len(df_data),\n",
    "     'Random Train Set': random_train_set[\"Class\"].value_counts() / len(random_train_set),\n",
    "     'Random Test Set': random_test_set[\"Class\"].value_counts() / len(random_test_set)\n",
    "    }\n",
    ")\n",
    "\n",
    "proportions_cat       "
   ]
  },
  {
   "cell_type": "markdown",
   "metadata": {},
   "source": [
    "**Análise:** observe que as proporções de cada *classe* (**1, 2**) não são iguais nos três *datasets*!"
   ]
  },
  {
   "cell_type": "markdown",
   "metadata": {},
   "source": [
    "Agora, vamos criar o nosso conjunto de dados de teste utilizando o método de ***amostragem estratificada*** com base na categoria da nossa variável target (**`Class`**):"
   ]
  },
  {
   "cell_type": "code",
   "execution_count": 10,
   "metadata": {},
   "outputs": [],
   "source": [
    "# Criando a instância:\n",
    "split = StratifiedShuffleSplit(n_splits=1, test_size=0.2, random_state=SEED)\n",
    "\n",
    "# Criando os datasets de treino e teste utilizando amostragem estratificada:\n",
    "for train_index, test_index in split.split(df_data, df_data[\"Class\"]):\n",
    "    strat_train_set = df_data.loc[train_index]\n",
    "    strat_test_set = df_data.loc[test_index]"
   ]
  },
  {
   "cell_type": "markdown",
   "metadata": {},
   "source": [
    "Agora, vamos análisar as proporções de cada categoria da variável **`Class`** nos conjuntos de dados completo (*df_data*), de treino (*strat_train_set*) e de teste (*strat_train_set*):"
   ]
  },
  {
   "cell_type": "code",
   "execution_count": 11,
   "metadata": {},
   "outputs": [
    {
     "data": {
      "text/html": [
       "<div>\n",
       "<style scoped>\n",
       "    .dataframe tbody tr th:only-of-type {\n",
       "        vertical-align: middle;\n",
       "    }\n",
       "\n",
       "    .dataframe tbody tr th {\n",
       "        vertical-align: top;\n",
       "    }\n",
       "\n",
       "    .dataframe thead th {\n",
       "        text-align: right;\n",
       "    }\n",
       "</style>\n",
       "<table border=\"1\" class=\"dataframe\">\n",
       "  <thead>\n",
       "    <tr style=\"text-align: right;\">\n",
       "      <th></th>\n",
       "      <th>Original Set</th>\n",
       "      <th>Strat Train Set</th>\n",
       "      <th>Strat Test Set</th>\n",
       "    </tr>\n",
       "  </thead>\n",
       "  <tbody>\n",
       "    <tr>\n",
       "      <th>2</th>\n",
       "      <td>0.793548</td>\n",
       "      <td>0.790323</td>\n",
       "      <td>0.806452</td>\n",
       "    </tr>\n",
       "    <tr>\n",
       "      <th>1</th>\n",
       "      <td>0.206452</td>\n",
       "      <td>0.209677</td>\n",
       "      <td>0.193548</td>\n",
       "    </tr>\n",
       "  </tbody>\n",
       "</table>\n",
       "</div>"
      ],
      "text/plain": [
       "   Original Set  Strat Train Set  Strat Test Set\n",
       "2      0.793548         0.790323        0.806452\n",
       "1      0.206452         0.209677        0.193548"
      ]
     },
     "execution_count": 11,
     "metadata": {},
     "output_type": "execute_result"
    }
   ],
   "source": [
    "# Calculando as proporções de cada categoria nos 3 conjuntos de dados:\n",
    "proportions_cat = pd.DataFrame(\n",
    "    {'Original Set': df_data[\"Class\"].value_counts() / len(df_data),\n",
    "     'Strat Train Set': strat_train_set[\"Class\"].value_counts() / len(strat_train_set),\n",
    "     'Strat Test Set': strat_test_set[\"Class\"].value_counts() / len(strat_test_set)\n",
    "    }\n",
    ")\n",
    "\n",
    "proportions_cat                            "
   ]
  },
  {
   "cell_type": "markdown",
   "metadata": {},
   "source": [
    "**Análise:** observe que as proporções de cada *classe* (**1, 2**) são praticamente iguais nos três *datasets*!"
   ]
  },
  {
   "cell_type": "markdown",
   "metadata": {},
   "source": [
    "Vamos comparar as proporções de cada categoria da variável **`Class`** no conjunto de dados completo (**df_data**), no conjunto de teste gerado com a amostragem estratificada (**strat_test_set**), e em um conjunto de teste gerado a partir da amostragem puramente aleatória (**test_set**):"
   ]
  },
  {
   "cell_type": "code",
   "execution_count": 12,
   "metadata": {},
   "outputs": [],
   "source": [
    "# Definindo uma função para calcular as proporções de cada categoria da variável target \"Class\":\n",
    "def data_cat_proportions(data):\n",
    "    return data[\"Class\"].value_counts() / len(data)\n",
    "\n",
    "# Criando um Data Frame para comparação de viés de amostragem estratificada versus amostragem aleatória: \n",
    "compare_props = pd.DataFrame({\n",
    "    \"Overall\": data_cat_proportions(df_data),\n",
    "    \"Stratified\": data_cat_proportions(strat_test_set),\n",
    "    \"Random\": data_cat_proportions(random_test_set),\n",
    "}).sort_index()\n",
    "\n",
    "# Calculando a taxa de erro da amostragem aleatória:\n",
    "compare_props[\"Rand. %error\"] = 100 * compare_props[\"Random\"] / compare_props[\"Overall\"] - 100\n",
    "\n",
    "# Calculando a taxa de erro da amostragem estratificada:\n",
    "compare_props[\"Strat. %error\"] = 100 * compare_props[\"Stratified\"] / compare_props[\"Overall\"] - 100"
   ]
  },
  {
   "cell_type": "code",
   "execution_count": 13,
   "metadata": {},
   "outputs": [
    {
     "data": {
      "text/html": [
       "<div>\n",
       "<style scoped>\n",
       "    .dataframe tbody tr th:only-of-type {\n",
       "        vertical-align: middle;\n",
       "    }\n",
       "\n",
       "    .dataframe tbody tr th {\n",
       "        vertical-align: top;\n",
       "    }\n",
       "\n",
       "    .dataframe thead th {\n",
       "        text-align: right;\n",
       "    }\n",
       "</style>\n",
       "<table border=\"1\" class=\"dataframe\">\n",
       "  <thead>\n",
       "    <tr style=\"text-align: right;\">\n",
       "      <th></th>\n",
       "      <th>Overall</th>\n",
       "      <th>Stratified</th>\n",
       "      <th>Random</th>\n",
       "      <th>Rand. %error</th>\n",
       "      <th>Strat. %error</th>\n",
       "    </tr>\n",
       "  </thead>\n",
       "  <tbody>\n",
       "    <tr>\n",
       "      <th>1</th>\n",
       "      <td>0.206452</td>\n",
       "      <td>0.193548</td>\n",
       "      <td>0.096774</td>\n",
       "      <td>-53.125000</td>\n",
       "      <td>-6.250000</td>\n",
       "    </tr>\n",
       "    <tr>\n",
       "      <th>2</th>\n",
       "      <td>0.793548</td>\n",
       "      <td>0.806452</td>\n",
       "      <td>0.903226</td>\n",
       "      <td>13.821138</td>\n",
       "      <td>1.626016</td>\n",
       "    </tr>\n",
       "  </tbody>\n",
       "</table>\n",
       "</div>"
      ],
      "text/plain": [
       "    Overall  Stratified    Random  Rand. %error  Strat. %error\n",
       "1  0.206452    0.193548  0.096774    -53.125000      -6.250000\n",
       "2  0.793548    0.806452  0.903226     13.821138       1.626016"
      ]
     },
     "execution_count": 13,
     "metadata": {},
     "output_type": "execute_result"
    }
   ],
   "source": [
    "# Visualizando os resultados:\n",
    "compare_props"
   ]
  },
  {
   "cell_type": "markdown",
   "metadata": {},
   "source": [
    "Como podemos observar nos resultados acima, o conjunto de teste gerado com a utilização da amostragem estratificada (**Stratified**) têm proporções de cada categoria (variável **`Class`**) praticamente iguais às do conjunto completo de dados (**Overall**), enquanto que no conjunto de testes gerado com amostragem puramente aleatória (**Random**) as proporções são bastantes distorcidas, ou seja, as taxas de erro são bem maiores."
   ]
  },
  {
   "cell_type": "code",
   "execution_count": 14,
   "metadata": {},
   "outputs": [
    {
     "data": {
      "text/html": [
       "<div>\n",
       "<style scoped>\n",
       "    .dataframe tbody tr th:only-of-type {\n",
       "        vertical-align: middle;\n",
       "    }\n",
       "\n",
       "    .dataframe tbody tr th {\n",
       "        vertical-align: top;\n",
       "    }\n",
       "\n",
       "    .dataframe thead th {\n",
       "        text-align: right;\n",
       "    }\n",
       "</style>\n",
       "<table border=\"1\" class=\"dataframe\">\n",
       "  <thead>\n",
       "    <tr style=\"text-align: right;\">\n",
       "      <th></th>\n",
       "      <th>Class</th>\n",
       "      <th>Age</th>\n",
       "      <th>Gender</th>\n",
       "      <th>Steroid</th>\n",
       "      <th>Antivirals</th>\n",
       "      <th>Fatigue</th>\n",
       "      <th>Malaise</th>\n",
       "      <th>Anorexia</th>\n",
       "      <th>LiverBig</th>\n",
       "      <th>LiverFirm</th>\n",
       "      <th>SpleenPalpable</th>\n",
       "      <th>Spiders</th>\n",
       "      <th>Ascites</th>\n",
       "      <th>Varices</th>\n",
       "      <th>Bilirubin</th>\n",
       "      <th>AlkPhosphate</th>\n",
       "      <th>SGOT</th>\n",
       "      <th>Albumin</th>\n",
       "      <th>Protime</th>\n",
       "      <th>Histology</th>\n",
       "    </tr>\n",
       "  </thead>\n",
       "  <tbody>\n",
       "    <tr>\n",
       "      <th>0</th>\n",
       "      <td>1</td>\n",
       "      <td>48</td>\n",
       "      <td>1</td>\n",
       "      <td>1</td>\n",
       "      <td>2</td>\n",
       "      <td>1</td>\n",
       "      <td>1</td>\n",
       "      <td>2</td>\n",
       "      <td>2</td>\n",
       "      <td>1</td>\n",
       "      <td>2</td>\n",
       "      <td>1</td>\n",
       "      <td>1</td>\n",
       "      <td>1</td>\n",
       "      <td>4.80</td>\n",
       "      <td>123</td>\n",
       "      <td>157</td>\n",
       "      <td>2.7</td>\n",
       "      <td>31</td>\n",
       "      <td>2</td>\n",
       "    </tr>\n",
       "    <tr>\n",
       "      <th>1</th>\n",
       "      <td>2</td>\n",
       "      <td>39</td>\n",
       "      <td>1</td>\n",
       "      <td>1</td>\n",
       "      <td>1</td>\n",
       "      <td>2</td>\n",
       "      <td>2</td>\n",
       "      <td>2</td>\n",
       "      <td>1</td>\n",
       "      <td>1</td>\n",
       "      <td>2</td>\n",
       "      <td>2</td>\n",
       "      <td>2</td>\n",
       "      <td>2</td>\n",
       "      <td>1.30</td>\n",
       "      <td>78</td>\n",
       "      <td>30</td>\n",
       "      <td>4.4</td>\n",
       "      <td>85</td>\n",
       "      <td>1</td>\n",
       "    </tr>\n",
       "    <tr>\n",
       "      <th>2</th>\n",
       "      <td>2</td>\n",
       "      <td>20</td>\n",
       "      <td>2</td>\n",
       "      <td>1</td>\n",
       "      <td>2</td>\n",
       "      <td>1</td>\n",
       "      <td>1</td>\n",
       "      <td>1</td>\n",
       "      <td>1</td>\n",
       "      <td>1</td>\n",
       "      <td>1</td>\n",
       "      <td>1</td>\n",
       "      <td>2</td>\n",
       "      <td>2</td>\n",
       "      <td>2.30</td>\n",
       "      <td>150</td>\n",
       "      <td>68</td>\n",
       "      <td>3.9</td>\n",
       "      <td>?</td>\n",
       "      <td>1</td>\n",
       "    </tr>\n",
       "    <tr>\n",
       "      <th>3</th>\n",
       "      <td>2</td>\n",
       "      <td>34</td>\n",
       "      <td>2</td>\n",
       "      <td>1</td>\n",
       "      <td>1</td>\n",
       "      <td>2</td>\n",
       "      <td>2</td>\n",
       "      <td>2</td>\n",
       "      <td>2</td>\n",
       "      <td>1</td>\n",
       "      <td>2</td>\n",
       "      <td>2</td>\n",
       "      <td>2</td>\n",
       "      <td>2</td>\n",
       "      <td>0.60</td>\n",
       "      <td>30</td>\n",
       "      <td>24</td>\n",
       "      <td>4.0</td>\n",
       "      <td>76</td>\n",
       "      <td>1</td>\n",
       "    </tr>\n",
       "    <tr>\n",
       "      <th>4</th>\n",
       "      <td>2</td>\n",
       "      <td>58</td>\n",
       "      <td>2</td>\n",
       "      <td>2</td>\n",
       "      <td>2</td>\n",
       "      <td>1</td>\n",
       "      <td>2</td>\n",
       "      <td>2</td>\n",
       "      <td>2</td>\n",
       "      <td>1</td>\n",
       "      <td>2</td>\n",
       "      <td>1</td>\n",
       "      <td>2</td>\n",
       "      <td>2</td>\n",
       "      <td>1.40</td>\n",
       "      <td>175</td>\n",
       "      <td>55</td>\n",
       "      <td>2.7</td>\n",
       "      <td>36</td>\n",
       "      <td>1</td>\n",
       "    </tr>\n",
       "  </tbody>\n",
       "</table>\n",
       "</div>"
      ],
      "text/plain": [
       "   Class  Age  Gender Steroid  Antivirals Fatigue Malaise Anorexia LiverBig  \\\n",
       "0      1   48       1       1           2       1       1        2        2   \n",
       "1      2   39       1       1           1       2       2        2        1   \n",
       "2      2   20       2       1           2       1       1        1        1   \n",
       "3      2   34       2       1           1       2       2        2        2   \n",
       "4      2   58       2       2           2       1       2        2        2   \n",
       "\n",
       "  LiverFirm SpleenPalpable Spiders Ascites Varices Bilirubin AlkPhosphate  \\\n",
       "0         1              2       1       1       1      4.80          123   \n",
       "1         1              2       2       2       2      1.30           78   \n",
       "2         1              1       1       2       2      2.30          150   \n",
       "3         1              2       2       2       2      0.60           30   \n",
       "4         1              2       1       2       2      1.40          175   \n",
       "\n",
       "  SGOT Albumin Protime  Histology  \n",
       "0  157     2.7      31          2  \n",
       "1   30     4.4      85          1  \n",
       "2   68     3.9       ?          1  \n",
       "3   24     4.0      76          1  \n",
       "4   55     2.7      36          1  "
      ]
     },
     "execution_count": 14,
     "metadata": {},
     "output_type": "execute_result"
    }
   ],
   "source": [
    "# Reset no índice do data frame de treinamento:\n",
    "strat_train_set.reset_index(drop=True, inplace=True)\n",
    "\n",
    "# Visualizando as primeiras instâncias do dataset de treino (strat_train_set):\n",
    "strat_train_set.head()"
   ]
  },
  {
   "cell_type": "code",
   "execution_count": 15,
   "metadata": {},
   "outputs": [
    {
     "data": {
      "text/html": [
       "<div>\n",
       "<style scoped>\n",
       "    .dataframe tbody tr th:only-of-type {\n",
       "        vertical-align: middle;\n",
       "    }\n",
       "\n",
       "    .dataframe tbody tr th {\n",
       "        vertical-align: top;\n",
       "    }\n",
       "\n",
       "    .dataframe thead th {\n",
       "        text-align: right;\n",
       "    }\n",
       "</style>\n",
       "<table border=\"1\" class=\"dataframe\">\n",
       "  <thead>\n",
       "    <tr style=\"text-align: right;\">\n",
       "      <th></th>\n",
       "      <th>Class</th>\n",
       "      <th>Age</th>\n",
       "      <th>Gender</th>\n",
       "      <th>Steroid</th>\n",
       "      <th>Antivirals</th>\n",
       "      <th>Fatigue</th>\n",
       "      <th>Malaise</th>\n",
       "      <th>Anorexia</th>\n",
       "      <th>LiverBig</th>\n",
       "      <th>LiverFirm</th>\n",
       "      <th>SpleenPalpable</th>\n",
       "      <th>Spiders</th>\n",
       "      <th>Ascites</th>\n",
       "      <th>Varices</th>\n",
       "      <th>Bilirubin</th>\n",
       "      <th>AlkPhosphate</th>\n",
       "      <th>SGOT</th>\n",
       "      <th>Albumin</th>\n",
       "      <th>Protime</th>\n",
       "      <th>Histology</th>\n",
       "    </tr>\n",
       "  </thead>\n",
       "  <tbody>\n",
       "    <tr>\n",
       "      <th>0</th>\n",
       "      <td>2</td>\n",
       "      <td>51</td>\n",
       "      <td>1</td>\n",
       "      <td>2</td>\n",
       "      <td>2</td>\n",
       "      <td>1</td>\n",
       "      <td>2</td>\n",
       "      <td>2</td>\n",
       "      <td>2</td>\n",
       "      <td>1</td>\n",
       "      <td>1</td>\n",
       "      <td>1</td>\n",
       "      <td>2</td>\n",
       "      <td>1</td>\n",
       "      <td>1.00</td>\n",
       "      <td>?</td>\n",
       "      <td>20</td>\n",
       "      <td>3.0</td>\n",
       "      <td>63</td>\n",
       "      <td>2</td>\n",
       "    </tr>\n",
       "    <tr>\n",
       "      <th>1</th>\n",
       "      <td>2</td>\n",
       "      <td>27</td>\n",
       "      <td>1</td>\n",
       "      <td>2</td>\n",
       "      <td>2</td>\n",
       "      <td>1</td>\n",
       "      <td>1</td>\n",
       "      <td>1</td>\n",
       "      <td>1</td>\n",
       "      <td>1</td>\n",
       "      <td>1</td>\n",
       "      <td>1</td>\n",
       "      <td>2</td>\n",
       "      <td>2</td>\n",
       "      <td>1.20</td>\n",
       "      <td>133</td>\n",
       "      <td>98</td>\n",
       "      <td>4.1</td>\n",
       "      <td>39</td>\n",
       "      <td>1</td>\n",
       "    </tr>\n",
       "    <tr>\n",
       "      <th>2</th>\n",
       "      <td>2</td>\n",
       "      <td>54</td>\n",
       "      <td>1</td>\n",
       "      <td>1</td>\n",
       "      <td>2</td>\n",
       "      <td>1</td>\n",
       "      <td>1</td>\n",
       "      <td>2</td>\n",
       "      <td>2</td>\n",
       "      <td>2</td>\n",
       "      <td>2</td>\n",
       "      <td>2</td>\n",
       "      <td>1</td>\n",
       "      <td>2</td>\n",
       "      <td>1.20</td>\n",
       "      <td>85</td>\n",
       "      <td>92</td>\n",
       "      <td>3.1</td>\n",
       "      <td>66</td>\n",
       "      <td>2</td>\n",
       "    </tr>\n",
       "    <tr>\n",
       "      <th>3</th>\n",
       "      <td>1</td>\n",
       "      <td>56</td>\n",
       "      <td>1</td>\n",
       "      <td>1</td>\n",
       "      <td>2</td>\n",
       "      <td>1</td>\n",
       "      <td>1</td>\n",
       "      <td>1</td>\n",
       "      <td>1</td>\n",
       "      <td>1</td>\n",
       "      <td>2</td>\n",
       "      <td>1</td>\n",
       "      <td>2</td>\n",
       "      <td>2</td>\n",
       "      <td>2.90</td>\n",
       "      <td>90</td>\n",
       "      <td>153</td>\n",
       "      <td>4.0</td>\n",
       "      <td>?</td>\n",
       "      <td>2</td>\n",
       "    </tr>\n",
       "    <tr>\n",
       "      <th>4</th>\n",
       "      <td>2</td>\n",
       "      <td>47</td>\n",
       "      <td>1</td>\n",
       "      <td>1</td>\n",
       "      <td>1</td>\n",
       "      <td>2</td>\n",
       "      <td>2</td>\n",
       "      <td>2</td>\n",
       "      <td>2</td>\n",
       "      <td>2</td>\n",
       "      <td>2</td>\n",
       "      <td>2</td>\n",
       "      <td>2</td>\n",
       "      <td>2</td>\n",
       "      <td>?</td>\n",
       "      <td>?</td>\n",
       "      <td>60</td>\n",
       "      <td>?</td>\n",
       "      <td>?</td>\n",
       "      <td>1</td>\n",
       "    </tr>\n",
       "  </tbody>\n",
       "</table>\n",
       "</div>"
      ],
      "text/plain": [
       "   Class  Age  Gender Steroid  Antivirals Fatigue Malaise Anorexia LiverBig  \\\n",
       "0      2   51       1       2           2       1       2        2        2   \n",
       "1      2   27       1       2           2       1       1        1        1   \n",
       "2      2   54       1       1           2       1       1        2        2   \n",
       "3      1   56       1       1           2       1       1        1        1   \n",
       "4      2   47       1       1           1       2       2        2        2   \n",
       "\n",
       "  LiverFirm SpleenPalpable Spiders Ascites Varices Bilirubin AlkPhosphate  \\\n",
       "0         1              1       1       2       1      1.00            ?   \n",
       "1         1              1       1       2       2      1.20          133   \n",
       "2         2              2       2       1       2      1.20           85   \n",
       "3         1              2       1       2       2      2.90           90   \n",
       "4         2              2       2       2       2         ?            ?   \n",
       "\n",
       "  SGOT Albumin Protime  Histology  \n",
       "0   20     3.0      63          2  \n",
       "1   98     4.1      39          1  \n",
       "2   92     3.1      66          2  \n",
       "3  153     4.0       ?          2  \n",
       "4   60       ?       ?          1  "
      ]
     },
     "execution_count": 15,
     "metadata": {},
     "output_type": "execute_result"
    }
   ],
   "source": [
    "# Reset no índice do data frame de teste:\n",
    "strat_test_set.reset_index(drop=True, inplace=True)\n",
    "\n",
    "# Visualizando as primeiras instâncias do dataset de teste (strat_test_set):\n",
    "strat_test_set.head()"
   ]
  },
  {
   "cell_type": "code",
   "execution_count": 16,
   "metadata": {},
   "outputs": [
    {
     "name": "stdout",
     "output_type": "stream",
     "text": [
      "O conjunto de dados de treino possui 124 linhas (80%).\n",
      "O conjunto de dados de teste possui 31 linhas (20%).\n"
     ]
    }
   ],
   "source": [
    "# Verificando a quantidade de registros em cada dataset (treino e teste):\n",
    "print(\"O conjunto de dados de treino possui {} linhas ({}%).\".format(len(strat_train_set),\n",
    "      int(len(strat_train_set)/len(df_data)*100)))\n",
    "print(\"O conjunto de dados de teste possui {} linhas ({}%).\".format(len(strat_test_set),\n",
    "      int(len(strat_test_set)/len(df_data)*100)))"
   ]
  },
  {
   "cell_type": "markdown",
   "metadata": {},
   "source": [
    "## <font color='blue'>6- Salvando os *data frames*: treino (`strat_train_set`) e teste (`strat_test_set`)</font>"
   ]
  },
  {
   "cell_type": "markdown",
   "metadata": {},
   "source": [
    "Agora, vamos salvar os *data frames* de treino (`start_train_set`) e teste `strat_test_set`), que serão utilizados nas próximas etapas, a saber:\n",
    "\n",
    "1. **`strat_train_set.pkl`:** é o *data frame* de treino criado por **amostragem estratificada** a partir do data frame `df_data`;\n",
    "\n",
    "2. **`strat_test_set.pkl`:** é o *data frame* de teste criado por **amostragem estratificada** a partir do data frame `df_data`."
   ]
  },
  {
   "cell_type": "code",
   "execution_count": 17,
   "metadata": {},
   "outputs": [
    {
     "name": "stdout",
     "output_type": "stream",
     "text": [
      "O arquivo 'strat_train_set.pkl' (data frame) foi salvo com sucesso!\n",
      "O arquivo 'strat_test_set.pkl' (data frame) foi salvo com sucesso!\n"
     ]
    }
   ],
   "source": [
    "# Salvando o data frame \"strat_train_set\":\n",
    "dslib.pickle_object_save (\n",
    "    path=DATA_PATH, file=\"strat_train_set.pkl\", object_name=strat_train_set,\n",
    "    msg=\"O arquivo 'strat_train_set.pkl' (data frame) foi salvo com sucesso!\")\n",
    "\n",
    "# Salvando o data frame \"strat_train_set\":\n",
    "dslib.pickle_object_save (\n",
    "    path=DATA_PATH, file=\"strat_test_set.pkl\", object_name=strat_test_set,\n",
    "    msg=\"O arquivo 'strat_test_set.pkl' (data frame) foi salvo com sucesso!\")"
   ]
  },
  {
   "cell_type": "markdown",
   "metadata": {},
   "source": [
    "**Comentários:** concluímos a etapa de **compreensão dos dados**, onde criamos os nosso conjuntos de dados de treino (**strat_train_set.pkl**) e de teste (**strat_test_set.pkl**) que serão utilizados nas próximas etapas do projeto."
   ]
  },
  {
   "cell_type": "markdown",
   "metadata": {},
   "source": [
    "## <font color='blue'>FIM</font>"
   ]
  }
 ],
 "metadata": {
  "kernelspec": {
   "display_name": "Python 3 (ipykernel)",
   "language": "python",
   "name": "python3"
  },
  "language_info": {
   "codemirror_mode": {
    "name": "ipython",
    "version": 3
   },
   "file_extension": ".py",
   "mimetype": "text/x-python",
   "name": "python",
   "nbconvert_exporter": "python",
   "pygments_lexer": "ipython3",
   "version": "3.8.12"
  }
 },
 "nbformat": 4,
 "nbformat_minor": 2
}
