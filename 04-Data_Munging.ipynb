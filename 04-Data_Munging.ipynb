{
 "cells": [
  {
   "cell_type": "markdown",
   "metadata": {},
   "source": [
    "***\n",
    "# `Project:` Prevendo a <font color='blue'>morte</font> ou <font color='blue'>vida</font> de pacientes com hepatite\n",
    "\n",
    "## `Date:` fevereiro, 2022\n",
    "\n",
    "## `Data Scientist:` Walter Trevisan\n",
    "***"
   ]
  },
  {
   "cell_type": "markdown",
   "metadata": {},
   "source": [
    "# `Preparação dos Dados-Etapa 4`\n",
    "\n",
    "Nesta etapa, vamos realizar a **`Preparação dos Dados`** dos dados, utilizando os *dataframes* de treinamento e teste que foram salvos nos arquivos **`train_set.pkl`** e **`strat_test_set.pkl`** respectivamente.\n",
    "\n",
    "Então, vamos realizar as seguintes atividades:\n",
    "\n",
    "1. **Carregar** o *object* utilizado no processo de **imputação multivariada**, salvo no arquivo **`imputer_mv.pkl`**;\n",
    "\n",
    "2. **Carregar** o *object* utilizado no processo de **imputação univariada**, salvo no arquivo **`imputer_cat.pkl`**;\n",
    "\n",
    "3. **Carregar** e **preparar** o *dataframe* de treinamento, salvo no arquivo **`train_set.pkl`**;\n",
    "\n",
    "4. **Carregar** e **preparar** o *dataframe* de teste, salvo no arquivo **`strat_test_set.pkl`**;\n",
    "\n",
    "5. **Realizar** **`Feature Engineering`** para preparar os dados de acordo com alguns cenários (versões) definidos para a etapa de *modelagem*;\n",
    "\n",
    "6. **Salvar** os *dataframes* com os dados de treinamento e teste, de acordo com alguns cenários (versões) definidos para a etapa de *modelagem*."
   ]
  },
  {
   "cell_type": "markdown",
   "metadata": {},
   "source": [
    "## Setup:\n",
    "\n",
    "Primeiro, vamos carregar os **pacotes e funções** que serão utilizadas neste **notebook**."
   ]
  },
  {
   "cell_type": "code",
   "execution_count": 1,
   "metadata": {},
   "outputs": [
    {
     "name": "stdout",
     "output_type": "stream",
     "text": [
      "Setup Complete!\n"
     ]
    }
   ],
   "source": [
    "# As novas versões do Pandas e Matplotlib trazem diversas mensagens de aviso ao desenvolvedor.\n",
    "# Então, vamos desativar essas mensagens.\n",
    "import sys # O pacote \"sys\" permite manipulações com o sistema operacional:\n",
    "import os  # Operation System (Packages and Functions)\n",
    "import warnings\n",
    "if not sys.warnoptions:\n",
    "    warnings.simplefilter(\"ignore\")\n",
    "warnings.simplefilter(action='ignore', category=FutureWarning)\n",
    "warnings.filterwarnings(\"ignore\", category=FutureWarning)\n",
    "\n",
    "# Importa função para verificarmos a versão da linguagem python:\n",
    "from platform import python_version\n",
    "\n",
    "# Importando o pacote NumPy:\n",
    "import numpy as np\n",
    "# Importando o pacote Pandas:\n",
    "import pandas as pd\n",
    "# Importando o pacote Scipy:\n",
    "import scipy\n",
    "\n",
    "# Importando o pacote do Scikit-Learn:\n",
    "import sklearn as skl\n",
    "# Funções para tratamento de outliers:\n",
    "from sklearn.experimental import enable_iterative_imputer\n",
    "from sklearn.impute import IterativeImputer\n",
    "from sklearn.ensemble import ExtraTreesRegressor\n",
    "# Define o \"seed\" para reproduzir os mesmos resultados no tratamento\n",
    "# de valores ausentes para as variáveis numéricas:\n",
    "SEED = 42\n",
    "\n",
    "# Importando pacotes para visualização de gráficos:\n",
    "import matplotlib as mpl\n",
    "import matplotlib.pyplot as plt\n",
    "# Importa o pacote \"seaborn\" para criarmos gráficos estatísticos:\n",
    "import seaborn as sns\n",
    "%matplotlib inline\n",
    "\n",
    "# Definindo o diretório raiz (Root) onde serão armazenados todas as informações\n",
    "# (Imagens, Gráficos, Objetos, Dados, Modelos de ML, etc...) do projeto.\n",
    "# Diretório Raiz (Root) do Projeto:\n",
    "ROOT_DIR = \".\"\n",
    "\n",
    "# Path: onde ficarão armazenados os \"Objetos\" (Estrututras de Dados) relacionados ao Projeto:\n",
    "OBJ_PATH = os.path.join(ROOT_DIR, \"objects\")\n",
    "# Criando o diretório, se ele não existir:\n",
    "os.makedirs(OBJ_PATH, exist_ok=True)\n",
    "\n",
    "# Path: onde ficarão armazenados os \"datasets\" (arquivos \"csv\") e os \"objetos\" (Data Frames) do Projeto:\n",
    "DATA_PATH = os.path.join(ROOT_DIR, \"data\")\n",
    "# Criando o diretório, se ele não existir:\n",
    "os.makedirs(DATA_PATH, exist_ok=True)\n",
    "\n",
    "# Path: onde serão armazenadas as \"Imagens\" (Figuras e Gráficos) do Projeto:\n",
    "GRAPHICS_PATH = os.path.join(ROOT_DIR, \"images\", \"graphics\")\n",
    "# Criando o diretório, se ele não existir:\n",
    "os.makedirs(GRAPHICS_PATH, exist_ok=True)\n",
    "\n",
    "# Path: onde estão armazenadas as classes e funções que serão utilizadas neste notebook:\n",
    "LIB_PATH = os.path.join(ROOT_DIR, \"library\")\n",
    "\n",
    "# Adicionando o diretório \"./library\" ao 'path' do Sistema, para podermos importar classes e funções que serão\n",
    "# utilizadas neste notebook:\n",
    "sys.path.append(LIB_PATH)\n",
    "\n",
    "# Importando para este notebook, as classes e funções definidas no módulo \"data_science_library.py\":\n",
    "import data_science_library as dslib\n",
    "\n",
    "# Importando para este notebook, as classes e funções definidas no módulo \"plot_library.py\":\n",
    "import plot_library as ptlib\n",
    "\n",
    "# Importando para este notebook, as classes e funções definidas no módulo \"project_library.py\":\n",
    "import project_library as pjlib\n",
    "\n",
    "# Criando um objeto para calularmos o tempo gasto no processo de \"imputação múltipla\"\n",
    "# das variáveis numéricas:\n",
    "ept = dslib.ElapsedTime(builder_msg=False)\n",
    "\n",
    "print(\"Setup Complete!\")"
   ]
  },
  {
   "cell_type": "code",
   "execution_count": 2,
   "metadata": {},
   "outputs": [
    {
     "name": "stdout",
     "output_type": "stream",
     "text": [
      "Versões dos pacotes usados neste jupyter notebook:\n",
      "Python      : 3.8.12\n",
      "Numpy       : 1.19.5\n",
      "Pandas      : 1.3.5\n",
      "Scipy       : 1.7.3\n",
      "Matplotlib  : 3.4.3\n",
      "Seaborn     : 0.11.2\n",
      "Scikit-Learn: 1.0.2\n"
     ]
    }
   ],
   "source": [
    "# Versões dos pacotes usados neste jupyter notebook:\n",
    "print(\"Versões dos pacotes usados neste jupyter notebook:\")\n",
    "print(\"Python      : {}\".format(python_version()))\n",
    "print(\"Numpy       : {}\".format(np.__version__))\n",
    "print(\"Pandas      : {}\".format(pd.__version__))\n",
    "print(\"Scipy       : {}\".format(scipy.__version__))\n",
    "print(\"Matplotlib  : {}\".format(mpl.__version__))\n",
    "print(\"Seaborn     : {}\".format(sns.__version__))\n",
    "print(\"Scikit-Learn: {}\".format(skl.__version__))"
   ]
  },
  {
   "cell_type": "markdown",
   "metadata": {},
   "source": [
    "## <font color='blue'>1- Carregar o *objeto* para imputação multivariada: `imputer_mv.pkl`</font>"
   ]
  },
  {
   "cell_type": "code",
   "execution_count": 3,
   "metadata": {},
   "outputs": [
    {
     "name": "stdout",
     "output_type": "stream",
     "text": [
      "O arquivo 'imputer_mv.pkl' (objeto) foi carregado com sucesso!\n"
     ]
    }
   ],
   "source": [
    "# Carregando o objeto \"imputer_mv\" do processo de \"imputação multivariada\" para tratamento dos\n",
    "# valores ausentes:\n",
    "imputer_mv = dslib.pickle_object_load(\n",
    "    path=OBJ_PATH, file=\"imputer_mv.pkl\",\n",
    "    msg=\"O arquivo 'imputer_mv.pkl' (objeto) foi carregado com sucesso!\"\n",
    ")"
   ]
  },
  {
   "cell_type": "markdown",
   "metadata": {},
   "source": [
    "## <font color='blue'>2- Carregar o *objeto* para imputação univariada: `imputer_cat.pkl`</font>"
   ]
  },
  {
   "cell_type": "code",
   "execution_count": 4,
   "metadata": {},
   "outputs": [
    {
     "name": "stdout",
     "output_type": "stream",
     "text": [
      "O arquivo 'imputer_cat.pkl' (objeto) foi carregado com sucesso!\n"
     ]
    }
   ],
   "source": [
    "# Carregando o objeto \"imputer_cat\" do processo de \"imputação univariada\":\n",
    "imputer_cat = dslib.pickle_object_load(\n",
    "    path=OBJ_PATH, file=\"imputer_cat.pkl\",\n",
    "    msg=\"O arquivo 'imputer_cat.pkl' (objeto) foi carregado com sucesso!\"\n",
    ")"
   ]
  },
  {
   "cell_type": "markdown",
   "metadata": {},
   "source": [
    "## <font color='blue'>3- Carregar e preparar o *dataframe* de treinamento: `train_set.pkl`</font>"
   ]
  },
  {
   "cell_type": "code",
   "execution_count": 5,
   "metadata": {},
   "outputs": [
    {
     "name": "stdout",
     "output_type": "stream",
     "text": [
      "O arquivo 'train_set.pkl' (data frame) foi carregado com sucesso!\n"
     ]
    }
   ],
   "source": [
    "# Carregando o objeto (data frame) \"train_set\" (dados de treino):\n",
    "train_df = dslib.pickle_object_load(\n",
    "    path=DATA_PATH, file=\"train_set.pkl\",\n",
    "    msg=\"O arquivo 'train_set.pkl' (data frame) foi carregado com sucesso!\"\n",
    ")"
   ]
  },
  {
   "cell_type": "code",
   "execution_count": 6,
   "metadata": {},
   "outputs": [],
   "source": [
    "# Definindo a variável \"target\" (Class):\n",
    "target_variable = ['Class']\n",
    "# Criando um dataframe apenas com a variável target:\n",
    "train_target_df = train_df[target_variable].copy(deep=True)\n",
    "\n",
    "# Definindo as variáveis categóricas preditoras:\n",
    "cat_variables = ['Gender', 'Steroid', 'Antivirals', 'Fatigue', 'Malaise', 'Anorexia', 'LiverBig', 'LiverFirm',\n",
    "                 'SpleenPalpable', 'Spiders', 'Ascites', 'Varices', 'Histology']\n",
    "# Criando um dataframe apenas com as variáveis categóricas:\n",
    "train_cat_df = train_df[cat_variables].copy(deep=True)\n",
    "# Definindo as variáveis numéricas:\n",
    "num_variables = ['Age', 'Bilirubin', 'AlkPhosphate', 'SGOT', 'Albumin', 'Protime']\n",
    "# Criando um dataframe apenas com as variáveis numéricas:\n",
    "train_num_df = train_df[num_variables].copy(deep=True)"
   ]
  },
  {
   "cell_type": "code",
   "execution_count": 7,
   "metadata": {},
   "outputs": [
    {
     "name": "stdout",
     "output_type": "stream",
     "text": [
      "<class 'pandas.core.frame.DataFrame'>\n",
      "RangeIndex: 123 entries, 0 to 122\n",
      "Data columns (total 14 columns):\n",
      " #   Column          Non-Null Count  Dtype\n",
      "---  ------          --------------  -----\n",
      " 0   Class           123 non-null    int64\n",
      " 1   Gender          123 non-null    int64\n",
      " 2   Steroid         123 non-null    int64\n",
      " 3   Antivirals      123 non-null    int64\n",
      " 4   Fatigue         123 non-null    int64\n",
      " 5   Malaise         123 non-null    int64\n",
      " 6   Anorexia        123 non-null    int64\n",
      " 7   LiverBig        123 non-null    int64\n",
      " 8   LiverFirm       123 non-null    int64\n",
      " 9   SpleenPalpable  123 non-null    int64\n",
      " 10  Spiders         123 non-null    int64\n",
      " 11  Ascites         123 non-null    int64\n",
      " 12  Varices         123 non-null    int64\n",
      " 13  Histology       123 non-null    int64\n",
      "dtypes: int64(14)\n",
      "memory usage: 13.6 KB\n"
     ]
    }
   ],
   "source": [
    "# Aplicando o método \"encoding\" nas variáveis categóricas:\n",
    "train_cat_df = pjlib.method_encoding_categorical(\n",
    "    df=pd.concat(\n",
    "        [train_target_df, train_cat_df],\n",
    "        axis=1\n",
    "    ),\n",
    "    target=True\n",
    ")\n",
    "# Resumo do dataframe:\n",
    "train_cat_df.info()"
   ]
  },
  {
   "cell_type": "code",
   "execution_count": 8,
   "metadata": {},
   "outputs": [
    {
     "data": {
      "text/html": [
       "<div>\n",
       "<style scoped>\n",
       "    .dataframe tbody tr th:only-of-type {\n",
       "        vertical-align: middle;\n",
       "    }\n",
       "\n",
       "    .dataframe tbody tr th {\n",
       "        vertical-align: top;\n",
       "    }\n",
       "\n",
       "    .dataframe thead th {\n",
       "        text-align: right;\n",
       "    }\n",
       "</style>\n",
       "<table border=\"1\" class=\"dataframe\">\n",
       "  <thead>\n",
       "    <tr style=\"text-align: right;\">\n",
       "      <th></th>\n",
       "      <th>Class</th>\n",
       "      <th>Gender</th>\n",
       "      <th>Steroid</th>\n",
       "      <th>Antivirals</th>\n",
       "      <th>Fatigue</th>\n",
       "      <th>Malaise</th>\n",
       "      <th>Anorexia</th>\n",
       "      <th>LiverBig</th>\n",
       "      <th>LiverFirm</th>\n",
       "      <th>SpleenPalpable</th>\n",
       "      <th>Spiders</th>\n",
       "      <th>Ascites</th>\n",
       "      <th>Varices</th>\n",
       "      <th>Histology</th>\n",
       "    </tr>\n",
       "  </thead>\n",
       "  <tbody>\n",
       "    <tr>\n",
       "      <th>0</th>\n",
       "      <td>0</td>\n",
       "      <td>0</td>\n",
       "      <td>0</td>\n",
       "      <td>1</td>\n",
       "      <td>0</td>\n",
       "      <td>0</td>\n",
       "      <td>1</td>\n",
       "      <td>1</td>\n",
       "      <td>0</td>\n",
       "      <td>1</td>\n",
       "      <td>0</td>\n",
       "      <td>0</td>\n",
       "      <td>0</td>\n",
       "      <td>1</td>\n",
       "    </tr>\n",
       "    <tr>\n",
       "      <th>1</th>\n",
       "      <td>1</td>\n",
       "      <td>0</td>\n",
       "      <td>0</td>\n",
       "      <td>0</td>\n",
       "      <td>1</td>\n",
       "      <td>1</td>\n",
       "      <td>1</td>\n",
       "      <td>0</td>\n",
       "      <td>0</td>\n",
       "      <td>1</td>\n",
       "      <td>1</td>\n",
       "      <td>1</td>\n",
       "      <td>1</td>\n",
       "      <td>0</td>\n",
       "    </tr>\n",
       "    <tr>\n",
       "      <th>2</th>\n",
       "      <td>1</td>\n",
       "      <td>1</td>\n",
       "      <td>0</td>\n",
       "      <td>1</td>\n",
       "      <td>0</td>\n",
       "      <td>0</td>\n",
       "      <td>0</td>\n",
       "      <td>0</td>\n",
       "      <td>0</td>\n",
       "      <td>0</td>\n",
       "      <td>0</td>\n",
       "      <td>1</td>\n",
       "      <td>1</td>\n",
       "      <td>0</td>\n",
       "    </tr>\n",
       "    <tr>\n",
       "      <th>3</th>\n",
       "      <td>1</td>\n",
       "      <td>1</td>\n",
       "      <td>0</td>\n",
       "      <td>0</td>\n",
       "      <td>1</td>\n",
       "      <td>1</td>\n",
       "      <td>1</td>\n",
       "      <td>1</td>\n",
       "      <td>0</td>\n",
       "      <td>1</td>\n",
       "      <td>1</td>\n",
       "      <td>1</td>\n",
       "      <td>1</td>\n",
       "      <td>0</td>\n",
       "    </tr>\n",
       "    <tr>\n",
       "      <th>4</th>\n",
       "      <td>1</td>\n",
       "      <td>1</td>\n",
       "      <td>1</td>\n",
       "      <td>1</td>\n",
       "      <td>0</td>\n",
       "      <td>1</td>\n",
       "      <td>1</td>\n",
       "      <td>1</td>\n",
       "      <td>0</td>\n",
       "      <td>1</td>\n",
       "      <td>0</td>\n",
       "      <td>1</td>\n",
       "      <td>1</td>\n",
       "      <td>0</td>\n",
       "    </tr>\n",
       "    <tr>\n",
       "      <th>5</th>\n",
       "      <td>1</td>\n",
       "      <td>0</td>\n",
       "      <td>0</td>\n",
       "      <td>1</td>\n",
       "      <td>0</td>\n",
       "      <td>1</td>\n",
       "      <td>1</td>\n",
       "      <td>0</td>\n",
       "      <td>1</td>\n",
       "      <td>1</td>\n",
       "      <td>1</td>\n",
       "      <td>1</td>\n",
       "      <td>1</td>\n",
       "      <td>0</td>\n",
       "    </tr>\n",
       "    <tr>\n",
       "      <th>6</th>\n",
       "      <td>1</td>\n",
       "      <td>1</td>\n",
       "      <td>1</td>\n",
       "      <td>0</td>\n",
       "      <td>0</td>\n",
       "      <td>1</td>\n",
       "      <td>1</td>\n",
       "      <td>1</td>\n",
       "      <td>1</td>\n",
       "      <td>1</td>\n",
       "      <td>1</td>\n",
       "      <td>1</td>\n",
       "      <td>1</td>\n",
       "      <td>0</td>\n",
       "    </tr>\n",
       "    <tr>\n",
       "      <th>7</th>\n",
       "      <td>1</td>\n",
       "      <td>0</td>\n",
       "      <td>1</td>\n",
       "      <td>1</td>\n",
       "      <td>1</td>\n",
       "      <td>1</td>\n",
       "      <td>1</td>\n",
       "      <td>1</td>\n",
       "      <td>1</td>\n",
       "      <td>1</td>\n",
       "      <td>1</td>\n",
       "      <td>1</td>\n",
       "      <td>1</td>\n",
       "      <td>0</td>\n",
       "    </tr>\n",
       "    <tr>\n",
       "      <th>8</th>\n",
       "      <td>1</td>\n",
       "      <td>0</td>\n",
       "      <td>1</td>\n",
       "      <td>1</td>\n",
       "      <td>1</td>\n",
       "      <td>1</td>\n",
       "      <td>1</td>\n",
       "      <td>1</td>\n",
       "      <td>1</td>\n",
       "      <td>1</td>\n",
       "      <td>1</td>\n",
       "      <td>1</td>\n",
       "      <td>1</td>\n",
       "      <td>1</td>\n",
       "    </tr>\n",
       "    <tr>\n",
       "      <th>9</th>\n",
       "      <td>1</td>\n",
       "      <td>0</td>\n",
       "      <td>0</td>\n",
       "      <td>1</td>\n",
       "      <td>0</td>\n",
       "      <td>0</td>\n",
       "      <td>0</td>\n",
       "      <td>1</td>\n",
       "      <td>1</td>\n",
       "      <td>1</td>\n",
       "      <td>1</td>\n",
       "      <td>1</td>\n",
       "      <td>1</td>\n",
       "      <td>0</td>\n",
       "    </tr>\n",
       "  </tbody>\n",
       "</table>\n",
       "</div>"
      ],
      "text/plain": [
       "   Class  Gender  Steroid  Antivirals  Fatigue  Malaise  Anorexia  LiverBig  \\\n",
       "0      0       0        0           1        0        0         1         1   \n",
       "1      1       0        0           0        1        1         1         0   \n",
       "2      1       1        0           1        0        0         0         0   \n",
       "3      1       1        0           0        1        1         1         1   \n",
       "4      1       1        1           1        0        1         1         1   \n",
       "5      1       0        0           1        0        1         1         0   \n",
       "6      1       1        1           0        0        1         1         1   \n",
       "7      1       0        1           1        1        1         1         1   \n",
       "8      1       0        1           1        1        1         1         1   \n",
       "9      1       0        0           1        0        0         0         1   \n",
       "\n",
       "   LiverFirm  SpleenPalpable  Spiders  Ascites  Varices  Histology  \n",
       "0          0               1        0        0        0          1  \n",
       "1          0               1        1        1        1          0  \n",
       "2          0               0        0        1        1          0  \n",
       "3          0               1        1        1        1          0  \n",
       "4          0               1        0        1        1          0  \n",
       "5          1               1        1        1        1          0  \n",
       "6          1               1        1        1        1          0  \n",
       "7          1               1        1        1        1          0  \n",
       "8          1               1        1        1        1          1  \n",
       "9          1               1        1        1        1          0  "
      ]
     },
     "execution_count": 8,
     "metadata": {},
     "output_type": "execute_result"
    }
   ],
   "source": [
    "# Mostrando os primeiros registros:\n",
    "train_cat_df.head(10)"
   ]
  },
  {
   "cell_type": "markdown",
   "metadata": {},
   "source": [
    "## <font color='blue'>4- Carregar e preparar o *dataframe* de teste: `strat_test_set.pkl`</font>"
   ]
  },
  {
   "cell_type": "code",
   "execution_count": 9,
   "metadata": {},
   "outputs": [
    {
     "name": "stdout",
     "output_type": "stream",
     "text": [
      "O arquivo 'strat_test_set.pkl' (data frame) foi carregado com sucesso!\n"
     ]
    }
   ],
   "source": [
    "# Carregando o objeto (data frame) \"strat_test_set\" (dados de teste):\n",
    "test_df = dslib.pickle_object_load(\n",
    "    path=DATA_PATH, file=\"strat_test_set.pkl\",\n",
    "    msg=\"O arquivo 'strat_test_set.pkl' (data frame) foi carregado com sucesso!\"\n",
    ")"
   ]
  },
  {
   "cell_type": "markdown",
   "metadata": {},
   "source": [
    "### Preparando as variáveis categóricas e numéricas"
   ]
  },
  {
   "cell_type": "code",
   "execution_count": 10,
   "metadata": {},
   "outputs": [],
   "source": [
    "# Preparando as variáveis categóricas e numéricas dos dados de teste:\n",
    "test_df = pjlib.data_prep_step_1(df=test_df, target=True)"
   ]
  },
  {
   "cell_type": "markdown",
   "metadata": {},
   "source": [
    "### Tratando os valores ausentes das variáveis categóricas"
   ]
  },
  {
   "cell_type": "code",
   "execution_count": 11,
   "metadata": {},
   "outputs": [
    {
     "name": "stdout",
     "output_type": "stream",
     "text": [
      "Quantidade de variáveis: 0\n"
     ]
    },
    {
     "data": {
      "text/html": [
       "<div>\n",
       "<style scoped>\n",
       "    .dataframe tbody tr th:only-of-type {\n",
       "        vertical-align: middle;\n",
       "    }\n",
       "\n",
       "    .dataframe tbody tr th {\n",
       "        vertical-align: top;\n",
       "    }\n",
       "\n",
       "    .dataframe thead th {\n",
       "        text-align: right;\n",
       "    }\n",
       "</style>\n",
       "<table border=\"1\" class=\"dataframe\">\n",
       "  <thead>\n",
       "    <tr style=\"text-align: right;\">\n",
       "      <th>Attributes (Columns)</th>\n",
       "      <th>Total</th>\n",
       "      <th>Percent</th>\n",
       "    </tr>\n",
       "  </thead>\n",
       "  <tbody>\n",
       "  </tbody>\n",
       "</table>\n",
       "</div>"
      ],
      "text/plain": [
       "Empty DataFrame\n",
       "Columns: [Total, Percent]\n",
       "Index: []"
      ]
     },
     "execution_count": 11,
     "metadata": {},
     "output_type": "execute_result"
    }
   ],
   "source": [
    "# Separando a variável \"target\" em um dataframe:\n",
    "test_target_df = test_df[target_variable].copy(deep=True)\n",
    "# Separando as variáveis \"categóricas\" preditoras em um outro dataframe:\n",
    "test_cat_df = test_df[cat_variables].copy(deep=True)\n",
    "# Substituindo os valores ausentes:\n",
    "test_cat_tf = imputer_cat.transform(test_cat_df.values)\n",
    "# Remontando o dataframe original sem os valores ausentes:\n",
    "test_cat_df = pd.concat(\n",
    "    [test_target_df,\n",
    "     pd.DataFrame(test_cat_tf, columns=cat_variables)\n",
    "    ],\n",
    "    axis=1\n",
    ")\n",
    "# Verificando se os \"missing values\" foram removidos:\n",
    "df_mv = dslib.missing_values(data=test_cat_df, axis=0, threshold=0.01, target='Class')\n",
    "print('Quantidade de variáveis: {}'.format(len(df_mv)))\n",
    "df_mv"
   ]
  },
  {
   "cell_type": "markdown",
   "metadata": {},
   "source": [
    "### Aplicando o método *`encoding`* nas variáveis `categóricas`\n",
    "\n",
    "Entretanto, primeiro precisamos preparar as variáveis categóricas (preditivas) para serem utilizadas no processo de imputação mútipla. Então, utilizaremos a mesma técnica chamada **encoding** para preparar as variáveis categóricas nos dados de teste."
   ]
  },
  {
   "cell_type": "code",
   "execution_count": 12,
   "metadata": {},
   "outputs": [
    {
     "name": "stdout",
     "output_type": "stream",
     "text": [
      "<class 'pandas.core.frame.DataFrame'>\n",
      "RangeIndex: 31 entries, 0 to 30\n",
      "Data columns (total 14 columns):\n",
      " #   Column          Non-Null Count  Dtype\n",
      "---  ------          --------------  -----\n",
      " 0   Class           31 non-null     int64\n",
      " 1   Gender          31 non-null     int64\n",
      " 2   Steroid         31 non-null     int64\n",
      " 3   Antivirals      31 non-null     int64\n",
      " 4   Fatigue         31 non-null     int64\n",
      " 5   Malaise         31 non-null     int64\n",
      " 6   Anorexia        31 non-null     int64\n",
      " 7   LiverBig        31 non-null     int64\n",
      " 8   LiverFirm       31 non-null     int64\n",
      " 9   SpleenPalpable  31 non-null     int64\n",
      " 10  Spiders         31 non-null     int64\n",
      " 11  Ascites         31 non-null     int64\n",
      " 12  Varices         31 non-null     int64\n",
      " 13  Histology       31 non-null     int64\n",
      "dtypes: int64(14)\n",
      "memory usage: 3.5 KB\n"
     ]
    }
   ],
   "source": [
    "# Aplicando o método \"encoding\" nas variáveis categóricas:\n",
    "test_cat_df = pjlib.method_encoding_categorical(test_cat_df, target=True)\n",
    "# Resumo do dataframe:\n",
    "test_cat_df.info()"
   ]
  },
  {
   "cell_type": "code",
   "execution_count": 13,
   "metadata": {},
   "outputs": [
    {
     "data": {
      "text/html": [
       "<div>\n",
       "<style scoped>\n",
       "    .dataframe tbody tr th:only-of-type {\n",
       "        vertical-align: middle;\n",
       "    }\n",
       "\n",
       "    .dataframe tbody tr th {\n",
       "        vertical-align: top;\n",
       "    }\n",
       "\n",
       "    .dataframe thead th {\n",
       "        text-align: right;\n",
       "    }\n",
       "</style>\n",
       "<table border=\"1\" class=\"dataframe\">\n",
       "  <thead>\n",
       "    <tr style=\"text-align: right;\">\n",
       "      <th></th>\n",
       "      <th>Class</th>\n",
       "      <th>Gender</th>\n",
       "      <th>Steroid</th>\n",
       "      <th>Antivirals</th>\n",
       "      <th>Fatigue</th>\n",
       "      <th>Malaise</th>\n",
       "      <th>Anorexia</th>\n",
       "      <th>LiverBig</th>\n",
       "      <th>LiverFirm</th>\n",
       "      <th>SpleenPalpable</th>\n",
       "      <th>Spiders</th>\n",
       "      <th>Ascites</th>\n",
       "      <th>Varices</th>\n",
       "      <th>Histology</th>\n",
       "    </tr>\n",
       "  </thead>\n",
       "  <tbody>\n",
       "    <tr>\n",
       "      <th>0</th>\n",
       "      <td>1</td>\n",
       "      <td>0</td>\n",
       "      <td>1</td>\n",
       "      <td>1</td>\n",
       "      <td>0</td>\n",
       "      <td>1</td>\n",
       "      <td>1</td>\n",
       "      <td>1</td>\n",
       "      <td>0</td>\n",
       "      <td>0</td>\n",
       "      <td>0</td>\n",
       "      <td>1</td>\n",
       "      <td>0</td>\n",
       "      <td>1</td>\n",
       "    </tr>\n",
       "    <tr>\n",
       "      <th>1</th>\n",
       "      <td>1</td>\n",
       "      <td>0</td>\n",
       "      <td>1</td>\n",
       "      <td>1</td>\n",
       "      <td>0</td>\n",
       "      <td>0</td>\n",
       "      <td>0</td>\n",
       "      <td>0</td>\n",
       "      <td>0</td>\n",
       "      <td>0</td>\n",
       "      <td>0</td>\n",
       "      <td>1</td>\n",
       "      <td>1</td>\n",
       "      <td>0</td>\n",
       "    </tr>\n",
       "    <tr>\n",
       "      <th>2</th>\n",
       "      <td>1</td>\n",
       "      <td>0</td>\n",
       "      <td>0</td>\n",
       "      <td>1</td>\n",
       "      <td>0</td>\n",
       "      <td>0</td>\n",
       "      <td>1</td>\n",
       "      <td>1</td>\n",
       "      <td>1</td>\n",
       "      <td>1</td>\n",
       "      <td>1</td>\n",
       "      <td>0</td>\n",
       "      <td>1</td>\n",
       "      <td>1</td>\n",
       "    </tr>\n",
       "    <tr>\n",
       "      <th>3</th>\n",
       "      <td>0</td>\n",
       "      <td>0</td>\n",
       "      <td>0</td>\n",
       "      <td>1</td>\n",
       "      <td>0</td>\n",
       "      <td>0</td>\n",
       "      <td>0</td>\n",
       "      <td>0</td>\n",
       "      <td>0</td>\n",
       "      <td>1</td>\n",
       "      <td>0</td>\n",
       "      <td>1</td>\n",
       "      <td>1</td>\n",
       "      <td>1</td>\n",
       "    </tr>\n",
       "    <tr>\n",
       "      <th>4</th>\n",
       "      <td>1</td>\n",
       "      <td>0</td>\n",
       "      <td>0</td>\n",
       "      <td>0</td>\n",
       "      <td>1</td>\n",
       "      <td>1</td>\n",
       "      <td>1</td>\n",
       "      <td>1</td>\n",
       "      <td>1</td>\n",
       "      <td>1</td>\n",
       "      <td>1</td>\n",
       "      <td>1</td>\n",
       "      <td>1</td>\n",
       "      <td>0</td>\n",
       "    </tr>\n",
       "    <tr>\n",
       "      <th>5</th>\n",
       "      <td>1</td>\n",
       "      <td>0</td>\n",
       "      <td>0</td>\n",
       "      <td>0</td>\n",
       "      <td>1</td>\n",
       "      <td>1</td>\n",
       "      <td>1</td>\n",
       "      <td>1</td>\n",
       "      <td>1</td>\n",
       "      <td>1</td>\n",
       "      <td>1</td>\n",
       "      <td>1</td>\n",
       "      <td>1</td>\n",
       "      <td>0</td>\n",
       "    </tr>\n",
       "    <tr>\n",
       "      <th>6</th>\n",
       "      <td>1</td>\n",
       "      <td>0</td>\n",
       "      <td>1</td>\n",
       "      <td>1</td>\n",
       "      <td>1</td>\n",
       "      <td>1</td>\n",
       "      <td>1</td>\n",
       "      <td>1</td>\n",
       "      <td>1</td>\n",
       "      <td>1</td>\n",
       "      <td>1</td>\n",
       "      <td>1</td>\n",
       "      <td>1</td>\n",
       "      <td>0</td>\n",
       "    </tr>\n",
       "    <tr>\n",
       "      <th>7</th>\n",
       "      <td>1</td>\n",
       "      <td>0</td>\n",
       "      <td>1</td>\n",
       "      <td>1</td>\n",
       "      <td>1</td>\n",
       "      <td>1</td>\n",
       "      <td>1</td>\n",
       "      <td>1</td>\n",
       "      <td>1</td>\n",
       "      <td>1</td>\n",
       "      <td>1</td>\n",
       "      <td>1</td>\n",
       "      <td>1</td>\n",
       "      <td>0</td>\n",
       "    </tr>\n",
       "    <tr>\n",
       "      <th>8</th>\n",
       "      <td>0</td>\n",
       "      <td>0</td>\n",
       "      <td>0</td>\n",
       "      <td>1</td>\n",
       "      <td>0</td>\n",
       "      <td>0</td>\n",
       "      <td>0</td>\n",
       "      <td>1</td>\n",
       "      <td>1</td>\n",
       "      <td>0</td>\n",
       "      <td>0</td>\n",
       "      <td>1</td>\n",
       "      <td>0</td>\n",
       "      <td>1</td>\n",
       "    </tr>\n",
       "    <tr>\n",
       "      <th>9</th>\n",
       "      <td>1</td>\n",
       "      <td>0</td>\n",
       "      <td>1</td>\n",
       "      <td>1</td>\n",
       "      <td>1</td>\n",
       "      <td>1</td>\n",
       "      <td>1</td>\n",
       "      <td>1</td>\n",
       "      <td>1</td>\n",
       "      <td>1</td>\n",
       "      <td>1</td>\n",
       "      <td>1</td>\n",
       "      <td>1</td>\n",
       "      <td>0</td>\n",
       "    </tr>\n",
       "  </tbody>\n",
       "</table>\n",
       "</div>"
      ],
      "text/plain": [
       "   Class  Gender  Steroid  Antivirals  Fatigue  Malaise  Anorexia  LiverBig  \\\n",
       "0      1       0        1           1        0        1         1         1   \n",
       "1      1       0        1           1        0        0         0         0   \n",
       "2      1       0        0           1        0        0         1         1   \n",
       "3      0       0        0           1        0        0         0         0   \n",
       "4      1       0        0           0        1        1         1         1   \n",
       "5      1       0        0           0        1        1         1         1   \n",
       "6      1       0        1           1        1        1         1         1   \n",
       "7      1       0        1           1        1        1         1         1   \n",
       "8      0       0        0           1        0        0         0         1   \n",
       "9      1       0        1           1        1        1         1         1   \n",
       "\n",
       "   LiverFirm  SpleenPalpable  Spiders  Ascites  Varices  Histology  \n",
       "0          0               0        0        1        0          1  \n",
       "1          0               0        0        1        1          0  \n",
       "2          1               1        1        0        1          1  \n",
       "3          0               1        0        1        1          1  \n",
       "4          1               1        1        1        1          0  \n",
       "5          1               1        1        1        1          0  \n",
       "6          1               1        1        1        1          0  \n",
       "7          1               1        1        1        1          0  \n",
       "8          1               0        0        1        0          1  \n",
       "9          1               1        1        1        1          0  "
      ]
     },
     "execution_count": 13,
     "metadata": {},
     "output_type": "execute_result"
    }
   ],
   "source": [
    "# Mostrando os primeiros registros:\n",
    "test_cat_df.head(10)"
   ]
  },
  {
   "cell_type": "markdown",
   "metadata": {},
   "source": [
    "### Tratando os valores ausentes das variáveis numéricas"
   ]
  },
  {
   "cell_type": "code",
   "execution_count": 14,
   "metadata": {},
   "outputs": [
    {
     "data": {
      "text/html": [
       "<div>\n",
       "<style scoped>\n",
       "    .dataframe tbody tr th:only-of-type {\n",
       "        vertical-align: middle;\n",
       "    }\n",
       "\n",
       "    .dataframe tbody tr th {\n",
       "        vertical-align: top;\n",
       "    }\n",
       "\n",
       "    .dataframe thead th {\n",
       "        text-align: right;\n",
       "    }\n",
       "</style>\n",
       "<table border=\"1\" class=\"dataframe\">\n",
       "  <thead>\n",
       "    <tr style=\"text-align: right;\">\n",
       "      <th></th>\n",
       "      <th>Age</th>\n",
       "      <th>Bilirubin</th>\n",
       "      <th>AlkPhosphate</th>\n",
       "      <th>SGOT</th>\n",
       "      <th>Albumin</th>\n",
       "      <th>Protime</th>\n",
       "    </tr>\n",
       "  </thead>\n",
       "  <tbody>\n",
       "  </tbody>\n",
       "</table>\n",
       "</div>"
      ],
      "text/plain": [
       "Empty DataFrame\n",
       "Columns: [Age, Bilirubin, AlkPhosphate, SGOT, Albumin, Protime]\n",
       "Index: []"
      ]
     },
     "execution_count": 14,
     "metadata": {},
     "output_type": "execute_result"
    }
   ],
   "source": [
    "# Criando um dataframe apenas com as variáveis numéricas:\n",
    "test_num_df = test_df[num_variables].copy(deep=True)\n",
    "# Verificando variáveis com valores iguais a \"0\":\n",
    "# Criando um índice de todos os valores iguais a \"0\":\n",
    "index = test_num_df.values == 0\n",
    "test_num_df.loc[index,:]"
   ]
  },
  {
   "cell_type": "markdown",
   "metadata": {},
   "source": [
    "**Análise:** podemos observar que não temos variáveis com valores iguais a **zero**."
   ]
  },
  {
   "cell_type": "code",
   "execution_count": 15,
   "metadata": {},
   "outputs": [
    {
     "name": "stdout",
     "output_type": "stream",
     "text": [
      "Quantidade de variáveis: 5\n"
     ]
    },
    {
     "data": {
      "text/html": [
       "<div>\n",
       "<style scoped>\n",
       "    .dataframe tbody tr th:only-of-type {\n",
       "        vertical-align: middle;\n",
       "    }\n",
       "\n",
       "    .dataframe tbody tr th {\n",
       "        vertical-align: top;\n",
       "    }\n",
       "\n",
       "    .dataframe thead th {\n",
       "        text-align: right;\n",
       "    }\n",
       "</style>\n",
       "<table border=\"1\" class=\"dataframe\">\n",
       "  <thead>\n",
       "    <tr style=\"text-align: right;\">\n",
       "      <th>Attributes (Columns)</th>\n",
       "      <th>Total</th>\n",
       "      <th>Percent</th>\n",
       "    </tr>\n",
       "  </thead>\n",
       "  <tbody>\n",
       "    <tr>\n",
       "      <th>Protime</th>\n",
       "      <td>14</td>\n",
       "      <td>0.451613</td>\n",
       "    </tr>\n",
       "    <tr>\n",
       "      <th>AlkPhosphate</th>\n",
       "      <td>6</td>\n",
       "      <td>0.193548</td>\n",
       "    </tr>\n",
       "    <tr>\n",
       "      <th>Albumin</th>\n",
       "      <td>4</td>\n",
       "      <td>0.129032</td>\n",
       "    </tr>\n",
       "    <tr>\n",
       "      <th>Bilirubin</th>\n",
       "      <td>1</td>\n",
       "      <td>0.032258</td>\n",
       "    </tr>\n",
       "    <tr>\n",
       "      <th>SGOT</th>\n",
       "      <td>1</td>\n",
       "      <td>0.032258</td>\n",
       "    </tr>\n",
       "  </tbody>\n",
       "</table>\n",
       "</div>"
      ],
      "text/plain": [
       "Attributes (Columns)  Total   Percent\n",
       "Protime                  14  0.451613\n",
       "AlkPhosphate              6  0.193548\n",
       "Albumin                   4  0.129032\n",
       "Bilirubin                 1  0.032258\n",
       "SGOT                      1  0.032258"
      ]
     },
     "execution_count": 15,
     "metadata": {},
     "output_type": "execute_result"
    }
   ],
   "source": [
    "# Verificando as variáveis com \"missing values\":\n",
    "df_mv = dslib.missing_values(data=test_num_df, axis=0, threshold=0.01, target=None)\n",
    "print('Quantidade de variáveis: {}'.format(len(df_mv)))\n",
    "df_mv"
   ]
  },
  {
   "cell_type": "markdown",
   "metadata": {},
   "source": [
    "Temos **5 variáveis** com valores ausentes (`NaN`). Portanto, para o tratamento desses valores ausentes utilizaremos o mesmo método da **imputação múltipla** que foi aplicado nos dados de treino."
   ]
  },
  {
   "cell_type": "code",
   "execution_count": 16,
   "metadata": {},
   "outputs": [
    {
     "data": {
      "text/plain": [
       "(31, 19)"
      ]
     },
     "execution_count": 16,
     "metadata": {},
     "output_type": "execute_result"
    }
   ],
   "source": [
    "# Preparando um dataframe para aplicarmos a \"imputação múltipla\":\n",
    "var_num_df = pd.concat([test_cat_df[cat_variables], test_num_df], axis=1)\n",
    "# Verificando o shape:\n",
    "var_num_df.shape"
   ]
  },
  {
   "cell_type": "code",
   "execution_count": 17,
   "metadata": {},
   "outputs": [],
   "source": [
    "# Aplicando a imputação múltipla:\n",
    "data_imp_tf = imputer_mv.transform(var_num_df)"
   ]
  },
  {
   "cell_type": "code",
   "execution_count": 18,
   "metadata": {},
   "outputs": [
    {
     "name": "stdout",
     "output_type": "stream",
     "text": [
      "<class 'pandas.core.frame.DataFrame'>\n",
      "RangeIndex: 31 entries, 0 to 30\n",
      "Data columns (total 19 columns):\n",
      " #   Column          Non-Null Count  Dtype  \n",
      "---  ------          --------------  -----  \n",
      " 0   Gender          31 non-null     float64\n",
      " 1   Steroid         31 non-null     float64\n",
      " 2   Antivirals      31 non-null     float64\n",
      " 3   Fatigue         31 non-null     float64\n",
      " 4   Malaise         31 non-null     float64\n",
      " 5   Anorexia        31 non-null     float64\n",
      " 6   LiverBig        31 non-null     float64\n",
      " 7   LiverFirm       31 non-null     float64\n",
      " 8   SpleenPalpable  31 non-null     float64\n",
      " 9   Spiders         31 non-null     float64\n",
      " 10  Ascites         31 non-null     float64\n",
      " 11  Varices         31 non-null     float64\n",
      " 12  Histology       31 non-null     float64\n",
      " 13  Age             31 non-null     float64\n",
      " 14  Bilirubin       31 non-null     float64\n",
      " 15  AlkPhosphate    31 non-null     float64\n",
      " 16  SGOT            31 non-null     float64\n",
      " 17  Albumin         31 non-null     float64\n",
      " 18  Protime         31 non-null     float64\n",
      "dtypes: float64(19)\n",
      "memory usage: 4.7 KB\n"
     ]
    }
   ],
   "source": [
    "# Salva os valores ausentes tratados no mesmo dataframe:\n",
    "var_num_df = pd.DataFrame(data_imp_tf, columns = var_num_df.columns)\n",
    "\n",
    "# Resumo das informações:\n",
    "var_num_df.info()"
   ]
  },
  {
   "cell_type": "code",
   "execution_count": 19,
   "metadata": {},
   "outputs": [
    {
     "name": "stdout",
     "output_type": "stream",
     "text": [
      "Quantidade de variáveis: 6\n"
     ]
    },
    {
     "data": {
      "text/html": [
       "<div>\n",
       "<style scoped>\n",
       "    .dataframe tbody tr th:only-of-type {\n",
       "        vertical-align: middle;\n",
       "    }\n",
       "\n",
       "    .dataframe tbody tr th {\n",
       "        vertical-align: top;\n",
       "    }\n",
       "\n",
       "    .dataframe thead th {\n",
       "        text-align: right;\n",
       "    }\n",
       "</style>\n",
       "<table border=\"1\" class=\"dataframe\">\n",
       "  <thead>\n",
       "    <tr style=\"text-align: right;\">\n",
       "      <th>Attributes (Columns)</th>\n",
       "      <th>Total</th>\n",
       "      <th>Percent</th>\n",
       "    </tr>\n",
       "  </thead>\n",
       "  <tbody>\n",
       "    <tr>\n",
       "      <th>Age</th>\n",
       "      <td>0</td>\n",
       "      <td>0.0</td>\n",
       "    </tr>\n",
       "    <tr>\n",
       "      <th>Bilirubin</th>\n",
       "      <td>0</td>\n",
       "      <td>0.0</td>\n",
       "    </tr>\n",
       "    <tr>\n",
       "      <th>AlkPhosphate</th>\n",
       "      <td>0</td>\n",
       "      <td>0.0</td>\n",
       "    </tr>\n",
       "    <tr>\n",
       "      <th>SGOT</th>\n",
       "      <td>0</td>\n",
       "      <td>0.0</td>\n",
       "    </tr>\n",
       "    <tr>\n",
       "      <th>Albumin</th>\n",
       "      <td>0</td>\n",
       "      <td>0.0</td>\n",
       "    </tr>\n",
       "    <tr>\n",
       "      <th>Protime</th>\n",
       "      <td>0</td>\n",
       "      <td>0.0</td>\n",
       "    </tr>\n",
       "  </tbody>\n",
       "</table>\n",
       "</div>"
      ],
      "text/plain": [
       "Attributes (Columns)  Total  Percent\n",
       "Age                       0      0.0\n",
       "Bilirubin                 0      0.0\n",
       "AlkPhosphate              0      0.0\n",
       "SGOT                      0      0.0\n",
       "Albumin                   0      0.0\n",
       "Protime                   0      0.0"
      ]
     },
     "execution_count": 19,
     "metadata": {},
     "output_type": "execute_result"
    }
   ],
   "source": [
    "# Refazendo o dataframe com todos os valores ausentes tratados nas variáveis numéricas:\n",
    "test_num_df = var_num_df[num_variables].copy(deep=True)\n",
    "\n",
    "# Verificando se todos os valores ausentes foram tratados:\n",
    "df_mv = dslib.missing_values(data=test_num_df, target=None)\n",
    "print('Quantidade de variáveis: {}'.format(len(df_mv)))\n",
    "df_mv"
   ]
  },
  {
   "cell_type": "markdown",
   "metadata": {},
   "source": [
    "### Preparando o *dataset* final dos dados de teste"
   ]
  },
  {
   "cell_type": "code",
   "execution_count": 20,
   "metadata": {},
   "outputs": [
    {
     "name": "stdout",
     "output_type": "stream",
     "text": [
      "<class 'pandas.core.frame.DataFrame'>\n",
      "RangeIndex: 31 entries, 0 to 30\n",
      "Data columns (total 20 columns):\n",
      " #   Column          Non-Null Count  Dtype  \n",
      "---  ------          --------------  -----  \n",
      " 0   Class           31 non-null     int64  \n",
      " 1   Gender          31 non-null     int64  \n",
      " 2   Steroid         31 non-null     int64  \n",
      " 3   Antivirals      31 non-null     int64  \n",
      " 4   Fatigue         31 non-null     int64  \n",
      " 5   Malaise         31 non-null     int64  \n",
      " 6   Anorexia        31 non-null     int64  \n",
      " 7   LiverBig        31 non-null     int64  \n",
      " 8   LiverFirm       31 non-null     int64  \n",
      " 9   SpleenPalpable  31 non-null     int64  \n",
      " 10  Spiders         31 non-null     int64  \n",
      " 11  Ascites         31 non-null     int64  \n",
      " 12  Varices         31 non-null     int64  \n",
      " 13  Histology       31 non-null     int64  \n",
      " 14  Age             31 non-null     float64\n",
      " 15  Bilirubin       31 non-null     float64\n",
      " 16  AlkPhosphate    31 non-null     float64\n",
      " 17  SGOT            31 non-null     float64\n",
      " 18  Albumin         31 non-null     float64\n",
      " 19  Protime         31 non-null     float64\n",
      "dtypes: float64(6), int64(14)\n",
      "memory usage: 5.0 KB\n"
     ]
    }
   ],
   "source": [
    "# Criando o dataframe de teste:\n",
    "test_set = pd.concat([test_cat_df, test_num_df], axis=1)\n",
    "# Resumo do dataframe:\n",
    "test_set.info()"
   ]
  },
  {
   "cell_type": "markdown",
   "metadata": {},
   "source": [
    "## <font color='blue'>5- Realizar *`Feature Engineering`*</font>"
   ]
  },
  {
   "cell_type": "markdown",
   "metadata": {},
   "source": [
    "Agora, vamos trabalhar com ***Feature Engineering*** para criarmos algumas versões dos *dados de treino* para serem utilizados na etapa de modelagem, a saber:\n",
    "* **`Versão 1`**: nesta versão vamos manter os dados originais sem nenhum tratamento adicional;\n",
    "\n",
    "* **`Versão 2`**: nesta versão vamos tratar e **remover os outliers** existentes nas variáveis numéricas."
   ]
  },
  {
   "cell_type": "markdown",
   "metadata": {},
   "source": [
    "### 5.1- `Versão 1`:\n",
    "\n",
    "* Nesta versão vamos manter os dados originais, ou seja, sem nenhum tratamento adicional nos **dados de treino**."
   ]
  },
  {
   "cell_type": "markdown",
   "metadata": {},
   "source": [
    "### Dados de treino: `train_set_v1`"
   ]
  },
  {
   "cell_type": "code",
   "execution_count": 21,
   "metadata": {},
   "outputs": [
    {
     "name": "stdout",
     "output_type": "stream",
     "text": [
      "<class 'pandas.core.frame.DataFrame'>\n",
      "RangeIndex: 123 entries, 0 to 122\n",
      "Data columns (total 20 columns):\n",
      " #   Column          Non-Null Count  Dtype  \n",
      "---  ------          --------------  -----  \n",
      " 0   Class           123 non-null    int64  \n",
      " 1   Gender          123 non-null    int64  \n",
      " 2   Steroid         123 non-null    int64  \n",
      " 3   Antivirals      123 non-null    int64  \n",
      " 4   Fatigue         123 non-null    int64  \n",
      " 5   Malaise         123 non-null    int64  \n",
      " 6   Anorexia        123 non-null    int64  \n",
      " 7   LiverBig        123 non-null    int64  \n",
      " 8   LiverFirm       123 non-null    int64  \n",
      " 9   SpleenPalpable  123 non-null    int64  \n",
      " 10  Spiders         123 non-null    int64  \n",
      " 11  Ascites         123 non-null    int64  \n",
      " 12  Varices         123 non-null    int64  \n",
      " 13  Histology       123 non-null    int64  \n",
      " 14  Age             123 non-null    float64\n",
      " 15  Bilirubin       123 non-null    float64\n",
      " 16  AlkPhosphate    123 non-null    float64\n",
      " 17  SGOT            123 non-null    float64\n",
      " 18  Albumin         123 non-null    float64\n",
      " 19  Protime         123 non-null    float64\n",
      "dtypes: float64(6), int64(14)\n",
      "memory usage: 19.3 KB\n"
     ]
    }
   ],
   "source": [
    "# Criando o dataframe de treino:\n",
    "train_set_v1 = pd.concat([train_cat_df, train_num_df], axis=1)\n",
    "# Resumo do dataframe:\n",
    "train_set_v1.info()"
   ]
  },
  {
   "cell_type": "markdown",
   "metadata": {},
   "source": [
    "### 5.2- `Versão 2`:\n",
    "\n",
    "* Nesta versão vamos tratar e **remover os outliers** existentes nas variáveis numéricas nos **dados de treino**."
   ]
  },
  {
   "cell_type": "markdown",
   "metadata": {},
   "source": [
    "### Análise dos `outliers` das variáveis *numéricas* com o método `MAD`.\n",
    "\n",
    "O método do desvio absoluto mediano (MAD = Median Absolute Deviation) substitui a média e o desvio padrão por estatísticas mais robustas, como a mediana e o desvio absoluto mediano."
   ]
  },
  {
   "cell_type": "code",
   "execution_count": 22,
   "metadata": {},
   "outputs": [
    {
     "name": "stdout",
     "output_type": "stream",
     "text": [
      "Outliers (Age): 0\n",
      "Outliers (Bilirubin): 14\n",
      "Outliers (AlkPhosphate): 7\n",
      "Outliers (SGOT): 11\n",
      "Outliers (Albumin): 2\n",
      "Outliers (Protime): 0\n"
     ]
    }
   ],
   "source": [
    "# Primeiro, vamos criar um dataframe temporário:\n",
    "data_num_out_df = train_num_df.copy(deep=True)\n",
    "\n",
    "# Cria um dicionário onde serão armazenados os \"outliers\":\n",
    "outliers_mad = {}\n",
    "\n",
    "# Define as variáveis onde aplicaremos o método \"MAD\":\n",
    "variables=['Age', 'Bilirubin', 'AlkPhosphate', 'SGOT', 'Albumin', 'Protime']\n",
    "\n",
    "# Aplica o método \"MAD\" em cada variável:\n",
    "for var in variables:\n",
    "    outliers_mad[var] = dslib.mad_method(data_num_out_df, var)\n",
    "\n",
    "# Visualizando a quantidade de \"outliers\" em cada variável:\n",
    "for var in variables:\n",
    "    print(\"Outliers ({}): {}\".format(var, len(outliers_mad[var])))"
   ]
  },
  {
   "cell_type": "markdown",
   "metadata": {},
   "source": [
    "**Análise:** com o método **MAD**, **não** foram detectados *outliers* nas variáveis `Age` e `Protime`."
   ]
  },
  {
   "cell_type": "markdown",
   "metadata": {},
   "source": [
    "### Tratamento dos `outliers` através da `recodificação` com `imputação múltipla`.\n",
    "\n",
    "Para a recodificação dos *outliers* vamos utilizar o método de **Imputação múltipla**. A imputação é um método que é frequentemente usado quando se trata de *dados ausentes* (missing values). Entretanto, ela também é aplicada quando se trata de valores extremos. Ao usar a imputação, os *outliers* são removidos (e com isso se tornam valores ausentes) e depois são substituídos por **estimativas** baseadas nos dados restantes."
   ]
  },
  {
   "cell_type": "code",
   "execution_count": 23,
   "metadata": {},
   "outputs": [
    {
     "data": {
      "text/html": [
       "<div>\n",
       "<style scoped>\n",
       "    .dataframe tbody tr th:only-of-type {\n",
       "        vertical-align: middle;\n",
       "    }\n",
       "\n",
       "    .dataframe tbody tr th {\n",
       "        vertical-align: top;\n",
       "    }\n",
       "\n",
       "    .dataframe thead th {\n",
       "        text-align: right;\n",
       "    }\n",
       "</style>\n",
       "<table border=\"1\" class=\"dataframe\">\n",
       "  <thead>\n",
       "    <tr style=\"text-align: right;\">\n",
       "      <th>Attributes (Columns)</th>\n",
       "      <th>Total</th>\n",
       "      <th>Percent</th>\n",
       "    </tr>\n",
       "  </thead>\n",
       "  <tbody>\n",
       "    <tr>\n",
       "      <th>Bilirubin</th>\n",
       "      <td>14</td>\n",
       "      <td>0.113821</td>\n",
       "    </tr>\n",
       "    <tr>\n",
       "      <th>SGOT</th>\n",
       "      <td>11</td>\n",
       "      <td>0.089431</td>\n",
       "    </tr>\n",
       "    <tr>\n",
       "      <th>AlkPhosphate</th>\n",
       "      <td>7</td>\n",
       "      <td>0.056911</td>\n",
       "    </tr>\n",
       "    <tr>\n",
       "      <th>Albumin</th>\n",
       "      <td>2</td>\n",
       "      <td>0.016260</td>\n",
       "    </tr>\n",
       "  </tbody>\n",
       "</table>\n",
       "</div>"
      ],
      "text/plain": [
       "Attributes (Columns)  Total   Percent\n",
       "Bilirubin                14  0.113821\n",
       "SGOT                     11  0.089431\n",
       "AlkPhosphate              7  0.056911\n",
       "Albumin                   2  0.016260"
      ]
     },
     "execution_count": 23,
     "metadata": {},
     "output_type": "execute_result"
    }
   ],
   "source": [
    "# Primeiro, vamos remover os \"outliers\" detectados pelo método MAD:\n",
    "# Loop para remover os outliers em cada variável:\n",
    "for var in variables:\n",
    "    data_num_out_df = dslib.outliers_to_nan(\n",
    "        df=data_num_out_df, variable_name=var, probable_outliers=outliers_mad[var]\n",
    "    )\n",
    "\n",
    "# Verificando se os \"outliers\" foram removidos:\n",
    "dslib.missing_values(data=data_num_out_df, axis=0, threshold=0.01, target=None)"
   ]
  },
  {
   "cell_type": "code",
   "execution_count": 24,
   "metadata": {},
   "outputs": [
    {
     "name": "stdout",
     "output_type": "stream",
     "text": [
      "Iniciando o processo de imputação...\n",
      "Fim do processo: 5.18 seconds.\n"
     ]
    }
   ],
   "source": [
    "# Define o imputer para tratamento dos \"missing values\":\n",
    "imputer_out = IterativeImputer(\n",
    "    estimator=ExtraTreesRegressor(random_state=SEED),\n",
    "    n_nearest_features=None,\n",
    "    imputation_order='ascending',\n",
    "    sample_posterior=False,\n",
    "    random_state=SEED\n",
    ")\n",
    "\n",
    "# Início do processo:\n",
    "ept.start(msg=\"Iniciando o processo de imputação...\")\n",
    "# Fit imputer and transform                          \n",
    "imputer_out.fit(data_num_out_df)\n",
    "data_imp_tf = imputer_out.transform(data_num_out_df)\n",
    "ept.end(msg='Fim do processo:')"
   ]
  },
  {
   "cell_type": "code",
   "execution_count": 25,
   "metadata": {},
   "outputs": [
    {
     "name": "stdout",
     "output_type": "stream",
     "text": [
      "<class 'pandas.core.frame.DataFrame'>\n",
      "RangeIndex: 123 entries, 0 to 122\n",
      "Data columns (total 6 columns):\n",
      " #   Column        Non-Null Count  Dtype  \n",
      "---  ------        --------------  -----  \n",
      " 0   Age           123 non-null    float64\n",
      " 1   Bilirubin     123 non-null    float64\n",
      " 2   AlkPhosphate  123 non-null    float64\n",
      " 3   SGOT          123 non-null    float64\n",
      " 4   Albumin       123 non-null    float64\n",
      " 5   Protime       123 non-null    float64\n",
      "dtypes: float64(6)\n",
      "memory usage: 5.9 KB\n"
     ]
    }
   ],
   "source": [
    "# Criando um novo dataframe com as variáveis após a remoção dos outliers:\n",
    "fe_train_num_df = pd.DataFrame(data_imp_tf, columns=list(imputer_out.feature_names_in_))\n",
    "# Resumo do dataframe:\n",
    "fe_train_num_df.info()"
   ]
  },
  {
   "cell_type": "code",
   "execution_count": 26,
   "metadata": {},
   "outputs": [
    {
     "data": {
      "text/html": [
       "<div>\n",
       "<style scoped>\n",
       "    .dataframe tbody tr th:only-of-type {\n",
       "        vertical-align: middle;\n",
       "    }\n",
       "\n",
       "    .dataframe tbody tr th {\n",
       "        vertical-align: top;\n",
       "    }\n",
       "\n",
       "    .dataframe thead th {\n",
       "        text-align: right;\n",
       "    }\n",
       "</style>\n",
       "<table border=\"1\" class=\"dataframe\">\n",
       "  <thead>\n",
       "    <tr style=\"text-align: right;\">\n",
       "      <th></th>\n",
       "      <th>Age</th>\n",
       "      <th>Bilirubin</th>\n",
       "      <th>AlkPhosphate</th>\n",
       "      <th>SGOT</th>\n",
       "      <th>Albumin</th>\n",
       "      <th>Protime</th>\n",
       "    </tr>\n",
       "  </thead>\n",
       "  <tbody>\n",
       "    <tr>\n",
       "      <th>count</th>\n",
       "      <td>123.000000</td>\n",
       "      <td>123.000000</td>\n",
       "      <td>123.000000</td>\n",
       "      <td>123.000000</td>\n",
       "      <td>123.000000</td>\n",
       "      <td>123.000000</td>\n",
       "    </tr>\n",
       "    <tr>\n",
       "      <th>mean</th>\n",
       "      <td>41.268293</td>\n",
       "      <td>10.651490</td>\n",
       "      <td>100.489402</td>\n",
       "      <td>62.806410</td>\n",
       "      <td>38.144919</td>\n",
       "      <td>64.649106</td>\n",
       "    </tr>\n",
       "    <tr>\n",
       "      <th>std</th>\n",
       "      <td>12.676345</td>\n",
       "      <td>4.048451</td>\n",
       "      <td>35.869689</td>\n",
       "      <td>39.713826</td>\n",
       "      <td>5.963148</td>\n",
       "      <td>20.820203</td>\n",
       "    </tr>\n",
       "    <tr>\n",
       "      <th>min</th>\n",
       "      <td>7.000000</td>\n",
       "      <td>3.000000</td>\n",
       "      <td>26.000000</td>\n",
       "      <td>14.000000</td>\n",
       "      <td>22.000000</td>\n",
       "      <td>21.000000</td>\n",
       "    </tr>\n",
       "    <tr>\n",
       "      <th>25%</th>\n",
       "      <td>32.000000</td>\n",
       "      <td>7.740000</td>\n",
       "      <td>78.000000</td>\n",
       "      <td>31.000000</td>\n",
       "      <td>35.000000</td>\n",
       "      <td>49.000000</td>\n",
       "    </tr>\n",
       "    <tr>\n",
       "      <th>50%</th>\n",
       "      <td>39.000000</td>\n",
       "      <td>10.000000</td>\n",
       "      <td>92.730000</td>\n",
       "      <td>54.090000</td>\n",
       "      <td>40.000000</td>\n",
       "      <td>66.000000</td>\n",
       "    </tr>\n",
       "    <tr>\n",
       "      <th>75%</th>\n",
       "      <td>50.000000</td>\n",
       "      <td>13.000000</td>\n",
       "      <td>122.745000</td>\n",
       "      <td>75.521100</td>\n",
       "      <td>42.000000</td>\n",
       "      <td>79.010000</td>\n",
       "    </tr>\n",
       "    <tr>\n",
       "      <th>max</th>\n",
       "      <td>72.000000</td>\n",
       "      <td>23.000000</td>\n",
       "      <td>194.000000</td>\n",
       "      <td>182.000000</td>\n",
       "      <td>53.000000</td>\n",
       "      <td>100.000000</td>\n",
       "    </tr>\n",
       "  </tbody>\n",
       "</table>\n",
       "</div>"
      ],
      "text/plain": [
       "              Age   Bilirubin  AlkPhosphate        SGOT     Albumin  \\\n",
       "count  123.000000  123.000000    123.000000  123.000000  123.000000   \n",
       "mean    41.268293   10.651490    100.489402   62.806410   38.144919   \n",
       "std     12.676345    4.048451     35.869689   39.713826    5.963148   \n",
       "min      7.000000    3.000000     26.000000   14.000000   22.000000   \n",
       "25%     32.000000    7.740000     78.000000   31.000000   35.000000   \n",
       "50%     39.000000   10.000000     92.730000   54.090000   40.000000   \n",
       "75%     50.000000   13.000000    122.745000   75.521100   42.000000   \n",
       "max     72.000000   23.000000    194.000000  182.000000   53.000000   \n",
       "\n",
       "          Protime  \n",
       "count  123.000000  \n",
       "mean    64.649106  \n",
       "std     20.820203  \n",
       "min     21.000000  \n",
       "25%     49.000000  \n",
       "50%     66.000000  \n",
       "75%     79.010000  \n",
       "max    100.000000  "
      ]
     },
     "execution_count": 26,
     "metadata": {},
     "output_type": "execute_result"
    }
   ],
   "source": [
    "# Resumo estatístico:\n",
    "fe_train_num_df.describe()"
   ]
  },
  {
   "cell_type": "code",
   "execution_count": 27,
   "metadata": {},
   "outputs": [
    {
     "data": {
      "image/png": "[encoded data removed]",
      "text/plain": [
       "<Figure size 1700x800 with 6 Axes>"
      ]
     },
     "metadata": {},
     "output_type": "display_data"
    }
   ],
   "source": [
    "# Histogramas:\n",
    "ptlib.plot_histograms(\n",
    "    data=fe_train_num_df, x=list(fe_train_num_df.columns), kde=True, plot_style=None, color='coral',\n",
    "    titles=list(fe_train_num_df.columns), titles_fontsize=16, xlabels=None, xlabels_fontsize=13, ylabels='Count',\n",
    "    ylabels_fontsize=13, xtick_labelsize=10, ytick_labelsize=10, cols_nr=3, rows_nr=2, width=17, height=8,\n",
    "    wspace=None, hspace=0.3\n",
    ")"
   ]
  },
  {
   "cell_type": "code",
   "execution_count": 28,
   "metadata": {},
   "outputs": [
    {
     "data": {
      "image/png": "[encoded data removed]",
      "text/plain": [
       "<Figure size 1700x1200 with 6 Axes>"
      ]
     },
     "metadata": {},
     "output_type": "display_data"
    }
   ],
   "source": [
    "# Boxplots:\n",
    "ptlib.plot_boxplots(\n",
    "    x=list(fe_train_num_df.columns), data=fe_train_num_df, order=None, hue_order=None, colors='coral', plot_style=None,\n",
    "    titles=list(fe_train_num_df.columns), titles_fontsize=14, xtick_labelsize=10, cols_nr=4, rows_nr=5, width=17, height=12,\n",
    "    wspace=None, hspace=0.5\n",
    ")"
   ]
  },
  {
   "cell_type": "markdown",
   "metadata": {},
   "source": [
    "### Dados de treino: `train_set_v2`"
   ]
  },
  {
   "cell_type": "code",
   "execution_count": 29,
   "metadata": {},
   "outputs": [
    {
     "name": "stdout",
     "output_type": "stream",
     "text": [
      "<class 'pandas.core.frame.DataFrame'>\n",
      "RangeIndex: 123 entries, 0 to 122\n",
      "Data columns (total 20 columns):\n",
      " #   Column          Non-Null Count  Dtype  \n",
      "---  ------          --------------  -----  \n",
      " 0   Class           123 non-null    int64  \n",
      " 1   Gender          123 non-null    int64  \n",
      " 2   Steroid         123 non-null    int64  \n",
      " 3   Antivirals      123 non-null    int64  \n",
      " 4   Fatigue         123 non-null    int64  \n",
      " 5   Malaise         123 non-null    int64  \n",
      " 6   Anorexia        123 non-null    int64  \n",
      " 7   LiverBig        123 non-null    int64  \n",
      " 8   LiverFirm       123 non-null    int64  \n",
      " 9   SpleenPalpable  123 non-null    int64  \n",
      " 10  Spiders         123 non-null    int64  \n",
      " 11  Ascites         123 non-null    int64  \n",
      " 12  Varices         123 non-null    int64  \n",
      " 13  Histology       123 non-null    int64  \n",
      " 14  Age             123 non-null    float64\n",
      " 15  Bilirubin       123 non-null    float64\n",
      " 16  AlkPhosphate    123 non-null    float64\n",
      " 17  SGOT            123 non-null    float64\n",
      " 18  Albumin         123 non-null    float64\n",
      " 19  Protime         123 non-null    float64\n",
      "dtypes: float64(6), int64(14)\n",
      "memory usage: 19.3 KB\n"
     ]
    }
   ],
   "source": [
    "# Criando o dataframe de treino:\n",
    "train_set_v2 = pd.concat([train_cat_df, fe_train_num_df], axis=1)\n",
    "# Resumo do dataframe:\n",
    "train_set_v2.info()"
   ]
  },
  {
   "cell_type": "markdown",
   "metadata": {},
   "source": [
    "## <font color='blue'>6- Salvar os *dataframes* de `treino` e `teste`</font>"
   ]
  },
  {
   "cell_type": "markdown",
   "metadata": {},
   "source": [
    "### Dados de Treino: `train_set_v1` e `train_set_v2`:"
   ]
  },
  {
   "cell_type": "code",
   "execution_count": 30,
   "metadata": {},
   "outputs": [],
   "source": [
    "# Salvando o dataframe de treino \"train_set_v1\":\n",
    "dslib.pickle_object_save (path=DATA_PATH, file=\"train_set_v1.pkl\", object_name=train_set_v1)\n",
    "# Salvando o dataframe de treino \"train_set_v2\":\n",
    "dslib.pickle_object_save (path=DATA_PATH, file=\"train_set_v2.pkl\", object_name=train_set_v2)"
   ]
  },
  {
   "cell_type": "markdown",
   "metadata": {},
   "source": [
    "### Dados de Teste: `test_set`:"
   ]
  },
  {
   "cell_type": "code",
   "execution_count": 31,
   "metadata": {},
   "outputs": [],
   "source": [
    "# Salvando o dataframe de teste \"test_set\":\n",
    "dslib.pickle_object_save (path=DATA_PATH, file=\"test_set.pkl\", object_name=test_set)"
   ]
  },
  {
   "cell_type": "markdown",
   "metadata": {},
   "source": [
    "## <font color='black'>FIM</font>"
   ]
  }
 ],
 "metadata": {
  "kernelspec": {
   "display_name": "Python 3 (ipykernel)",
   "language": "python",
   "name": "python3"
  },
  "language_info": {
   "codemirror_mode": {
    "name": "ipython",
    "version": 3
   },
   "file_extension": ".py",
   "mimetype": "text/x-python",
   "name": "python",
   "nbconvert_exporter": "python",
   "pygments_lexer": "ipython3",
   "version": "3.8.12"
  }
 },
 "nbformat": 4,
 "nbformat_minor": 2
}
