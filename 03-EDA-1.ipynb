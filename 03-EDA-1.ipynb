{
 "cells": [
  {
   "cell_type": "markdown",
   "metadata": {},
   "source": [
    "***\n",
    "# `Project:` Prevendo a <font color='blue'>morte</font> ou <font color='blue'>vida</font> de pacientes com hepatite\n",
    "\n",
    "## `Date:` fevereiro, 2022\n",
    "\n",
    "## `Data Scientist:` Walter Trevisan\n",
    "***"
   ]
  },
  {
   "cell_type": "markdown",
   "metadata": {},
   "source": [
    "# `Análise Exploratória(EDA)-Etapa 1`\n",
    "\n",
    "Nesta etapa, vamos realizar a **`Análise Exploratória`** dos dados, utilizando o *dataset* de treinamento que foi preparado na etapa anterior, ou seja, o *data frame* que foi salvo no arquivo **`strat_train_set.pkl`**.\n",
    "\n",
    "Então, vamos realizar as seguintes atividades:\n",
    "\n",
    "1. **Carregar** o *data frame* de treinamento, salvo no arquivo **`strat_train_set.pkl`**;\n",
    "\n",
    "2. **Entender** as informações e os tipos de dados;\n",
    "\n",
    "3. **Preparar** os **dados** de acordo com o contexto do projeto;\n",
    "\n",
    "4. **Analisar** e **tratar** os **valores ausentes** para as variáveis **categóricas** e **numéricas**;\n",
    "\n",
    "5. **Realizar** uma **análise univariada** das variáveis **categóricas**;\n",
    "\n",
    "6. **Salvar** o *dataframe* de treinamento modificado;\n",
    "\n",
    "7. **Salvar** os objetos utilizados nos processos de **imputação univariada** e **imputação múltipla**.\n",
    "\n",
    "8. **Conclusões** desta etapa;"
   ]
  },
  {
   "cell_type": "markdown",
   "metadata": {},
   "source": [
    "## <font color='blue'>Setup</font>\n",
    "\n",
    "Primeiro, vamos carregar os **pacotes e funções** que serão utilizadas neste **notebook**."
   ]
  },
  {
   "cell_type": "code",
   "execution_count": 1,
   "metadata": {},
   "outputs": [
    {
     "name": "stdout",
     "output_type": "stream",
     "text": [
      "Setup Complete!\n"
     ]
    }
   ],
   "source": [
    "# As novas versões do Pandas e Matplotlib trazem diversas mensagens de aviso ao desenvolvedor.\n",
    "# Então, vamos desativar essas mensagens.\n",
    "import sys # O pacote \"sys\" permite manipulações com o sistema operacional:\n",
    "import os  # Operation System (Packages and Functions)\n",
    "import warnings\n",
    "if not sys.warnoptions:\n",
    "    warnings.simplefilter(\"ignore\")\n",
    "warnings.simplefilter(action='ignore', category=FutureWarning)\n",
    "warnings.filterwarnings(\"ignore\", category=FutureWarning)\n",
    "\n",
    "# Importa função para verificarmos a versão da linguagem python:\n",
    "from platform import python_version\n",
    "\n",
    "# Importando o pacote NumPy:\n",
    "import numpy as np\n",
    "# Importando o pacote Pandas:\n",
    "import pandas as pd\n",
    "# Importando o pacote Scipy:\n",
    "import scipy\n",
    "\n",
    "# Importando o pacote do Scikit-Learn:\n",
    "import sklearn as skl \n",
    "# Funções para tratamento de valores ausentes e outliers:\n",
    "from sklearn.impute import SimpleImputer\n",
    "from sklearn.experimental import enable_iterative_imputer\n",
    "from sklearn.impute import IterativeImputer\n",
    "from sklearn.ensemble import ExtraTreesRegressor\n",
    "from sklearn.linear_model import BayesianRidge\n",
    "# Define o \"seed\" para reproduzir os mesmos resultados no tratamento\n",
    "# de valores ausentes para as variáveis numéricas:\n",
    "SEED = 42\n",
    "\n",
    "# Importando pacotes para visualização de gráficos:\n",
    "import matplotlib as mpl\n",
    "import matplotlib.pyplot as plt\n",
    "# Importa o pacote \"seaborn\" para criarmos gráficos estatísticos:\n",
    "import seaborn as sns\n",
    "%matplotlib inline\n",
    "\n",
    "# Definindo o diretório raiz (Root) onde serão armazenados todas as informações\n",
    "# (Imagens, Gráficos, Objetos, Dados, Modelos de ML, etc...) do projeto.\n",
    "# Diretório Raiz (Root) do Projeto:\n",
    "ROOT_DIR = \".\"\n",
    "\n",
    "# Path: onde ficarão armazenados os \"Objetos\" (Estrututras de Dados) relacionados ao Projeto:\n",
    "OBJ_PATH = os.path.join(ROOT_DIR, \"objects\")\n",
    "# Criando o diretório, se ele não existir:\n",
    "os.makedirs(OBJ_PATH, exist_ok=True)\n",
    "\n",
    "# Path: onde ficarão armazenados os \"datasets\" (arquivos \"csv\") e os \"objetos\" (Data Frames) do Projeto:\n",
    "DATA_PATH = os.path.join(ROOT_DIR, \"data\")\n",
    "# Criando o diretório, se ele não existir:\n",
    "os.makedirs(DATA_PATH, exist_ok=True)\n",
    "\n",
    "# Path: onde serão armazenadas as \"Imagens\" (Figuras e Gráficos) do Projeto:\n",
    "GRAPHICS_PATH = os.path.join(ROOT_DIR, \"images\", \"graphics\")\n",
    "# Criando o diretório, se ele não existir:\n",
    "os.makedirs(GRAPHICS_PATH, exist_ok=True)\n",
    "\n",
    "# Path: onde estão armazenadas as classes e funções que serão utilizadas neste notebook:\n",
    "LIB_PATH = os.path.join(ROOT_DIR, \"library\")\n",
    "\n",
    "# Adicionando o diretório \"./library\" ao 'path' do Sistema, para podermos importar classes e funções que serão\n",
    "# utilizadas neste notebook:\n",
    "sys.path.append(LIB_PATH)\n",
    "\n",
    "# Importando para este notebook, as classes e funções definidas no módulo \"data_science_library.py\":\n",
    "import data_science_library as dslib\n",
    "\n",
    "# Importando para este notebook, as classes e funções definidas no módulo \"plot_library.py\":\n",
    "import plot_library as ptlib\n",
    "\n",
    "# Importando para este notebook, as classes e funções definidas no módulo \"project_library.py\":\n",
    "import project_library as pjlib\n",
    "\n",
    "# Criando um objeto para calularmos o tempo gasto no processo de \"imputação múltipla\"\n",
    "# das variáveis numéricas:\n",
    "ept = dslib.ElapsedTime(builder_msg=False)\n",
    "\n",
    "print(\"Setup Complete!\")"
   ]
  },
  {
   "cell_type": "code",
   "execution_count": 2,
   "metadata": {
    "scrolled": true
   },
   "outputs": [
    {
     "name": "stdout",
     "output_type": "stream",
     "text": [
      "Versões dos pacotes usados neste jupyter notebook:\n",
      "Python      : 3.8.12\n",
      "Numpy       : 1.19.5\n",
      "Pandas      : 1.3.5\n",
      "Scipy       : 1.7.3\n",
      "Matplotlib  : 3.4.3\n",
      "Seaborn     : 0.11.2\n",
      "Scikit-Learn: 1.0.2\n"
     ]
    }
   ],
   "source": [
    "# Versões dos pacotes usados neste jupyter notebook:\n",
    "print(\"Versões dos pacotes usados neste jupyter notebook:\")\n",
    "print(\"Python      : {}\".format(python_version()))\n",
    "print(\"Numpy       : {}\".format(np.__version__))\n",
    "print(\"Pandas      : {}\".format(pd.__version__))\n",
    "print(\"Scipy       : {}\".format(scipy.__version__))\n",
    "print(\"Matplotlib  : {}\".format(mpl.__version__))\n",
    "print(\"Seaborn     : {}\".format(sns.__version__))\n",
    "print(\"Scikit-Learn: {}\".format(skl.__version__))"
   ]
  },
  {
   "cell_type": "markdown",
   "metadata": {},
   "source": [
    "## <font color='blue'>1- Carregar o *data frame* de treinamento: `strat_train_set.pkl`</font>"
   ]
  },
  {
   "cell_type": "code",
   "execution_count": 3,
   "metadata": {},
   "outputs": [
    {
     "name": "stdout",
     "output_type": "stream",
     "text": [
      "O arquivo 'strat_train_set.pkl' (data frame) foi carregado com sucesso!\n"
     ]
    }
   ],
   "source": [
    "# Carregando o objeto (data frame) \"strat_train_set\":\n",
    "train_df = dslib.pickle_object_load(\n",
    "    path=DATA_PATH, file=\"strat_train_set.pkl\",\n",
    "    msg=\"O arquivo 'strat_train_set.pkl' (data frame) foi carregado com sucesso!\"\n",
    ")"
   ]
  },
  {
   "cell_type": "markdown",
   "metadata": {},
   "source": [
    "## <font color='blue'>2- Entender as informações e os tipos de dados do *dataset*</font>"
   ]
  },
  {
   "cell_type": "markdown",
   "metadata": {},
   "source": [
    "Visualizando os primeiros 10 registros do nosso *dataset*:"
   ]
  },
  {
   "cell_type": "code",
   "execution_count": 4,
   "metadata": {},
   "outputs": [
    {
     "data": {
      "text/html": [
       "<div>\n",
       "<style scoped>\n",
       "    .dataframe tbody tr th:only-of-type {\n",
       "        vertical-align: middle;\n",
       "    }\n",
       "\n",
       "    .dataframe tbody tr th {\n",
       "        vertical-align: top;\n",
       "    }\n",
       "\n",
       "    .dataframe thead th {\n",
       "        text-align: right;\n",
       "    }\n",
       "</style>\n",
       "<table border=\"1\" class=\"dataframe\">\n",
       "  <thead>\n",
       "    <tr style=\"text-align: right;\">\n",
       "      <th></th>\n",
       "      <th>Class</th>\n",
       "      <th>Age</th>\n",
       "      <th>Gender</th>\n",
       "      <th>Steroid</th>\n",
       "      <th>Antivirals</th>\n",
       "      <th>Fatigue</th>\n",
       "      <th>Malaise</th>\n",
       "      <th>Anorexia</th>\n",
       "      <th>LiverBig</th>\n",
       "      <th>LiverFirm</th>\n",
       "      <th>SpleenPalpable</th>\n",
       "      <th>Spiders</th>\n",
       "      <th>Ascites</th>\n",
       "      <th>Varices</th>\n",
       "      <th>Bilirubin</th>\n",
       "      <th>AlkPhosphate</th>\n",
       "      <th>SGOT</th>\n",
       "      <th>Albumin</th>\n",
       "      <th>Protime</th>\n",
       "      <th>Histology</th>\n",
       "    </tr>\n",
       "  </thead>\n",
       "  <tbody>\n",
       "    <tr>\n",
       "      <th>0</th>\n",
       "      <td>1</td>\n",
       "      <td>48</td>\n",
       "      <td>1</td>\n",
       "      <td>1</td>\n",
       "      <td>2</td>\n",
       "      <td>1</td>\n",
       "      <td>1</td>\n",
       "      <td>2</td>\n",
       "      <td>2</td>\n",
       "      <td>1</td>\n",
       "      <td>2</td>\n",
       "      <td>1</td>\n",
       "      <td>1</td>\n",
       "      <td>1</td>\n",
       "      <td>4.80</td>\n",
       "      <td>123</td>\n",
       "      <td>157</td>\n",
       "      <td>2.7</td>\n",
       "      <td>31</td>\n",
       "      <td>2</td>\n",
       "    </tr>\n",
       "    <tr>\n",
       "      <th>1</th>\n",
       "      <td>2</td>\n",
       "      <td>39</td>\n",
       "      <td>1</td>\n",
       "      <td>1</td>\n",
       "      <td>1</td>\n",
       "      <td>2</td>\n",
       "      <td>2</td>\n",
       "      <td>2</td>\n",
       "      <td>1</td>\n",
       "      <td>1</td>\n",
       "      <td>2</td>\n",
       "      <td>2</td>\n",
       "      <td>2</td>\n",
       "      <td>2</td>\n",
       "      <td>1.30</td>\n",
       "      <td>78</td>\n",
       "      <td>30</td>\n",
       "      <td>4.4</td>\n",
       "      <td>85</td>\n",
       "      <td>1</td>\n",
       "    </tr>\n",
       "    <tr>\n",
       "      <th>2</th>\n",
       "      <td>2</td>\n",
       "      <td>20</td>\n",
       "      <td>2</td>\n",
       "      <td>1</td>\n",
       "      <td>2</td>\n",
       "      <td>1</td>\n",
       "      <td>1</td>\n",
       "      <td>1</td>\n",
       "      <td>1</td>\n",
       "      <td>1</td>\n",
       "      <td>1</td>\n",
       "      <td>1</td>\n",
       "      <td>2</td>\n",
       "      <td>2</td>\n",
       "      <td>2.30</td>\n",
       "      <td>150</td>\n",
       "      <td>68</td>\n",
       "      <td>3.9</td>\n",
       "      <td>?</td>\n",
       "      <td>1</td>\n",
       "    </tr>\n",
       "    <tr>\n",
       "      <th>3</th>\n",
       "      <td>2</td>\n",
       "      <td>34</td>\n",
       "      <td>2</td>\n",
       "      <td>1</td>\n",
       "      <td>1</td>\n",
       "      <td>2</td>\n",
       "      <td>2</td>\n",
       "      <td>2</td>\n",
       "      <td>2</td>\n",
       "      <td>1</td>\n",
       "      <td>2</td>\n",
       "      <td>2</td>\n",
       "      <td>2</td>\n",
       "      <td>2</td>\n",
       "      <td>0.60</td>\n",
       "      <td>30</td>\n",
       "      <td>24</td>\n",
       "      <td>4.0</td>\n",
       "      <td>76</td>\n",
       "      <td>1</td>\n",
       "    </tr>\n",
       "    <tr>\n",
       "      <th>4</th>\n",
       "      <td>2</td>\n",
       "      <td>58</td>\n",
       "      <td>2</td>\n",
       "      <td>2</td>\n",
       "      <td>2</td>\n",
       "      <td>1</td>\n",
       "      <td>2</td>\n",
       "      <td>2</td>\n",
       "      <td>2</td>\n",
       "      <td>1</td>\n",
       "      <td>2</td>\n",
       "      <td>1</td>\n",
       "      <td>2</td>\n",
       "      <td>2</td>\n",
       "      <td>1.40</td>\n",
       "      <td>175</td>\n",
       "      <td>55</td>\n",
       "      <td>2.7</td>\n",
       "      <td>36</td>\n",
       "      <td>1</td>\n",
       "    </tr>\n",
       "    <tr>\n",
       "      <th>5</th>\n",
       "      <td>2</td>\n",
       "      <td>50</td>\n",
       "      <td>1</td>\n",
       "      <td>1</td>\n",
       "      <td>2</td>\n",
       "      <td>1</td>\n",
       "      <td>2</td>\n",
       "      <td>2</td>\n",
       "      <td>1</td>\n",
       "      <td>2</td>\n",
       "      <td>2</td>\n",
       "      <td>2</td>\n",
       "      <td>2</td>\n",
       "      <td>2</td>\n",
       "      <td>0.90</td>\n",
       "      <td>135</td>\n",
       "      <td>42</td>\n",
       "      <td>3.5</td>\n",
       "      <td>?</td>\n",
       "      <td>1</td>\n",
       "    </tr>\n",
       "    <tr>\n",
       "      <th>6</th>\n",
       "      <td>2</td>\n",
       "      <td>22</td>\n",
       "      <td>2</td>\n",
       "      <td>2</td>\n",
       "      <td>1</td>\n",
       "      <td>1</td>\n",
       "      <td>2</td>\n",
       "      <td>2</td>\n",
       "      <td>2</td>\n",
       "      <td>2</td>\n",
       "      <td>2</td>\n",
       "      <td>2</td>\n",
       "      <td>2</td>\n",
       "      <td>2</td>\n",
       "      <td>0.90</td>\n",
       "      <td>48</td>\n",
       "      <td>20</td>\n",
       "      <td>4.2</td>\n",
       "      <td>64</td>\n",
       "      <td>1</td>\n",
       "    </tr>\n",
       "    <tr>\n",
       "      <th>7</th>\n",
       "      <td>2</td>\n",
       "      <td>23</td>\n",
       "      <td>1</td>\n",
       "      <td>2</td>\n",
       "      <td>2</td>\n",
       "      <td>2</td>\n",
       "      <td>2</td>\n",
       "      <td>2</td>\n",
       "      <td>?</td>\n",
       "      <td>?</td>\n",
       "      <td>?</td>\n",
       "      <td>?</td>\n",
       "      <td>?</td>\n",
       "      <td>?</td>\n",
       "      <td>4.60</td>\n",
       "      <td>56</td>\n",
       "      <td>16</td>\n",
       "      <td>4.6</td>\n",
       "      <td>?</td>\n",
       "      <td>1</td>\n",
       "    </tr>\n",
       "    <tr>\n",
       "      <th>8</th>\n",
       "      <td>2</td>\n",
       "      <td>33</td>\n",
       "      <td>1</td>\n",
       "      <td>2</td>\n",
       "      <td>2</td>\n",
       "      <td>2</td>\n",
       "      <td>2</td>\n",
       "      <td>2</td>\n",
       "      <td>?</td>\n",
       "      <td>?</td>\n",
       "      <td>2</td>\n",
       "      <td>2</td>\n",
       "      <td>2</td>\n",
       "      <td>2</td>\n",
       "      <td>1.00</td>\n",
       "      <td>?</td>\n",
       "      <td>60</td>\n",
       "      <td>4.0</td>\n",
       "      <td>?</td>\n",
       "      <td>2</td>\n",
       "    </tr>\n",
       "    <tr>\n",
       "      <th>9</th>\n",
       "      <td>2</td>\n",
       "      <td>37</td>\n",
       "      <td>1</td>\n",
       "      <td>1</td>\n",
       "      <td>2</td>\n",
       "      <td>1</td>\n",
       "      <td>1</td>\n",
       "      <td>1</td>\n",
       "      <td>2</td>\n",
       "      <td>2</td>\n",
       "      <td>2</td>\n",
       "      <td>2</td>\n",
       "      <td>2</td>\n",
       "      <td>2</td>\n",
       "      <td>0.80</td>\n",
       "      <td>92</td>\n",
       "      <td>59</td>\n",
       "      <td>?</td>\n",
       "      <td>?</td>\n",
       "      <td>1</td>\n",
       "    </tr>\n",
       "  </tbody>\n",
       "</table>\n",
       "</div>"
      ],
      "text/plain": [
       "   Class  Age  Gender Steroid  Antivirals Fatigue Malaise Anorexia LiverBig  \\\n",
       "0      1   48       1       1           2       1       1        2        2   \n",
       "1      2   39       1       1           1       2       2        2        1   \n",
       "2      2   20       2       1           2       1       1        1        1   \n",
       "3      2   34       2       1           1       2       2        2        2   \n",
       "4      2   58       2       2           2       1       2        2        2   \n",
       "5      2   50       1       1           2       1       2        2        1   \n",
       "6      2   22       2       2           1       1       2        2        2   \n",
       "7      2   23       1       2           2       2       2        2        ?   \n",
       "8      2   33       1       2           2       2       2        2        ?   \n",
       "9      2   37       1       1           2       1       1        1        2   \n",
       "\n",
       "  LiverFirm SpleenPalpable Spiders Ascites Varices Bilirubin AlkPhosphate  \\\n",
       "0         1              2       1       1       1      4.80          123   \n",
       "1         1              2       2       2       2      1.30           78   \n",
       "2         1              1       1       2       2      2.30          150   \n",
       "3         1              2       2       2       2      0.60           30   \n",
       "4         1              2       1       2       2      1.40          175   \n",
       "5         2              2       2       2       2      0.90          135   \n",
       "6         2              2       2       2       2      0.90           48   \n",
       "7         ?              ?       ?       ?       ?      4.60           56   \n",
       "8         ?              2       2       2       2      1.00            ?   \n",
       "9         2              2       2       2       2      0.80           92   \n",
       "\n",
       "  SGOT Albumin Protime  Histology  \n",
       "0  157     2.7      31          2  \n",
       "1   30     4.4      85          1  \n",
       "2   68     3.9       ?          1  \n",
       "3   24     4.0      76          1  \n",
       "4   55     2.7      36          1  \n",
       "5   42     3.5       ?          1  \n",
       "6   20     4.2      64          1  \n",
       "7   16     4.6       ?          1  \n",
       "8   60     4.0       ?          2  \n",
       "9   59       ?       ?          1  "
      ]
     },
     "execution_count": 4,
     "metadata": {},
     "output_type": "execute_result"
    }
   ],
   "source": [
    "# Visualizando os primeiros 10 registros:\n",
    "train_df.head(10)"
   ]
  },
  {
   "cell_type": "code",
   "execution_count": 5,
   "metadata": {},
   "outputs": [
    {
     "name": "stdout",
     "output_type": "stream",
     "text": [
      "<class 'pandas.core.frame.DataFrame'>\n",
      "RangeIndex: 124 entries, 0 to 123\n",
      "Data columns (total 20 columns):\n",
      " #   Column          Non-Null Count  Dtype \n",
      "---  ------          --------------  ----- \n",
      " 0   Class           124 non-null    int64 \n",
      " 1   Age             124 non-null    int64 \n",
      " 2   Gender          124 non-null    int64 \n",
      " 3   Steroid         124 non-null    object\n",
      " 4   Antivirals      124 non-null    int64 \n",
      " 5   Fatigue         124 non-null    object\n",
      " 6   Malaise         124 non-null    object\n",
      " 7   Anorexia        124 non-null    object\n",
      " 8   LiverBig        124 non-null    object\n",
      " 9   LiverFirm       124 non-null    object\n",
      " 10  SpleenPalpable  124 non-null    object\n",
      " 11  Spiders         124 non-null    object\n",
      " 12  Ascites         124 non-null    object\n",
      " 13  Varices         124 non-null    object\n",
      " 14  Bilirubin       124 non-null    object\n",
      " 15  AlkPhosphate    124 non-null    object\n",
      " 16  SGOT            124 non-null    object\n",
      " 17  Albumin         124 non-null    object\n",
      " 18  Protime         124 non-null    object\n",
      " 19  Histology       124 non-null    int64 \n",
      "dtypes: int64(5), object(15)\n",
      "memory usage: 19.5+ KB\n"
     ]
    }
   ],
   "source": [
    "# Obtendo um resumo dos dados:\n",
    "train_df.info()"
   ]
  },
  {
   "cell_type": "markdown",
   "metadata": {},
   "source": [
    "**Análise:**\n",
    "\n",
    "* o nosso *dataset* de treinamento (`train_df`) possui um total de **124** observações, com **19** atributos (variáveis explicativas) e a nossa variável ***target*** (**`Class`**);\n",
    "\n",
    "* temos **`6`** variáveis explicativas **numéricas**: **`Age`**, **`Bilirubin`**, **`AlkPhosphate`**, **`SGOT`**, **`Albumin`**, e **`Protime`**;\n",
    "\n",
    "* temos **`13`** variáveis explicativas **categóricas**: **`Gender`**, **`Steroid`**, **`Antivirals`**, **`Fatigue`**, **`Malaise`**, **`Anorexia`**, **`LiverBig`**, **`LiverFirm`**, **`SpleenPalpable`**, **`Spiders`**, **`Ascites`**, **`Varices`**, e **`Histology`**;\n",
    "\n",
    "* todas as variáveis **categóricas** são **binárias**, ou seja, possuem **2 categorias**. Estas variáveis estão representadas pelas categorias **1** e **2**. Para um melhor entendimento, vamos substituir estas classes por **valores nominais**;\n",
    "\n",
    "* a grande maioria das variáveis explicativas possuem alguns valores iguais a **`?`**, ou seja, são valores ausentes (*missing values*) que precisarão ser tratados."
   ]
  },
  {
   "cell_type": "markdown",
   "metadata": {},
   "source": [
    "## <font color='blue'>3- Preparar os `dados` de acordo com o contexto do projeto</font>"
   ]
  },
  {
   "cell_type": "markdown",
   "metadata": {},
   "source": [
    "### Preparando as variáveis categóricas e numéricas"
   ]
  },
  {
   "cell_type": "code",
   "execution_count": 6,
   "metadata": {},
   "outputs": [],
   "source": [
    "# Preparando as variáveis categóricas e numéricas:\n",
    "data_df = pjlib.data_prep_step_1(df=train_df, target=True)"
   ]
  },
  {
   "cell_type": "markdown",
   "metadata": {},
   "source": [
    "### Analisando os resultados"
   ]
  },
  {
   "cell_type": "code",
   "execution_count": 7,
   "metadata": {},
   "outputs": [
    {
     "name": "stdout",
     "output_type": "stream",
     "text": [
      "<class 'pandas.core.frame.DataFrame'>\n",
      "RangeIndex: 124 entries, 0 to 123\n",
      "Data columns (total 20 columns):\n",
      " #   Column          Non-Null Count  Dtype  \n",
      "---  ------          --------------  -----  \n",
      " 0   Class           124 non-null    object \n",
      " 1   Age             124 non-null    float64\n",
      " 2   Gender          124 non-null    object \n",
      " 3   Steroid         124 non-null    object \n",
      " 4   Antivirals      124 non-null    object \n",
      " 5   Fatigue         123 non-null    object \n",
      " 6   Malaise         123 non-null    object \n",
      " 7   Anorexia        123 non-null    object \n",
      " 8   LiverBig        114 non-null    object \n",
      " 9   LiverFirm       113 non-null    object \n",
      " 10  SpleenPalpable  119 non-null    object \n",
      " 11  Spiders         119 non-null    object \n",
      " 12  Ascites         119 non-null    object \n",
      " 13  Varices         119 non-null    object \n",
      " 14  Bilirubin       119 non-null    float64\n",
      " 15  AlkPhosphate    101 non-null    float64\n",
      " 16  SGOT            121 non-null    float64\n",
      " 17  Albumin         112 non-null    float64\n",
      " 18  Protime         71 non-null     float64\n",
      " 19  Histology       124 non-null    object \n",
      "dtypes: float64(6), object(14)\n",
      "memory usage: 19.5+ KB\n"
     ]
    }
   ],
   "source": [
    "# Obtendo um resumo dos dados:\n",
    "data_df.info()"
   ]
  },
  {
   "cell_type": "code",
   "execution_count": 8,
   "metadata": {},
   "outputs": [
    {
     "data": {
      "text/html": [
       "<div>\n",
       "<style scoped>\n",
       "    .dataframe tbody tr th:only-of-type {\n",
       "        vertical-align: middle;\n",
       "    }\n",
       "\n",
       "    .dataframe tbody tr th {\n",
       "        vertical-align: top;\n",
       "    }\n",
       "\n",
       "    .dataframe thead th {\n",
       "        text-align: right;\n",
       "    }\n",
       "</style>\n",
       "<table border=\"1\" class=\"dataframe\">\n",
       "  <thead>\n",
       "    <tr style=\"text-align: right;\">\n",
       "      <th></th>\n",
       "      <th>Class</th>\n",
       "      <th>Age</th>\n",
       "      <th>Gender</th>\n",
       "      <th>Steroid</th>\n",
       "      <th>Antivirals</th>\n",
       "      <th>Fatigue</th>\n",
       "      <th>Malaise</th>\n",
       "      <th>Anorexia</th>\n",
       "      <th>LiverBig</th>\n",
       "      <th>LiverFirm</th>\n",
       "      <th>SpleenPalpable</th>\n",
       "      <th>Spiders</th>\n",
       "      <th>Ascites</th>\n",
       "      <th>Varices</th>\n",
       "      <th>Bilirubin</th>\n",
       "      <th>AlkPhosphate</th>\n",
       "      <th>SGOT</th>\n",
       "      <th>Albumin</th>\n",
       "      <th>Protime</th>\n",
       "      <th>Histology</th>\n",
       "    </tr>\n",
       "  </thead>\n",
       "  <tbody>\n",
       "    <tr>\n",
       "      <th>0</th>\n",
       "      <td>DIE</td>\n",
       "      <td>48.0</td>\n",
       "      <td>male</td>\n",
       "      <td>no</td>\n",
       "      <td>yes</td>\n",
       "      <td>no</td>\n",
       "      <td>no</td>\n",
       "      <td>yes</td>\n",
       "      <td>yes</td>\n",
       "      <td>no</td>\n",
       "      <td>yes</td>\n",
       "      <td>no</td>\n",
       "      <td>no</td>\n",
       "      <td>no</td>\n",
       "      <td>48.0</td>\n",
       "      <td>123.0</td>\n",
       "      <td>157.0</td>\n",
       "      <td>27.0</td>\n",
       "      <td>31.0</td>\n",
       "      <td>yes</td>\n",
       "    </tr>\n",
       "    <tr>\n",
       "      <th>1</th>\n",
       "      <td>LIVE</td>\n",
       "      <td>39.0</td>\n",
       "      <td>male</td>\n",
       "      <td>no</td>\n",
       "      <td>no</td>\n",
       "      <td>yes</td>\n",
       "      <td>yes</td>\n",
       "      <td>yes</td>\n",
       "      <td>no</td>\n",
       "      <td>no</td>\n",
       "      <td>yes</td>\n",
       "      <td>yes</td>\n",
       "      <td>yes</td>\n",
       "      <td>yes</td>\n",
       "      <td>13.0</td>\n",
       "      <td>78.0</td>\n",
       "      <td>30.0</td>\n",
       "      <td>44.0</td>\n",
       "      <td>85.0</td>\n",
       "      <td>no</td>\n",
       "    </tr>\n",
       "    <tr>\n",
       "      <th>2</th>\n",
       "      <td>LIVE</td>\n",
       "      <td>20.0</td>\n",
       "      <td>female</td>\n",
       "      <td>no</td>\n",
       "      <td>yes</td>\n",
       "      <td>no</td>\n",
       "      <td>no</td>\n",
       "      <td>no</td>\n",
       "      <td>no</td>\n",
       "      <td>no</td>\n",
       "      <td>no</td>\n",
       "      <td>no</td>\n",
       "      <td>yes</td>\n",
       "      <td>yes</td>\n",
       "      <td>23.0</td>\n",
       "      <td>150.0</td>\n",
       "      <td>68.0</td>\n",
       "      <td>39.0</td>\n",
       "      <td>NaN</td>\n",
       "      <td>no</td>\n",
       "    </tr>\n",
       "    <tr>\n",
       "      <th>3</th>\n",
       "      <td>LIVE</td>\n",
       "      <td>34.0</td>\n",
       "      <td>female</td>\n",
       "      <td>no</td>\n",
       "      <td>no</td>\n",
       "      <td>yes</td>\n",
       "      <td>yes</td>\n",
       "      <td>yes</td>\n",
       "      <td>yes</td>\n",
       "      <td>no</td>\n",
       "      <td>yes</td>\n",
       "      <td>yes</td>\n",
       "      <td>yes</td>\n",
       "      <td>yes</td>\n",
       "      <td>6.0</td>\n",
       "      <td>30.0</td>\n",
       "      <td>24.0</td>\n",
       "      <td>40.0</td>\n",
       "      <td>76.0</td>\n",
       "      <td>no</td>\n",
       "    </tr>\n",
       "    <tr>\n",
       "      <th>4</th>\n",
       "      <td>LIVE</td>\n",
       "      <td>58.0</td>\n",
       "      <td>female</td>\n",
       "      <td>yes</td>\n",
       "      <td>yes</td>\n",
       "      <td>no</td>\n",
       "      <td>yes</td>\n",
       "      <td>yes</td>\n",
       "      <td>yes</td>\n",
       "      <td>no</td>\n",
       "      <td>yes</td>\n",
       "      <td>no</td>\n",
       "      <td>yes</td>\n",
       "      <td>yes</td>\n",
       "      <td>14.0</td>\n",
       "      <td>175.0</td>\n",
       "      <td>55.0</td>\n",
       "      <td>27.0</td>\n",
       "      <td>36.0</td>\n",
       "      <td>no</td>\n",
       "    </tr>\n",
       "    <tr>\n",
       "      <th>5</th>\n",
       "      <td>LIVE</td>\n",
       "      <td>50.0</td>\n",
       "      <td>male</td>\n",
       "      <td>no</td>\n",
       "      <td>yes</td>\n",
       "      <td>no</td>\n",
       "      <td>yes</td>\n",
       "      <td>yes</td>\n",
       "      <td>no</td>\n",
       "      <td>yes</td>\n",
       "      <td>yes</td>\n",
       "      <td>yes</td>\n",
       "      <td>yes</td>\n",
       "      <td>yes</td>\n",
       "      <td>9.0</td>\n",
       "      <td>135.0</td>\n",
       "      <td>42.0</td>\n",
       "      <td>35.0</td>\n",
       "      <td>NaN</td>\n",
       "      <td>no</td>\n",
       "    </tr>\n",
       "    <tr>\n",
       "      <th>6</th>\n",
       "      <td>LIVE</td>\n",
       "      <td>22.0</td>\n",
       "      <td>female</td>\n",
       "      <td>yes</td>\n",
       "      <td>no</td>\n",
       "      <td>no</td>\n",
       "      <td>yes</td>\n",
       "      <td>yes</td>\n",
       "      <td>yes</td>\n",
       "      <td>yes</td>\n",
       "      <td>yes</td>\n",
       "      <td>yes</td>\n",
       "      <td>yes</td>\n",
       "      <td>yes</td>\n",
       "      <td>9.0</td>\n",
       "      <td>48.0</td>\n",
       "      <td>20.0</td>\n",
       "      <td>42.0</td>\n",
       "      <td>64.0</td>\n",
       "      <td>no</td>\n",
       "    </tr>\n",
       "    <tr>\n",
       "      <th>7</th>\n",
       "      <td>LIVE</td>\n",
       "      <td>23.0</td>\n",
       "      <td>male</td>\n",
       "      <td>yes</td>\n",
       "      <td>yes</td>\n",
       "      <td>yes</td>\n",
       "      <td>yes</td>\n",
       "      <td>yes</td>\n",
       "      <td>NaN</td>\n",
       "      <td>NaN</td>\n",
       "      <td>NaN</td>\n",
       "      <td>NaN</td>\n",
       "      <td>NaN</td>\n",
       "      <td>NaN</td>\n",
       "      <td>46.0</td>\n",
       "      <td>56.0</td>\n",
       "      <td>16.0</td>\n",
       "      <td>46.0</td>\n",
       "      <td>NaN</td>\n",
       "      <td>no</td>\n",
       "    </tr>\n",
       "    <tr>\n",
       "      <th>8</th>\n",
       "      <td>LIVE</td>\n",
       "      <td>33.0</td>\n",
       "      <td>male</td>\n",
       "      <td>yes</td>\n",
       "      <td>yes</td>\n",
       "      <td>yes</td>\n",
       "      <td>yes</td>\n",
       "      <td>yes</td>\n",
       "      <td>NaN</td>\n",
       "      <td>NaN</td>\n",
       "      <td>yes</td>\n",
       "      <td>yes</td>\n",
       "      <td>yes</td>\n",
       "      <td>yes</td>\n",
       "      <td>10.0</td>\n",
       "      <td>NaN</td>\n",
       "      <td>60.0</td>\n",
       "      <td>40.0</td>\n",
       "      <td>NaN</td>\n",
       "      <td>yes</td>\n",
       "    </tr>\n",
       "    <tr>\n",
       "      <th>9</th>\n",
       "      <td>LIVE</td>\n",
       "      <td>37.0</td>\n",
       "      <td>male</td>\n",
       "      <td>no</td>\n",
       "      <td>yes</td>\n",
       "      <td>no</td>\n",
       "      <td>no</td>\n",
       "      <td>no</td>\n",
       "      <td>yes</td>\n",
       "      <td>yes</td>\n",
       "      <td>yes</td>\n",
       "      <td>yes</td>\n",
       "      <td>yes</td>\n",
       "      <td>yes</td>\n",
       "      <td>8.0</td>\n",
       "      <td>92.0</td>\n",
       "      <td>59.0</td>\n",
       "      <td>NaN</td>\n",
       "      <td>NaN</td>\n",
       "      <td>no</td>\n",
       "    </tr>\n",
       "  </tbody>\n",
       "</table>\n",
       "</div>"
      ],
      "text/plain": [
       "  Class   Age  Gender Steroid Antivirals Fatigue Malaise Anorexia LiverBig  \\\n",
       "0   DIE  48.0    male      no        yes      no      no      yes      yes   \n",
       "1  LIVE  39.0    male      no         no     yes     yes      yes       no   \n",
       "2  LIVE  20.0  female      no        yes      no      no       no       no   \n",
       "3  LIVE  34.0  female      no         no     yes     yes      yes      yes   \n",
       "4  LIVE  58.0  female     yes        yes      no     yes      yes      yes   \n",
       "5  LIVE  50.0    male      no        yes      no     yes      yes       no   \n",
       "6  LIVE  22.0  female     yes         no      no     yes      yes      yes   \n",
       "7  LIVE  23.0    male     yes        yes     yes     yes      yes      NaN   \n",
       "8  LIVE  33.0    male     yes        yes     yes     yes      yes      NaN   \n",
       "9  LIVE  37.0    male      no        yes      no      no       no      yes   \n",
       "\n",
       "  LiverFirm SpleenPalpable Spiders Ascites Varices  Bilirubin  AlkPhosphate  \\\n",
       "0        no            yes      no      no      no       48.0         123.0   \n",
       "1        no            yes     yes     yes     yes       13.0          78.0   \n",
       "2        no             no      no     yes     yes       23.0         150.0   \n",
       "3        no            yes     yes     yes     yes        6.0          30.0   \n",
       "4        no            yes      no     yes     yes       14.0         175.0   \n",
       "5       yes            yes     yes     yes     yes        9.0         135.0   \n",
       "6       yes            yes     yes     yes     yes        9.0          48.0   \n",
       "7       NaN            NaN     NaN     NaN     NaN       46.0          56.0   \n",
       "8       NaN            yes     yes     yes     yes       10.0           NaN   \n",
       "9       yes            yes     yes     yes     yes        8.0          92.0   \n",
       "\n",
       "    SGOT  Albumin  Protime Histology  \n",
       "0  157.0     27.0     31.0       yes  \n",
       "1   30.0     44.0     85.0        no  \n",
       "2   68.0     39.0      NaN        no  \n",
       "3   24.0     40.0     76.0        no  \n",
       "4   55.0     27.0     36.0        no  \n",
       "5   42.0     35.0      NaN        no  \n",
       "6   20.0     42.0     64.0        no  \n",
       "7   16.0     46.0      NaN        no  \n",
       "8   60.0     40.0      NaN       yes  \n",
       "9   59.0      NaN      NaN        no  "
      ]
     },
     "execution_count": 8,
     "metadata": {},
     "output_type": "execute_result"
    }
   ],
   "source": [
    "# Visualizando os primeiros 10 registros:\n",
    "data_df.head(10)"
   ]
  },
  {
   "cell_type": "markdown",
   "metadata": {},
   "source": [
    "**Análise:** agora o nosso *dataset* está com as informações aderentes ao contexto do projeto."
   ]
  },
  {
   "cell_type": "markdown",
   "metadata": {},
   "source": [
    "## <font color='blue'>4- Análise e tratamento de valores ausentes *`missing values`*</font>"
   ]
  },
  {
   "cell_type": "markdown",
   "metadata": {},
   "source": [
    "### 4.1- Tratamento das observações (`index`) com valores `NaN`\n",
    "\n",
    "Primeiro, vamos verificar a quantidade (%) de *missing values* em cada observação do nosso dataframe. Valore iguais ou acima de **50%** serão eliminados para não criarmos um *viés* nos dados, porque a maioria dos atributos possuem valores ausentes (`NaN`)."
   ]
  },
  {
   "cell_type": "code",
   "execution_count": 9,
   "metadata": {},
   "outputs": [
    {
     "data": {
      "text/html": [
       "<div>\n",
       "<style scoped>\n",
       "    .dataframe tbody tr th:only-of-type {\n",
       "        vertical-align: middle;\n",
       "    }\n",
       "\n",
       "    .dataframe tbody tr th {\n",
       "        vertical-align: top;\n",
       "    }\n",
       "\n",
       "    .dataframe thead th {\n",
       "        text-align: right;\n",
       "    }\n",
       "</style>\n",
       "<table border=\"1\" class=\"dataframe\">\n",
       "  <thead>\n",
       "    <tr style=\"text-align: right;\">\n",
       "      <th></th>\n",
       "      <th>Class</th>\n",
       "      <th>Age</th>\n",
       "      <th>Gender</th>\n",
       "      <th>Steroid</th>\n",
       "      <th>Antivirals</th>\n",
       "      <th>Fatigue</th>\n",
       "      <th>Malaise</th>\n",
       "      <th>Anorexia</th>\n",
       "      <th>LiverBig</th>\n",
       "      <th>LiverFirm</th>\n",
       "      <th>SpleenPalpable</th>\n",
       "      <th>Spiders</th>\n",
       "      <th>Ascites</th>\n",
       "      <th>Varices</th>\n",
       "      <th>Bilirubin</th>\n",
       "      <th>AlkPhosphate</th>\n",
       "      <th>SGOT</th>\n",
       "      <th>Albumin</th>\n",
       "      <th>Protime</th>\n",
       "      <th>Histology</th>\n",
       "    </tr>\n",
       "  </thead>\n",
       "  <tbody>\n",
       "    <tr>\n",
       "      <th>19</th>\n",
       "      <td>LIVE</td>\n",
       "      <td>34.0</td>\n",
       "      <td>male</td>\n",
       "      <td>no</td>\n",
       "      <td>yes</td>\n",
       "      <td>NaN</td>\n",
       "      <td>NaN</td>\n",
       "      <td>NaN</td>\n",
       "      <td>NaN</td>\n",
       "      <td>NaN</td>\n",
       "      <td>NaN</td>\n",
       "      <td>NaN</td>\n",
       "      <td>NaN</td>\n",
       "      <td>NaN</td>\n",
       "      <td>NaN</td>\n",
       "      <td>NaN</td>\n",
       "      <td>NaN</td>\n",
       "      <td>NaN</td>\n",
       "      <td>NaN</td>\n",
       "      <td>no</td>\n",
       "    </tr>\n",
       "  </tbody>\n",
       "</table>\n",
       "</div>"
      ],
      "text/plain": [
       "   Class   Age Gender Steroid Antivirals Fatigue Malaise Anorexia LiverBig  \\\n",
       "19  LIVE  34.0   male      no        yes     NaN     NaN      NaN      NaN   \n",
       "\n",
       "   LiverFirm SpleenPalpable Spiders Ascites Varices  Bilirubin  AlkPhosphate  \\\n",
       "19       NaN            NaN     NaN     NaN     NaN        NaN           NaN   \n",
       "\n",
       "    SGOT  Albumin  Protime Histology  \n",
       "19   NaN      NaN      NaN        no  "
      ]
     },
     "execution_count": 9,
     "metadata": {},
     "output_type": "execute_result"
    }
   ],
   "source": [
    "# Verificando os valores ausentes:\n",
    "df_mv = dslib.missing_values(data=data_df, axis=1, threshold=0.50, target='Class')\n",
    "\n",
    "# Visualizando os valores ausentes:\n",
    "data_df.loc[df_mv.index,]"
   ]
  },
  {
   "cell_type": "code",
   "execution_count": 10,
   "metadata": {},
   "outputs": [],
   "source": [
    "# Removendo a observação (index) do data frame:\n",
    "data_df.drop(index=list(df_mv.index), inplace=True)\n",
    "# Reset dos índices:\n",
    "data_df.reset_index(drop=True, inplace=True)"
   ]
  },
  {
   "cell_type": "markdown",
   "metadata": {},
   "source": [
    "### 4.2- Tratamento das variáveis (`columns`) com valores `NaN`\n",
    "\n",
    "Em seguida, vamos verificar a quantidade (%) de *missing values* em cada variável do nosso dataframe. Valore iguais ou acima de **50%** serão eliminados para não criarmos um *viés* nos dados, porque a maioria das informações sobre a variável possuem valores ausentes (`NaN`).\n",
    "\n",
    "Neste análise, vamos separar as variáveis em **categóricas** e **numéricas**. "
   ]
  },
  {
   "cell_type": "markdown",
   "metadata": {},
   "source": [
    "### 4.2.1- Tratamento das variáveis `categóricas`"
   ]
  },
  {
   "cell_type": "code",
   "execution_count": 11,
   "metadata": {},
   "outputs": [
    {
     "name": "stdout",
     "output_type": "stream",
     "text": [
      "Quantidade de variáveis: 6\n"
     ]
    },
    {
     "data": {
      "text/html": [
       "<div>\n",
       "<style scoped>\n",
       "    .dataframe tbody tr th:only-of-type {\n",
       "        vertical-align: middle;\n",
       "    }\n",
       "\n",
       "    .dataframe tbody tr th {\n",
       "        vertical-align: top;\n",
       "    }\n",
       "\n",
       "    .dataframe thead th {\n",
       "        text-align: right;\n",
       "    }\n",
       "</style>\n",
       "<table border=\"1\" class=\"dataframe\">\n",
       "  <thead>\n",
       "    <tr style=\"text-align: right;\">\n",
       "      <th>Attributes (Columns)</th>\n",
       "      <th>Total</th>\n",
       "      <th>Percent</th>\n",
       "    </tr>\n",
       "  </thead>\n",
       "  <tbody>\n",
       "    <tr>\n",
       "      <th>LiverFirm</th>\n",
       "      <td>10</td>\n",
       "      <td>0.081301</td>\n",
       "    </tr>\n",
       "    <tr>\n",
       "      <th>LiverBig</th>\n",
       "      <td>9</td>\n",
       "      <td>0.073171</td>\n",
       "    </tr>\n",
       "    <tr>\n",
       "      <th>SpleenPalpable</th>\n",
       "      <td>4</td>\n",
       "      <td>0.032520</td>\n",
       "    </tr>\n",
       "    <tr>\n",
       "      <th>Spiders</th>\n",
       "      <td>4</td>\n",
       "      <td>0.032520</td>\n",
       "    </tr>\n",
       "    <tr>\n",
       "      <th>Ascites</th>\n",
       "      <td>4</td>\n",
       "      <td>0.032520</td>\n",
       "    </tr>\n",
       "    <tr>\n",
       "      <th>Varices</th>\n",
       "      <td>4</td>\n",
       "      <td>0.032520</td>\n",
       "    </tr>\n",
       "  </tbody>\n",
       "</table>\n",
       "</div>"
      ],
      "text/plain": [
       "Attributes (Columns)  Total   Percent\n",
       "LiverFirm                10  0.081301\n",
       "LiverBig                  9  0.073171\n",
       "SpleenPalpable            4  0.032520\n",
       "Spiders                   4  0.032520\n",
       "Ascites                   4  0.032520\n",
       "Varices                   4  0.032520"
      ]
     },
     "execution_count": 11,
     "metadata": {},
     "output_type": "execute_result"
    }
   ],
   "source": [
    "# Separando as variáveis categóricas:\n",
    "var = (data_df.dtypes == 'object')\n",
    "var_cat = list(var[var == True].index)\n",
    "data_cat_df = data_df.loc[:, var_cat]\n",
    "# Verificando as variáveis com \"missing values\":\n",
    "df_mv = dslib.missing_values(data=data_cat_df, axis=0, threshold=0.01, target='Class')\n",
    "print('Quantidade de variáveis: {}'.format(len(df_mv)))\n",
    "df_mv"
   ]
  },
  {
   "cell_type": "markdown",
   "metadata": {},
   "source": [
    "Temos **6 variáveis** com valores ausentes. Vamos analisar a quantidade de observações em que esses valores estão ausentes:"
   ]
  },
  {
   "cell_type": "code",
   "execution_count": 12,
   "metadata": {},
   "outputs": [
    {
     "name": "stdout",
     "output_type": "stream",
     "text": [
      "Quantidade de observações: 11\n"
     ]
    },
    {
     "data": {
      "text/html": [
       "<div>\n",
       "<style scoped>\n",
       "    .dataframe tbody tr th:only-of-type {\n",
       "        vertical-align: middle;\n",
       "    }\n",
       "\n",
       "    .dataframe tbody tr th {\n",
       "        vertical-align: top;\n",
       "    }\n",
       "\n",
       "    .dataframe thead th {\n",
       "        text-align: right;\n",
       "    }\n",
       "</style>\n",
       "<table border=\"1\" class=\"dataframe\">\n",
       "  <thead>\n",
       "    <tr style=\"text-align: right;\">\n",
       "      <th>Observations (Index)</th>\n",
       "      <th>Total</th>\n",
       "      <th>Percent</th>\n",
       "    </tr>\n",
       "  </thead>\n",
       "  <tbody>\n",
       "    <tr>\n",
       "      <th>93</th>\n",
       "      <td>6</td>\n",
       "      <td>0.461538</td>\n",
       "    </tr>\n",
       "    <tr>\n",
       "      <th>112</th>\n",
       "      <td>6</td>\n",
       "      <td>0.461538</td>\n",
       "    </tr>\n",
       "    <tr>\n",
       "      <th>7</th>\n",
       "      <td>6</td>\n",
       "      <td>0.461538</td>\n",
       "    </tr>\n",
       "    <tr>\n",
       "      <th>97</th>\n",
       "      <td>4</td>\n",
       "      <td>0.307692</td>\n",
       "    </tr>\n",
       "    <tr>\n",
       "      <th>73</th>\n",
       "      <td>2</td>\n",
       "      <td>0.153846</td>\n",
       "    </tr>\n",
       "    <tr>\n",
       "      <th>23</th>\n",
       "      <td>2</td>\n",
       "      <td>0.153846</td>\n",
       "    </tr>\n",
       "    <tr>\n",
       "      <th>21</th>\n",
       "      <td>2</td>\n",
       "      <td>0.153846</td>\n",
       "    </tr>\n",
       "    <tr>\n",
       "      <th>80</th>\n",
       "      <td>2</td>\n",
       "      <td>0.153846</td>\n",
       "    </tr>\n",
       "    <tr>\n",
       "      <th>8</th>\n",
       "      <td>2</td>\n",
       "      <td>0.153846</td>\n",
       "    </tr>\n",
       "    <tr>\n",
       "      <th>70</th>\n",
       "      <td>2</td>\n",
       "      <td>0.153846</td>\n",
       "    </tr>\n",
       "    <tr>\n",
       "      <th>63</th>\n",
       "      <td>1</td>\n",
       "      <td>0.076923</td>\n",
       "    </tr>\n",
       "  </tbody>\n",
       "</table>\n",
       "</div>"
      ],
      "text/plain": [
       "Observations (Index)  Total   Percent\n",
       "93                        6  0.461538\n",
       "112                       6  0.461538\n",
       "7                         6  0.461538\n",
       "97                        4  0.307692\n",
       "73                        2  0.153846\n",
       "23                        2  0.153846\n",
       "21                        2  0.153846\n",
       "80                        2  0.153846\n",
       "8                         2  0.153846\n",
       "70                        2  0.153846\n",
       "63                        1  0.076923"
      ]
     },
     "execution_count": 12,
     "metadata": {},
     "output_type": "execute_result"
    }
   ],
   "source": [
    "# Observações com missing values:\n",
    "df_mv = dslib.missing_values(data=data_cat_df, axis=1, threshold=0.01, target='Class')\n",
    "print('Quantidade de observações: {}'.format(len(df_mv)))\n",
    "df_mv"
   ]
  },
  {
   "cell_type": "code",
   "execution_count": 13,
   "metadata": {},
   "outputs": [
    {
     "data": {
      "text/html": [
       "<div>\n",
       "<style scoped>\n",
       "    .dataframe tbody tr th:only-of-type {\n",
       "        vertical-align: middle;\n",
       "    }\n",
       "\n",
       "    .dataframe tbody tr th {\n",
       "        vertical-align: top;\n",
       "    }\n",
       "\n",
       "    .dataframe thead th {\n",
       "        text-align: right;\n",
       "    }\n",
       "</style>\n",
       "<table border=\"1\" class=\"dataframe\">\n",
       "  <thead>\n",
       "    <tr style=\"text-align: right;\">\n",
       "      <th></th>\n",
       "      <th>Class</th>\n",
       "      <th>Gender</th>\n",
       "      <th>Steroid</th>\n",
       "      <th>Antivirals</th>\n",
       "      <th>Fatigue</th>\n",
       "      <th>Malaise</th>\n",
       "      <th>Anorexia</th>\n",
       "      <th>LiverBig</th>\n",
       "      <th>LiverFirm</th>\n",
       "      <th>SpleenPalpable</th>\n",
       "      <th>Spiders</th>\n",
       "      <th>Ascites</th>\n",
       "      <th>Varices</th>\n",
       "      <th>Histology</th>\n",
       "    </tr>\n",
       "  </thead>\n",
       "  <tbody>\n",
       "    <tr>\n",
       "      <th>93</th>\n",
       "      <td>DIE</td>\n",
       "      <td>male</td>\n",
       "      <td>no</td>\n",
       "      <td>yes</td>\n",
       "      <td>no</td>\n",
       "      <td>no</td>\n",
       "      <td>no</td>\n",
       "      <td>NaN</td>\n",
       "      <td>NaN</td>\n",
       "      <td>NaN</td>\n",
       "      <td>NaN</td>\n",
       "      <td>NaN</td>\n",
       "      <td>NaN</td>\n",
       "      <td>yes</td>\n",
       "    </tr>\n",
       "    <tr>\n",
       "      <th>112</th>\n",
       "      <td>LIVE</td>\n",
       "      <td>male</td>\n",
       "      <td>yes</td>\n",
       "      <td>yes</td>\n",
       "      <td>no</td>\n",
       "      <td>no</td>\n",
       "      <td>no</td>\n",
       "      <td>NaN</td>\n",
       "      <td>NaN</td>\n",
       "      <td>NaN</td>\n",
       "      <td>NaN</td>\n",
       "      <td>NaN</td>\n",
       "      <td>NaN</td>\n",
       "      <td>no</td>\n",
       "    </tr>\n",
       "    <tr>\n",
       "      <th>7</th>\n",
       "      <td>LIVE</td>\n",
       "      <td>male</td>\n",
       "      <td>yes</td>\n",
       "      <td>yes</td>\n",
       "      <td>yes</td>\n",
       "      <td>yes</td>\n",
       "      <td>yes</td>\n",
       "      <td>NaN</td>\n",
       "      <td>NaN</td>\n",
       "      <td>NaN</td>\n",
       "      <td>NaN</td>\n",
       "      <td>NaN</td>\n",
       "      <td>NaN</td>\n",
       "      <td>no</td>\n",
       "    </tr>\n",
       "    <tr>\n",
       "      <th>97</th>\n",
       "      <td>LIVE</td>\n",
       "      <td>female</td>\n",
       "      <td>no</td>\n",
       "      <td>yes</td>\n",
       "      <td>no</td>\n",
       "      <td>no</td>\n",
       "      <td>yes</td>\n",
       "      <td>yes</td>\n",
       "      <td>yes</td>\n",
       "      <td>NaN</td>\n",
       "      <td>NaN</td>\n",
       "      <td>NaN</td>\n",
       "      <td>NaN</td>\n",
       "      <td>no</td>\n",
       "    </tr>\n",
       "    <tr>\n",
       "      <th>73</th>\n",
       "      <td>LIVE</td>\n",
       "      <td>male</td>\n",
       "      <td>yes</td>\n",
       "      <td>yes</td>\n",
       "      <td>no</td>\n",
       "      <td>no</td>\n",
       "      <td>no</td>\n",
       "      <td>NaN</td>\n",
       "      <td>NaN</td>\n",
       "      <td>yes</td>\n",
       "      <td>no</td>\n",
       "      <td>no</td>\n",
       "      <td>yes</td>\n",
       "      <td>yes</td>\n",
       "    </tr>\n",
       "    <tr>\n",
       "      <th>23</th>\n",
       "      <td>DIE</td>\n",
       "      <td>male</td>\n",
       "      <td>no</td>\n",
       "      <td>yes</td>\n",
       "      <td>no</td>\n",
       "      <td>no</td>\n",
       "      <td>yes</td>\n",
       "      <td>NaN</td>\n",
       "      <td>NaN</td>\n",
       "      <td>no</td>\n",
       "      <td>yes</td>\n",
       "      <td>no</td>\n",
       "      <td>yes</td>\n",
       "      <td>yes</td>\n",
       "    </tr>\n",
       "    <tr>\n",
       "      <th>21</th>\n",
       "      <td>DIE</td>\n",
       "      <td>male</td>\n",
       "      <td>no</td>\n",
       "      <td>yes</td>\n",
       "      <td>no</td>\n",
       "      <td>no</td>\n",
       "      <td>yes</td>\n",
       "      <td>NaN</td>\n",
       "      <td>NaN</td>\n",
       "      <td>yes</td>\n",
       "      <td>yes</td>\n",
       "      <td>yes</td>\n",
       "      <td>yes</td>\n",
       "      <td>no</td>\n",
       "    </tr>\n",
       "    <tr>\n",
       "      <th>80</th>\n",
       "      <td>DIE</td>\n",
       "      <td>male</td>\n",
       "      <td>no</td>\n",
       "      <td>yes</td>\n",
       "      <td>no</td>\n",
       "      <td>no</td>\n",
       "      <td>yes</td>\n",
       "      <td>NaN</td>\n",
       "      <td>NaN</td>\n",
       "      <td>yes</td>\n",
       "      <td>no</td>\n",
       "      <td>yes</td>\n",
       "      <td>yes</td>\n",
       "      <td>yes</td>\n",
       "    </tr>\n",
       "    <tr>\n",
       "      <th>8</th>\n",
       "      <td>LIVE</td>\n",
       "      <td>male</td>\n",
       "      <td>yes</td>\n",
       "      <td>yes</td>\n",
       "      <td>yes</td>\n",
       "      <td>yes</td>\n",
       "      <td>yes</td>\n",
       "      <td>NaN</td>\n",
       "      <td>NaN</td>\n",
       "      <td>yes</td>\n",
       "      <td>yes</td>\n",
       "      <td>yes</td>\n",
       "      <td>yes</td>\n",
       "      <td>yes</td>\n",
       "    </tr>\n",
       "    <tr>\n",
       "      <th>70</th>\n",
       "      <td>DIE</td>\n",
       "      <td>male</td>\n",
       "      <td>no</td>\n",
       "      <td>yes</td>\n",
       "      <td>no</td>\n",
       "      <td>yes</td>\n",
       "      <td>yes</td>\n",
       "      <td>NaN</td>\n",
       "      <td>NaN</td>\n",
       "      <td>no</td>\n",
       "      <td>no</td>\n",
       "      <td>no</td>\n",
       "      <td>yes</td>\n",
       "      <td>yes</td>\n",
       "    </tr>\n",
       "    <tr>\n",
       "      <th>63</th>\n",
       "      <td>LIVE</td>\n",
       "      <td>male</td>\n",
       "      <td>no</td>\n",
       "      <td>yes</td>\n",
       "      <td>yes</td>\n",
       "      <td>yes</td>\n",
       "      <td>yes</td>\n",
       "      <td>yes</td>\n",
       "      <td>NaN</td>\n",
       "      <td>yes</td>\n",
       "      <td>yes</td>\n",
       "      <td>yes</td>\n",
       "      <td>yes</td>\n",
       "      <td>yes</td>\n",
       "    </tr>\n",
       "  </tbody>\n",
       "</table>\n",
       "</div>"
      ],
      "text/plain": [
       "    Class  Gender Steroid Antivirals Fatigue Malaise Anorexia LiverBig  \\\n",
       "93    DIE    male      no        yes      no      no       no      NaN   \n",
       "112  LIVE    male     yes        yes      no      no       no      NaN   \n",
       "7    LIVE    male     yes        yes     yes     yes      yes      NaN   \n",
       "97   LIVE  female      no        yes      no      no      yes      yes   \n",
       "73   LIVE    male     yes        yes      no      no       no      NaN   \n",
       "23    DIE    male      no        yes      no      no      yes      NaN   \n",
       "21    DIE    male      no        yes      no      no      yes      NaN   \n",
       "80    DIE    male      no        yes      no      no      yes      NaN   \n",
       "8    LIVE    male     yes        yes     yes     yes      yes      NaN   \n",
       "70    DIE    male      no        yes      no     yes      yes      NaN   \n",
       "63   LIVE    male      no        yes     yes     yes      yes      yes   \n",
       "\n",
       "    LiverFirm SpleenPalpable Spiders Ascites Varices Histology  \n",
       "93        NaN            NaN     NaN     NaN     NaN       yes  \n",
       "112       NaN            NaN     NaN     NaN     NaN        no  \n",
       "7         NaN            NaN     NaN     NaN     NaN        no  \n",
       "97        yes            NaN     NaN     NaN     NaN        no  \n",
       "73        NaN            yes      no      no     yes       yes  \n",
       "23        NaN             no     yes      no     yes       yes  \n",
       "21        NaN            yes     yes     yes     yes        no  \n",
       "80        NaN            yes      no     yes     yes       yes  \n",
       "8         NaN            yes     yes     yes     yes       yes  \n",
       "70        NaN             no      no      no     yes       yes  \n",
       "63        NaN            yes     yes     yes     yes       yes  "
      ]
     },
     "execution_count": 13,
     "metadata": {},
     "output_type": "execute_result"
    }
   ],
   "source": [
    "# Visualizando todos os registros:\n",
    "data_cat_df.loc[df_mv.index, :]"
   ]
  },
  {
   "cell_type": "markdown",
   "metadata": {},
   "source": [
    "Embora sejam apenas **11 observações** com valores ausentes (`NaN`) não vamos optar inicialmente pela remoção das linhas porque temos um *dataset* com poucas observações para análise. Sabemos que essas variáveis possuem apenas 2 classes (categorias), e por isso não vamos substituí-los por uma nova categoria (por exemplo, **`unknown`**). Portanto, a nossa estratégia para o tratamento desses valores ausentes será substituí-los pela **moda** (medida estatística que calcula a classe com a **maior frequência** nos dados).\n",
    "\n",
    "Então, vamos utilizar a função `SimpleImputer` para realizar a substituição dos valores ausentes."
   ]
  },
  {
   "cell_type": "code",
   "execution_count": 14,
   "metadata": {},
   "outputs": [],
   "source": [
    "# Criando uma instância para substituição dos valores ausentes através da \"imputação univariada\",\n",
    "# para as variáveis categóricas:\n",
    "imputer_cat = SimpleImputer(strategy=\"most_frequent\")"
   ]
  },
  {
   "cell_type": "code",
   "execution_count": 15,
   "metadata": {},
   "outputs": [
    {
     "name": "stdout",
     "output_type": "stream",
     "text": [
      "Quantidade de variáveis: 0\n"
     ]
    },
    {
     "data": {
      "text/html": [
       "<div>\n",
       "<style scoped>\n",
       "    .dataframe tbody tr th:only-of-type {\n",
       "        vertical-align: middle;\n",
       "    }\n",
       "\n",
       "    .dataframe tbody tr th {\n",
       "        vertical-align: top;\n",
       "    }\n",
       "\n",
       "    .dataframe thead th {\n",
       "        text-align: right;\n",
       "    }\n",
       "</style>\n",
       "<table border=\"1\" class=\"dataframe\">\n",
       "  <thead>\n",
       "    <tr style=\"text-align: right;\">\n",
       "      <th>Attributes (Columns)</th>\n",
       "      <th>Total</th>\n",
       "      <th>Percent</th>\n",
       "    </tr>\n",
       "  </thead>\n",
       "  <tbody>\n",
       "  </tbody>\n",
       "</table>\n",
       "</div>"
      ],
      "text/plain": [
       "Empty DataFrame\n",
       "Columns: [Total, Percent]\n",
       "Index: []"
      ]
     },
     "execution_count": 15,
     "metadata": {},
     "output_type": "execute_result"
    }
   ],
   "source": [
    "# Primeiro vamos separar a variável \"target\":\n",
    "target = data_cat_df[['Class']]\n",
    "# Eliminando a variável \"target\" do dataframe:\n",
    "data_cat = data_cat_df.drop(columns='Class')\n",
    "# Substituindo os valores ausentes:\n",
    "data_cat_tf = imputer_cat.fit_transform(data_cat)\n",
    "# Remontando o dataframe original sem os valores ausentes:\n",
    "data_cat_df = pd.concat(\n",
    "    [target,\n",
    "     pd.DataFrame(data_cat_tf, columns=data_cat.columns)\n",
    "    ],\n",
    "    axis=1\n",
    ")\n",
    "# Verificando se os \"missing values\" foram removidos:\n",
    "df_mv = dslib.missing_values(data=data_cat_df, axis=0, threshold=0.01, target='Class')\n",
    "print('Quantidade de variáveis: {}'.format(len(df_mv)))\n",
    "df_mv"
   ]
  },
  {
   "cell_type": "markdown",
   "metadata": {},
   "source": [
    "**Análise:** podemos observar que os valores ausentes foram removidos das variáveis categóricas!"
   ]
  },
  {
   "cell_type": "markdown",
   "metadata": {},
   "source": [
    "### 4.2.2- Tratamento das variáveis `numéricas`"
   ]
  },
  {
   "cell_type": "code",
   "execution_count": 16,
   "metadata": {},
   "outputs": [
    {
     "data": {
      "text/html": [
       "<div>\n",
       "<style scoped>\n",
       "    .dataframe tbody tr th:only-of-type {\n",
       "        vertical-align: middle;\n",
       "    }\n",
       "\n",
       "    .dataframe tbody tr th {\n",
       "        vertical-align: top;\n",
       "    }\n",
       "\n",
       "    .dataframe thead th {\n",
       "        text-align: right;\n",
       "    }\n",
       "</style>\n",
       "<table border=\"1\" class=\"dataframe\">\n",
       "  <thead>\n",
       "    <tr style=\"text-align: right;\">\n",
       "      <th></th>\n",
       "      <th>Age</th>\n",
       "      <th>Bilirubin</th>\n",
       "      <th>AlkPhosphate</th>\n",
       "      <th>SGOT</th>\n",
       "      <th>Albumin</th>\n",
       "      <th>Protime</th>\n",
       "    </tr>\n",
       "  </thead>\n",
       "  <tbody>\n",
       "    <tr>\n",
       "      <th>22</th>\n",
       "      <td>54.0</td>\n",
       "      <td>10.0</td>\n",
       "      <td>85.0</td>\n",
       "      <td>30.0</td>\n",
       "      <td>45.0</td>\n",
       "      <td>0.0</td>\n",
       "    </tr>\n",
       "  </tbody>\n",
       "</table>\n",
       "</div>"
      ],
      "text/plain": [
       "     Age  Bilirubin  AlkPhosphate  SGOT  Albumin  Protime\n",
       "22  54.0       10.0          85.0  30.0     45.0      0.0"
      ]
     },
     "execution_count": 16,
     "metadata": {},
     "output_type": "execute_result"
    }
   ],
   "source": [
    "# Separando as variáveis numéricas:\n",
    "var = (data_df.dtypes == 'float64')\n",
    "var_num = list(var[var == True].index)\n",
    "data_num_df = data_df.loc[:, var_num]\n",
    "# Verificando variáveis com valores iguais a \"0\":\n",
    "# Criando um índice de todos os valores iguais a \"0\":\n",
    "index = data_num_df.values == 0\n",
    "data_num_df.loc[index,:]"
   ]
  },
  {
   "cell_type": "markdown",
   "metadata": {},
   "source": [
    "A variável `Protime` significa **tempo de protrombina (TP)**. O tempo de protrombina ou TP é um exame de sangue que avalia a capacidade do sangue para coagular, isto é, o tempo necessário para estancar uma hemorragia, por exemplo. O valor de referência do **tempo de protrombina** para uma pessoa saudável deve variar entre **10 e 14 segundos**.\n",
    "\n",
    "Portanto, neste caso o valor **0.0** é considerado um valor ausente e será substituido por `NaN` para ser tratado."
   ]
  },
  {
   "cell_type": "code",
   "execution_count": 17,
   "metadata": {},
   "outputs": [
    {
     "data": {
      "text/html": [
       "<div>\n",
       "<style scoped>\n",
       "    .dataframe tbody tr th:only-of-type {\n",
       "        vertical-align: middle;\n",
       "    }\n",
       "\n",
       "    .dataframe tbody tr th {\n",
       "        vertical-align: top;\n",
       "    }\n",
       "\n",
       "    .dataframe thead th {\n",
       "        text-align: right;\n",
       "    }\n",
       "</style>\n",
       "<table border=\"1\" class=\"dataframe\">\n",
       "  <thead>\n",
       "    <tr style=\"text-align: right;\">\n",
       "      <th></th>\n",
       "      <th>Age</th>\n",
       "      <th>Bilirubin</th>\n",
       "      <th>AlkPhosphate</th>\n",
       "      <th>SGOT</th>\n",
       "      <th>Albumin</th>\n",
       "      <th>Protime</th>\n",
       "    </tr>\n",
       "  </thead>\n",
       "  <tbody>\n",
       "    <tr>\n",
       "      <th>22</th>\n",
       "      <td>54.0</td>\n",
       "      <td>10.0</td>\n",
       "      <td>85.0</td>\n",
       "      <td>30.0</td>\n",
       "      <td>45.0</td>\n",
       "      <td>NaN</td>\n",
       "    </tr>\n",
       "  </tbody>\n",
       "</table>\n",
       "</div>"
      ],
      "text/plain": [
       "     Age  Bilirubin  AlkPhosphate  SGOT  Albumin  Protime\n",
       "22  54.0       10.0          85.0  30.0     45.0      NaN"
      ]
     },
     "execution_count": 17,
     "metadata": {},
     "output_type": "execute_result"
    }
   ],
   "source": [
    "# Substituindo o valores \"0.0\" para \"NaN\":\n",
    "data_num_df.replace({'Protime': {0.0: np.nan}}, inplace=True)\n",
    "# Verificando se o valor \"0.0\" foi substituido:\n",
    "data_num_df.loc[index,:]"
   ]
  },
  {
   "cell_type": "code",
   "execution_count": 18,
   "metadata": {},
   "outputs": [
    {
     "name": "stdout",
     "output_type": "stream",
     "text": [
      "Quantidade de variáveis: 5\n"
     ]
    },
    {
     "data": {
      "text/html": [
       "<div>\n",
       "<style scoped>\n",
       "    .dataframe tbody tr th:only-of-type {\n",
       "        vertical-align: middle;\n",
       "    }\n",
       "\n",
       "    .dataframe tbody tr th {\n",
       "        vertical-align: top;\n",
       "    }\n",
       "\n",
       "    .dataframe thead th {\n",
       "        text-align: right;\n",
       "    }\n",
       "</style>\n",
       "<table border=\"1\" class=\"dataframe\">\n",
       "  <thead>\n",
       "    <tr style=\"text-align: right;\">\n",
       "      <th>Attributes (Columns)</th>\n",
       "      <th>Total</th>\n",
       "      <th>Percent</th>\n",
       "    </tr>\n",
       "  </thead>\n",
       "  <tbody>\n",
       "    <tr>\n",
       "      <th>Protime</th>\n",
       "      <td>53</td>\n",
       "      <td>0.430894</td>\n",
       "    </tr>\n",
       "    <tr>\n",
       "      <th>AlkPhosphate</th>\n",
       "      <td>22</td>\n",
       "      <td>0.178862</td>\n",
       "    </tr>\n",
       "    <tr>\n",
       "      <th>Albumin</th>\n",
       "      <td>11</td>\n",
       "      <td>0.089431</td>\n",
       "    </tr>\n",
       "    <tr>\n",
       "      <th>Bilirubin</th>\n",
       "      <td>4</td>\n",
       "      <td>0.032520</td>\n",
       "    </tr>\n",
       "    <tr>\n",
       "      <th>SGOT</th>\n",
       "      <td>2</td>\n",
       "      <td>0.016260</td>\n",
       "    </tr>\n",
       "  </tbody>\n",
       "</table>\n",
       "</div>"
      ],
      "text/plain": [
       "Attributes (Columns)  Total   Percent\n",
       "Protime                  53  0.430894\n",
       "AlkPhosphate             22  0.178862\n",
       "Albumin                  11  0.089431\n",
       "Bilirubin                 4  0.032520\n",
       "SGOT                      2  0.016260"
      ]
     },
     "execution_count": 18,
     "metadata": {},
     "output_type": "execute_result"
    }
   ],
   "source": [
    "# Verificando as variáveis com \"missing values\":\n",
    "df_mv = dslib.missing_values(data=data_num_df, axis=0, threshold=0.01, target=None)\n",
    "print('Quantidade de variáveis: {}'.format(len(df_mv)))\n",
    "df_mv"
   ]
  },
  {
   "cell_type": "markdown",
   "metadata": {},
   "source": [
    "Temos **5 variáveis** com valores ausentes. Vamos analisar a quantidade de observações em que esses valores estão ausentes:"
   ]
  },
  {
   "cell_type": "code",
   "execution_count": 19,
   "metadata": {},
   "outputs": [
    {
     "name": "stdout",
     "output_type": "stream",
     "text": [
      "Quantidade de observações: 56\n"
     ]
    }
   ],
   "source": [
    "# Verificando as observações com missing values:\n",
    "df_mv = dslib.missing_values(data=data_num_df, axis=1, threshold=0.01, target=None)\n",
    "print('Quantidade de observações: {}'.format(len(df_mv)))"
   ]
  },
  {
   "cell_type": "markdown",
   "metadata": {},
   "source": [
    "Temos **56 observações** com valores ausentes (`NaN`), ou seja, quase metade do nosso *dataset*. Então, não vamos optar pela remoção das linhas porque ficaríamos com poucas observações para análise. Também não iremos substituir os valores ausentes pela **média ou mediana** (medidas estatísticas) para não criarmos um *viés* nos dados. Portanto, para o tratamento desses valores ausentes utilizaremos o método da **imputação**.\n",
    "\n",
    "A **imputação** é um método que é frequentemente usado quando se trata de **dados ausentes** (*missing values*). Há várias técnicas de imputação. Uma que é frequentemente utilizada, mas que vem com um forte *viés*, é a simples substituição pela média, onde todos os valores ausentes são substituídos pela média das variáveis. Uma melhor alternativa, e método de imputação mais robusto, é a **imputação múltipla**. Na imputação múltipla, os valores ausentes são substituídos por **M** estimativas plausíveis recuperadas de um modelo de previsão. A variável que possui o **valor ausente** torna-se a variável dependente de um modelo de previsão (por exemplo, regressão, random forest etc.), e é estimado com base nas informações restantes, ou seja, nos valores não ausentes em uma observação."
   ]
  },
  {
   "cell_type": "markdown",
   "metadata": {},
   "source": [
    "### Aplicando o método *`encoding`* nas variáveis `categóricas`\n",
    "\n",
    "Entretanto, primeiro precisamos preparar as variáveis categóricas (preditivas) para serem utilizadas no processo de imputação mútipla. Então, utilizaremos uma técnica chamada **encoding** para preparar as variáveis categóricas porque, neste caso, todas as variáveis categóricas são *binárias*, ou seja, possuem apenas **2 classes ou categorias**. Para variáveis categóricas nominais com mais de 2 classes, utilizaríamos um outro método chamado *one-hot encoding* (desde que as variáveis tivessem uma **cardinalidade menor que 10**, seja, entre *3 e 9 categorias*)."
   ]
  },
  {
   "cell_type": "code",
   "execution_count": 20,
   "metadata": {},
   "outputs": [
    {
     "name": "stdout",
     "output_type": "stream",
     "text": [
      "<class 'pandas.core.frame.DataFrame'>\n",
      "RangeIndex: 123 entries, 0 to 122\n",
      "Data columns (total 13 columns):\n",
      " #   Column          Non-Null Count  Dtype\n",
      "---  ------          --------------  -----\n",
      " 0   Gender          123 non-null    int64\n",
      " 1   Steroid         123 non-null    int64\n",
      " 2   Antivirals      123 non-null    int64\n",
      " 3   Fatigue         123 non-null    int64\n",
      " 4   Malaise         123 non-null    int64\n",
      " 5   Anorexia        123 non-null    int64\n",
      " 6   LiverBig        123 non-null    int64\n",
      " 7   LiverFirm       123 non-null    int64\n",
      " 8   SpleenPalpable  123 non-null    int64\n",
      " 9   Spiders         123 non-null    int64\n",
      " 10  Ascites         123 non-null    int64\n",
      " 11  Varices         123 non-null    int64\n",
      " 12  Histology       123 non-null    int64\n",
      "dtypes: int64(13)\n",
      "memory usage: 12.6 KB\n"
     ]
    }
   ],
   "source": [
    "# Definindo as variáveis categóricas preditivas:\n",
    "cat_variables = ['Gender', 'Steroid', 'Antivirals', 'Fatigue', 'Malaise', 'Anorexia', 'LiverBig', 'LiverFirm',\n",
    "                 'SpleenPalpable', 'Spiders', 'Ascites', 'Varices', 'Histology']\n",
    "# Criando uma cópia do dataset de treino que contém apenas os atributos categóricos:\n",
    "var_cat_df = data_cat_df[cat_variables].copy(deep=True)\n",
    "\n",
    "# Aplicando o método de codificação \"encoding\":\n",
    "var_cat_enc_df = pjlib.method_encoding_categorical(df=var_cat_df, target=False)\n",
    "\n",
    "# Resumo do dataframe transformado:\n",
    "var_cat_enc_df.info()"
   ]
  },
  {
   "cell_type": "code",
   "execution_count": 21,
   "metadata": {},
   "outputs": [
    {
     "data": {
      "text/plain": [
       "(123, 19)"
      ]
     },
     "execution_count": 21,
     "metadata": {},
     "output_type": "execute_result"
    }
   ],
   "source": [
    "# Preparando um dataframe para aplicarmos a \"imputação múltipla\":\n",
    "var_num_df = pd.concat([var_cat_enc_df, data_num_df], axis=1)\n",
    "# Verificando o shape:\n",
    "var_num_df.shape"
   ]
  },
  {
   "cell_type": "markdown",
   "metadata": {},
   "source": [
    "Para a **imputação múltipla** escolhi o algoritmo ([Extra-Trees Regressor](https://scikit-learn.org/stable/modules/generated/sklearn.ensemble.ExtraTreesRegressor.html)) para ser o estimador."
   ]
  },
  {
   "cell_type": "code",
   "execution_count": 22,
   "metadata": {},
   "outputs": [
    {
     "name": "stdout",
     "output_type": "stream",
     "text": [
      "Iniciando o processo de imputação...\n",
      "Fim do processo: 15.22 seconds.\n"
     ]
    }
   ],
   "source": [
    "# Define o imputer para tratamento dos \"missing values\":\n",
    "imputer_mv = IterativeImputer(\n",
    "    estimator=ExtraTreesRegressor(random_state=SEED),\n",
    "    n_nearest_features=None,\n",
    "    imputation_order='ascending',\n",
    "    sample_posterior=False,\n",
    "    random_state=SEED\n",
    ")\n",
    "\n",
    "# Início do processo:\n",
    "ept.start(msg=\"Iniciando o processo de imputação...\")\n",
    "# Fit imputer and transform                          \n",
    "imputer_mv.fit(var_num_df)\n",
    "data_imp_tf = imputer_mv.transform(var_num_df)\n",
    "ept.end(msg='Fim do processo:')"
   ]
  },
  {
   "cell_type": "code",
   "execution_count": 23,
   "metadata": {
    "scrolled": true
   },
   "outputs": [
    {
     "name": "stdout",
     "output_type": "stream",
     "text": [
      "<class 'pandas.core.frame.DataFrame'>\n",
      "RangeIndex: 123 entries, 0 to 122\n",
      "Data columns (total 19 columns):\n",
      " #   Column          Non-Null Count  Dtype  \n",
      "---  ------          --------------  -----  \n",
      " 0   Gender          123 non-null    float64\n",
      " 1   Steroid         123 non-null    float64\n",
      " 2   Antivirals      123 non-null    float64\n",
      " 3   Fatigue         123 non-null    float64\n",
      " 4   Malaise         123 non-null    float64\n",
      " 5   Anorexia        123 non-null    float64\n",
      " 6   LiverBig        123 non-null    float64\n",
      " 7   LiverFirm       123 non-null    float64\n",
      " 8   SpleenPalpable  123 non-null    float64\n",
      " 9   Spiders         123 non-null    float64\n",
      " 10  Ascites         123 non-null    float64\n",
      " 11  Varices         123 non-null    float64\n",
      " 12  Histology       123 non-null    float64\n",
      " 13  Age             123 non-null    float64\n",
      " 14  Bilirubin       123 non-null    float64\n",
      " 15  AlkPhosphate    123 non-null    float64\n",
      " 16  SGOT            123 non-null    float64\n",
      " 17  Albumin         123 non-null    float64\n",
      " 18  Protime         123 non-null    float64\n",
      "dtypes: float64(19)\n",
      "memory usage: 18.4 KB\n"
     ]
    }
   ],
   "source": [
    "# Cria um outro data frame:\n",
    "var_num_df = pd.DataFrame(data_imp_tf, columns = var_num_df.columns)\n",
    "\n",
    "# Resumo das informações:\n",
    "var_num_df.info()"
   ]
  },
  {
   "cell_type": "code",
   "execution_count": 24,
   "metadata": {},
   "outputs": [
    {
     "data": {
      "text/html": [
       "<div>\n",
       "<style scoped>\n",
       "    .dataframe tbody tr th:only-of-type {\n",
       "        vertical-align: middle;\n",
       "    }\n",
       "\n",
       "    .dataframe tbody tr th {\n",
       "        vertical-align: top;\n",
       "    }\n",
       "\n",
       "    .dataframe thead th {\n",
       "        text-align: right;\n",
       "    }\n",
       "</style>\n",
       "<table border=\"1\" class=\"dataframe\">\n",
       "  <thead>\n",
       "    <tr style=\"text-align: right;\">\n",
       "      <th></th>\n",
       "      <th>Age</th>\n",
       "      <th>Bilirubin</th>\n",
       "      <th>AlkPhosphate</th>\n",
       "      <th>SGOT</th>\n",
       "      <th>Albumin</th>\n",
       "      <th>Protime</th>\n",
       "    </tr>\n",
       "  </thead>\n",
       "  <tbody>\n",
       "    <tr>\n",
       "      <th>count</th>\n",
       "      <td>123.000000</td>\n",
       "      <td>123.000000</td>\n",
       "      <td>123.000000</td>\n",
       "      <td>123.000000</td>\n",
       "      <td>123.000000</td>\n",
       "      <td>123.000000</td>\n",
       "    </tr>\n",
       "    <tr>\n",
       "      <th>mean</th>\n",
       "      <td>41.268293</td>\n",
       "      <td>14.115610</td>\n",
       "      <td>108.406423</td>\n",
       "      <td>82.235122</td>\n",
       "      <td>38.424553</td>\n",
       "      <td>64.649106</td>\n",
       "    </tr>\n",
       "    <tr>\n",
       "      <th>std</th>\n",
       "      <td>12.676345</td>\n",
       "      <td>12.335455</td>\n",
       "      <td>49.982343</td>\n",
       "      <td>80.150597</td>\n",
       "      <td>6.562180</td>\n",
       "      <td>20.820203</td>\n",
       "    </tr>\n",
       "    <tr>\n",
       "      <th>min</th>\n",
       "      <td>7.000000</td>\n",
       "      <td>3.000000</td>\n",
       "      <td>26.000000</td>\n",
       "      <td>14.000000</td>\n",
       "      <td>22.000000</td>\n",
       "      <td>21.000000</td>\n",
       "    </tr>\n",
       "    <tr>\n",
       "      <th>25%</th>\n",
       "      <td>32.000000</td>\n",
       "      <td>8.000000</td>\n",
       "      <td>78.000000</td>\n",
       "      <td>31.000000</td>\n",
       "      <td>35.000000</td>\n",
       "      <td>49.000000</td>\n",
       "    </tr>\n",
       "    <tr>\n",
       "      <th>50%</th>\n",
       "      <td>39.000000</td>\n",
       "      <td>10.000000</td>\n",
       "      <td>92.930000</td>\n",
       "      <td>58.000000</td>\n",
       "      <td>40.000000</td>\n",
       "      <td>66.000000</td>\n",
       "    </tr>\n",
       "    <tr>\n",
       "      <th>75%</th>\n",
       "      <td>50.000000</td>\n",
       "      <td>15.000000</td>\n",
       "      <td>133.880000</td>\n",
       "      <td>95.000000</td>\n",
       "      <td>42.000000</td>\n",
       "      <td>79.010000</td>\n",
       "    </tr>\n",
       "    <tr>\n",
       "      <th>max</th>\n",
       "      <td>72.000000</td>\n",
       "      <td>80.000000</td>\n",
       "      <td>295.000000</td>\n",
       "      <td>528.000000</td>\n",
       "      <td>64.000000</td>\n",
       "      <td>100.000000</td>\n",
       "    </tr>\n",
       "  </tbody>\n",
       "</table>\n",
       "</div>"
      ],
      "text/plain": [
       "              Age   Bilirubin  AlkPhosphate        SGOT     Albumin  \\\n",
       "count  123.000000  123.000000    123.000000  123.000000  123.000000   \n",
       "mean    41.268293   14.115610    108.406423   82.235122   38.424553   \n",
       "std     12.676345   12.335455     49.982343   80.150597    6.562180   \n",
       "min      7.000000    3.000000     26.000000   14.000000   22.000000   \n",
       "25%     32.000000    8.000000     78.000000   31.000000   35.000000   \n",
       "50%     39.000000   10.000000     92.930000   58.000000   40.000000   \n",
       "75%     50.000000   15.000000    133.880000   95.000000   42.000000   \n",
       "max     72.000000   80.000000    295.000000  528.000000   64.000000   \n",
       "\n",
       "          Protime  \n",
       "count  123.000000  \n",
       "mean    64.649106  \n",
       "std     20.820203  \n",
       "min     21.000000  \n",
       "25%     49.000000  \n",
       "50%     66.000000  \n",
       "75%     79.010000  \n",
       "max    100.000000  "
      ]
     },
     "execution_count": 24,
     "metadata": {},
     "output_type": "execute_result"
    }
   ],
   "source": [
    "# Resumo estatístico:\n",
    "var_num_df.loc[:, list(data_num_df.columns)].describe()"
   ]
  },
  {
   "cell_type": "code",
   "execution_count": 25,
   "metadata": {
    "scrolled": true
   },
   "outputs": [
    {
     "name": "stdout",
     "output_type": "stream",
     "text": [
      "Quantidade de variáveis: 19\n"
     ]
    },
    {
     "data": {
      "text/html": [
       "<div>\n",
       "<style scoped>\n",
       "    .dataframe tbody tr th:only-of-type {\n",
       "        vertical-align: middle;\n",
       "    }\n",
       "\n",
       "    .dataframe tbody tr th {\n",
       "        vertical-align: top;\n",
       "    }\n",
       "\n",
       "    .dataframe thead th {\n",
       "        text-align: right;\n",
       "    }\n",
       "</style>\n",
       "<table border=\"1\" class=\"dataframe\">\n",
       "  <thead>\n",
       "    <tr style=\"text-align: right;\">\n",
       "      <th>Attributes (Columns)</th>\n",
       "      <th>Total</th>\n",
       "      <th>Percent</th>\n",
       "    </tr>\n",
       "  </thead>\n",
       "  <tbody>\n",
       "    <tr>\n",
       "      <th>Gender</th>\n",
       "      <td>0</td>\n",
       "      <td>0.0</td>\n",
       "    </tr>\n",
       "    <tr>\n",
       "      <th>Ascites</th>\n",
       "      <td>0</td>\n",
       "      <td>0.0</td>\n",
       "    </tr>\n",
       "    <tr>\n",
       "      <th>Albumin</th>\n",
       "      <td>0</td>\n",
       "      <td>0.0</td>\n",
       "    </tr>\n",
       "    <tr>\n",
       "      <th>SGOT</th>\n",
       "      <td>0</td>\n",
       "      <td>0.0</td>\n",
       "    </tr>\n",
       "    <tr>\n",
       "      <th>AlkPhosphate</th>\n",
       "      <td>0</td>\n",
       "      <td>0.0</td>\n",
       "    </tr>\n",
       "    <tr>\n",
       "      <th>Bilirubin</th>\n",
       "      <td>0</td>\n",
       "      <td>0.0</td>\n",
       "    </tr>\n",
       "    <tr>\n",
       "      <th>Age</th>\n",
       "      <td>0</td>\n",
       "      <td>0.0</td>\n",
       "    </tr>\n",
       "    <tr>\n",
       "      <th>Histology</th>\n",
       "      <td>0</td>\n",
       "      <td>0.0</td>\n",
       "    </tr>\n",
       "    <tr>\n",
       "      <th>Varices</th>\n",
       "      <td>0</td>\n",
       "      <td>0.0</td>\n",
       "    </tr>\n",
       "    <tr>\n",
       "      <th>Spiders</th>\n",
       "      <td>0</td>\n",
       "      <td>0.0</td>\n",
       "    </tr>\n",
       "    <tr>\n",
       "      <th>Steroid</th>\n",
       "      <td>0</td>\n",
       "      <td>0.0</td>\n",
       "    </tr>\n",
       "    <tr>\n",
       "      <th>SpleenPalpable</th>\n",
       "      <td>0</td>\n",
       "      <td>0.0</td>\n",
       "    </tr>\n",
       "    <tr>\n",
       "      <th>LiverFirm</th>\n",
       "      <td>0</td>\n",
       "      <td>0.0</td>\n",
       "    </tr>\n",
       "    <tr>\n",
       "      <th>LiverBig</th>\n",
       "      <td>0</td>\n",
       "      <td>0.0</td>\n",
       "    </tr>\n",
       "    <tr>\n",
       "      <th>Anorexia</th>\n",
       "      <td>0</td>\n",
       "      <td>0.0</td>\n",
       "    </tr>\n",
       "    <tr>\n",
       "      <th>Malaise</th>\n",
       "      <td>0</td>\n",
       "      <td>0.0</td>\n",
       "    </tr>\n",
       "    <tr>\n",
       "      <th>Fatigue</th>\n",
       "      <td>0</td>\n",
       "      <td>0.0</td>\n",
       "    </tr>\n",
       "    <tr>\n",
       "      <th>Antivirals</th>\n",
       "      <td>0</td>\n",
       "      <td>0.0</td>\n",
       "    </tr>\n",
       "    <tr>\n",
       "      <th>Protime</th>\n",
       "      <td>0</td>\n",
       "      <td>0.0</td>\n",
       "    </tr>\n",
       "  </tbody>\n",
       "</table>\n",
       "</div>"
      ],
      "text/plain": [
       "Attributes (Columns)  Total  Percent\n",
       "Gender                    0      0.0\n",
       "Ascites                   0      0.0\n",
       "Albumin                   0      0.0\n",
       "SGOT                      0      0.0\n",
       "AlkPhosphate              0      0.0\n",
       "Bilirubin                 0      0.0\n",
       "Age                       0      0.0\n",
       "Histology                 0      0.0\n",
       "Varices                   0      0.0\n",
       "Spiders                   0      0.0\n",
       "Steroid                   0      0.0\n",
       "SpleenPalpable            0      0.0\n",
       "LiverFirm                 0      0.0\n",
       "LiverBig                  0      0.0\n",
       "Anorexia                  0      0.0\n",
       "Malaise                   0      0.0\n",
       "Fatigue                   0      0.0\n",
       "Antivirals                0      0.0\n",
       "Protime                   0      0.0"
      ]
     },
     "execution_count": 25,
     "metadata": {},
     "output_type": "execute_result"
    }
   ],
   "source": [
    "# Refazendo o dataframe original com todos os valores ausentes tratados:\n",
    "data_df = pd.concat([data_cat_df, var_num_df.loc[:, list(data_num_df.columns)]], axis=1)\n",
    "\n",
    "# Verificando se todos os valores ausentes foram tratados:\n",
    "df_mv = dslib.missing_values(data=data_df, target='Class')\n",
    "print('Quantidade de variáveis: {}'.format(len(df_mv)))\n",
    "df_mv"
   ]
  },
  {
   "cell_type": "markdown",
   "metadata": {},
   "source": [
    "Pronto! Todos os valores ausentes (**missing values**) foram tratados e resolvidos. Podemos, agora, iniciar a nossa **análise univariada** das variáveis **categóricas**."
   ]
  },
  {
   "cell_type": "markdown",
   "metadata": {},
   "source": [
    "## <font color='blue'>5- Análise univariada das variáveis `categóricas`</font>"
   ]
  },
  {
   "cell_type": "markdown",
   "metadata": {},
   "source": [
    "### <font color='red'>Class</font>\n",
    "\n",
    "Esta é a variável *target* do projeto, ou seja, a variável que vamos **prever** se um paciente com **hepatite** irá **morrer** ou **viver**."
   ]
  },
  {
   "cell_type": "code",
   "execution_count": 26,
   "metadata": {},
   "outputs": [
    {
     "data": {
      "image/png": "[encoded data removed]",
      "text/plain": [
       "<Figure size 576x288 with 2 Axes>"
      ]
     },
     "metadata": {},
     "output_type": "display_data"
    },
    {
     "data": {
      "text/html": [
       "<div>\n",
       "<style scoped>\n",
       "    .dataframe tbody tr th:only-of-type {\n",
       "        vertical-align: middle;\n",
       "    }\n",
       "\n",
       "    .dataframe tbody tr th {\n",
       "        vertical-align: top;\n",
       "    }\n",
       "\n",
       "    .dataframe thead th {\n",
       "        text-align: right;\n",
       "    }\n",
       "</style>\n",
       "<table border=\"1\" class=\"dataframe\">\n",
       "  <thead>\n",
       "    <tr style=\"text-align: right;\">\n",
       "      <th></th>\n",
       "      <th>Class</th>\n",
       "      <th>Total</th>\n",
       "      <th>Percent</th>\n",
       "    </tr>\n",
       "  </thead>\n",
       "  <tbody>\n",
       "    <tr>\n",
       "      <th>0</th>\n",
       "      <td>DIE</td>\n",
       "      <td>26</td>\n",
       "      <td>0.2114</td>\n",
       "    </tr>\n",
       "    <tr>\n",
       "      <th>1</th>\n",
       "      <td>LIVE</td>\n",
       "      <td>97</td>\n",
       "      <td>0.7886</td>\n",
       "    </tr>\n",
       "  </tbody>\n",
       "</table>\n",
       "</div>"
      ],
      "text/plain": [
       "  Class  Total  Percent\n",
       "0   DIE     26   0.2114\n",
       "1  LIVE     97   0.7886"
      ]
     },
     "execution_count": 26,
     "metadata": {},
     "output_type": "execute_result"
    }
   ],
   "source": [
    "# Vamos plotar as contagens de observações e as proporções de cada categoria:\n",
    "ptlib.plot_percent_count_feature(\n",
    "    df=data_df, feature='Class', plot_style='seaborn-ticks',\n",
    "    title='Variável target(Class)', title_fontsize=14, xlabel2_fontsize=13, ylabel_fontsize=13,\n",
    "    xtick_labelsize=13, ytick_labelsize=13, columns_nr=2, rows_nr=1, share_x=False, share_y=False, width=8, height=4,\n",
    "    wspace=0.3, hspace=None\n",
    ")"
   ]
  },
  {
   "cell_type": "markdown",
   "metadata": {},
   "source": [
    "**Análise:** podemos observar que os dados estão **desbalanceados**, ou seja, temos apenas **~21%** das observações para a classe **DIE** (paciente com hepatite morreu) e **~79%** para a classe **LIVE** (paciente com hepatite viveu).\n",
    "\n",
    "Portanto, na etapa de modelagem deveremos realizar o **balanceamento** dos dados para que não fiquem com um *viés*, prejudicando o treinamento e criação do modelo preditivo."
   ]
  },
  {
   "cell_type": "markdown",
   "metadata": {},
   "source": [
    "### <font color='red'>Gender</font>\n",
    "\n",
    "Esta variável preditora traz informações sobre o **gênero** do paciente."
   ]
  },
  {
   "cell_type": "code",
   "execution_count": 27,
   "metadata": {},
   "outputs": [
    {
     "data": {
      "image/png": "[encoded data removed]",
      "text/plain": [
       "<Figure size 576x288 with 2 Axes>"
      ]
     },
     "metadata": {},
     "output_type": "display_data"
    },
    {
     "data": {
      "text/html": [
       "<div>\n",
       "<style scoped>\n",
       "    .dataframe tbody tr th:only-of-type {\n",
       "        vertical-align: middle;\n",
       "    }\n",
       "\n",
       "    .dataframe tbody tr th {\n",
       "        vertical-align: top;\n",
       "    }\n",
       "\n",
       "    .dataframe thead th {\n",
       "        text-align: right;\n",
       "    }\n",
       "</style>\n",
       "<table border=\"1\" class=\"dataframe\">\n",
       "  <thead>\n",
       "    <tr style=\"text-align: right;\">\n",
       "      <th></th>\n",
       "      <th>Gender</th>\n",
       "      <th>Total</th>\n",
       "      <th>Percent</th>\n",
       "    </tr>\n",
       "  </thead>\n",
       "  <tbody>\n",
       "    <tr>\n",
       "      <th>0</th>\n",
       "      <td>female</td>\n",
       "      <td>16</td>\n",
       "      <td>0.1301</td>\n",
       "    </tr>\n",
       "    <tr>\n",
       "      <th>1</th>\n",
       "      <td>male</td>\n",
       "      <td>107</td>\n",
       "      <td>0.8699</td>\n",
       "    </tr>\n",
       "  </tbody>\n",
       "</table>\n",
       "</div>"
      ],
      "text/plain": [
       "   Gender  Total  Percent\n",
       "0  female     16   0.1301\n",
       "1    male    107   0.8699"
      ]
     },
     "execution_count": 27,
     "metadata": {},
     "output_type": "execute_result"
    }
   ],
   "source": [
    "# Vamos plotar as contagens de observações e as proporções de cada categoria:\n",
    "ptlib.plot_percent_count_feature(\n",
    "    df=data_df, feature='Gender', plot_style='seaborn-ticks',\n",
    "    title='Gênero do paciente', title_fontsize=14, xlabel2_fontsize=13, ylabel_fontsize=13,\n",
    "    xtick_labelsize=13, ytick_labelsize=13, columns_nr=2, rows_nr=1, share_x=False, share_y=False, width=8, height=4,\n",
    "    wspace=0.3, hspace=None\n",
    ")"
   ]
  },
  {
   "cell_type": "markdown",
   "metadata": {},
   "source": [
    "**Análise:** podemos observar que a grande maioria dos pacientes são do gênero **masculino** (**~87%**)."
   ]
  },
  {
   "cell_type": "markdown",
   "metadata": {},
   "source": [
    "### <font color='red'>Steroid</font>\n",
    "\n",
    "Esta variável preditora informa se o paciente utilizou (ou não) algum tipo de **esteróide**."
   ]
  },
  {
   "cell_type": "code",
   "execution_count": 28,
   "metadata": {},
   "outputs": [
    {
     "data": {
      "image/png": "[encoded data removed]",
      "text/plain": [
       "<Figure size 576x288 with 2 Axes>"
      ]
     },
     "metadata": {},
     "output_type": "display_data"
    },
    {
     "data": {
      "text/html": [
       "<div>\n",
       "<style scoped>\n",
       "    .dataframe tbody tr th:only-of-type {\n",
       "        vertical-align: middle;\n",
       "    }\n",
       "\n",
       "    .dataframe tbody tr th {\n",
       "        vertical-align: top;\n",
       "    }\n",
       "\n",
       "    .dataframe thead th {\n",
       "        text-align: right;\n",
       "    }\n",
       "</style>\n",
       "<table border=\"1\" class=\"dataframe\">\n",
       "  <thead>\n",
       "    <tr style=\"text-align: right;\">\n",
       "      <th></th>\n",
       "      <th>Steroid</th>\n",
       "      <th>Total</th>\n",
       "      <th>Percent</th>\n",
       "    </tr>\n",
       "  </thead>\n",
       "  <tbody>\n",
       "    <tr>\n",
       "      <th>0</th>\n",
       "      <td>no</td>\n",
       "      <td>63</td>\n",
       "      <td>0.5122</td>\n",
       "    </tr>\n",
       "    <tr>\n",
       "      <th>1</th>\n",
       "      <td>yes</td>\n",
       "      <td>60</td>\n",
       "      <td>0.4878</td>\n",
       "    </tr>\n",
       "  </tbody>\n",
       "</table>\n",
       "</div>"
      ],
      "text/plain": [
       "  Steroid  Total  Percent\n",
       "0      no     63   0.5122\n",
       "1     yes     60   0.4878"
      ]
     },
     "execution_count": 28,
     "metadata": {},
     "output_type": "execute_result"
    }
   ],
   "source": [
    "# Vamos plotar as contagens de observações e as proporções de cada categoria:\n",
    "ptlib.plot_percent_count_feature(\n",
    "    df=data_df, feature='Steroid', plot_style='seaborn-ticks',\n",
    "    title='Paciente utilizou esteróide?', title_fontsize=14, xlabel2_fontsize=13, ylabel_fontsize=13,\n",
    "    xtick_labelsize=13, ytick_labelsize=13, columns_nr=2, rows_nr=1, share_x=False, share_y=False, width=8, height=4,\n",
    "    wspace=0.3, hspace=None\n",
    ")"
   ]
  },
  {
   "cell_type": "markdown",
   "metadata": {},
   "source": [
    "**Análise:** podemos observar que o *dataset* esta **balanceado** em relação aos pacientes que utilizaram(ou não) algum tipo de **esteróide**."
   ]
  },
  {
   "cell_type": "markdown",
   "metadata": {},
   "source": [
    "### <font color='red'>Antivirals</font>\n",
    "\n",
    "Esta variável preditora informa se o paciente utilizou (ou não) algum tipo de medicamento **antiviral** para tratamento de infecções virais."
   ]
  },
  {
   "cell_type": "code",
   "execution_count": 29,
   "metadata": {},
   "outputs": [
    {
     "data": {
      "image/png": "[encoded data removed]",
      "text/plain": [
       "<Figure size 576x288 with 2 Axes>"
      ]
     },
     "metadata": {},
     "output_type": "display_data"
    },
    {
     "data": {
      "text/html": [
       "<div>\n",
       "<style scoped>\n",
       "    .dataframe tbody tr th:only-of-type {\n",
       "        vertical-align: middle;\n",
       "    }\n",
       "\n",
       "    .dataframe tbody tr th {\n",
       "        vertical-align: top;\n",
       "    }\n",
       "\n",
       "    .dataframe thead th {\n",
       "        text-align: right;\n",
       "    }\n",
       "</style>\n",
       "<table border=\"1\" class=\"dataframe\">\n",
       "  <thead>\n",
       "    <tr style=\"text-align: right;\">\n",
       "      <th></th>\n",
       "      <th>Antivirals</th>\n",
       "      <th>Total</th>\n",
       "      <th>Percent</th>\n",
       "    </tr>\n",
       "  </thead>\n",
       "  <tbody>\n",
       "    <tr>\n",
       "      <th>0</th>\n",
       "      <td>no</td>\n",
       "      <td>21</td>\n",
       "      <td>0.1707</td>\n",
       "    </tr>\n",
       "    <tr>\n",
       "      <th>1</th>\n",
       "      <td>yes</td>\n",
       "      <td>102</td>\n",
       "      <td>0.8293</td>\n",
       "    </tr>\n",
       "  </tbody>\n",
       "</table>\n",
       "</div>"
      ],
      "text/plain": [
       "  Antivirals  Total  Percent\n",
       "0         no     21   0.1707\n",
       "1        yes    102   0.8293"
      ]
     },
     "execution_count": 29,
     "metadata": {},
     "output_type": "execute_result"
    }
   ],
   "source": [
    "# Vamos plotar as contagens de observações e as proporções de cada categoria:\n",
    "ptlib.plot_percent_count_feature(\n",
    "    df=data_df, feature='Antivirals', plot_style='seaborn-ticks',\n",
    "    title='Paciente utilizou antiviral?', title_fontsize=14, xlabel2_fontsize=13, ylabel_fontsize=13,\n",
    "    xtick_labelsize=13, ytick_labelsize=13, columns_nr=2, rows_nr=1, share_x=False, share_y=False, width=8, height=4,\n",
    "    wspace=0.3, hspace=None\n",
    ")"
   ]
  },
  {
   "cell_type": "markdown",
   "metadata": {},
   "source": [
    "**Análise:** podemos observar que a grande maioria dos pacientes utilizaram algum medicamento **antiviral** (**~83%**) para tratamento de infecções virais."
   ]
  },
  {
   "cell_type": "markdown",
   "metadata": {},
   "source": [
    "### <font color='red'>Fatigue</font>\n",
    "\n",
    "Esta variável preditora traz informações clínicas se o paciente apresentou (ou não) sinais de **fadiga**."
   ]
  },
  {
   "cell_type": "code",
   "execution_count": 30,
   "metadata": {},
   "outputs": [
    {
     "data": {
      "image/png": "[encoded data removed]",
      "text/plain": [
       "<Figure size 576x288 with 2 Axes>"
      ]
     },
     "metadata": {},
     "output_type": "display_data"
    },
    {
     "data": {
      "text/html": [
       "<div>\n",
       "<style scoped>\n",
       "    .dataframe tbody tr th:only-of-type {\n",
       "        vertical-align: middle;\n",
       "    }\n",
       "\n",
       "    .dataframe tbody tr th {\n",
       "        vertical-align: top;\n",
       "    }\n",
       "\n",
       "    .dataframe thead th {\n",
       "        text-align: right;\n",
       "    }\n",
       "</style>\n",
       "<table border=\"1\" class=\"dataframe\">\n",
       "  <thead>\n",
       "    <tr style=\"text-align: right;\">\n",
       "      <th></th>\n",
       "      <th>Fatigue</th>\n",
       "      <th>Total</th>\n",
       "      <th>Percent</th>\n",
       "    </tr>\n",
       "  </thead>\n",
       "  <tbody>\n",
       "    <tr>\n",
       "      <th>0</th>\n",
       "      <td>no</td>\n",
       "      <td>79</td>\n",
       "      <td>0.6423</td>\n",
       "    </tr>\n",
       "    <tr>\n",
       "      <th>1</th>\n",
       "      <td>yes</td>\n",
       "      <td>44</td>\n",
       "      <td>0.3577</td>\n",
       "    </tr>\n",
       "  </tbody>\n",
       "</table>\n",
       "</div>"
      ],
      "text/plain": [
       "  Fatigue  Total  Percent\n",
       "0      no     79   0.6423\n",
       "1     yes     44   0.3577"
      ]
     },
     "execution_count": 30,
     "metadata": {},
     "output_type": "execute_result"
    }
   ],
   "source": [
    "# Vamos plotar as contagens de observações e as proporções de cada categoria:\n",
    "ptlib.plot_percent_count_feature(\n",
    "    df=data_df, feature='Fatigue', plot_style='seaborn-ticks',\n",
    "    title='Paciente apresentou fadiga?', title_fontsize=14, xlabel2_fontsize=13, ylabel_fontsize=13,\n",
    "    xtick_labelsize=13, ytick_labelsize=13, columns_nr=2, rows_nr=1, share_x=False, share_y=False, width=8, height=4,\n",
    "    wspace=0.3, hspace=None\n",
    ")"
   ]
  },
  {
   "cell_type": "markdown",
   "metadata": {},
   "source": [
    "**Análise:** podemos observar que a maioria dos pacientes não apresentaram sinais clínicos de **fadiga** (**~64%**)."
   ]
  },
  {
   "cell_type": "markdown",
   "metadata": {},
   "source": [
    "### <font color='red'>Malaise</font>\n",
    "\n",
    "Esta variável preditora traz informações clínicas se o paciente apresentou (ou não) sinais de **mal-estar**."
   ]
  },
  {
   "cell_type": "code",
   "execution_count": 31,
   "metadata": {},
   "outputs": [
    {
     "data": {
      "image/png": "[encoded data removed]",
      "text/plain": [
       "<Figure size 576x288 with 2 Axes>"
      ]
     },
     "metadata": {},
     "output_type": "display_data"
    },
    {
     "data": {
      "text/html": [
       "<div>\n",
       "<style scoped>\n",
       "    .dataframe tbody tr th:only-of-type {\n",
       "        vertical-align: middle;\n",
       "    }\n",
       "\n",
       "    .dataframe tbody tr th {\n",
       "        vertical-align: top;\n",
       "    }\n",
       "\n",
       "    .dataframe thead th {\n",
       "        text-align: right;\n",
       "    }\n",
       "</style>\n",
       "<table border=\"1\" class=\"dataframe\">\n",
       "  <thead>\n",
       "    <tr style=\"text-align: right;\">\n",
       "      <th></th>\n",
       "      <th>Malaise</th>\n",
       "      <th>Total</th>\n",
       "      <th>Percent</th>\n",
       "    </tr>\n",
       "  </thead>\n",
       "  <tbody>\n",
       "    <tr>\n",
       "      <th>0</th>\n",
       "      <td>no</td>\n",
       "      <td>50</td>\n",
       "      <td>0.4065</td>\n",
       "    </tr>\n",
       "    <tr>\n",
       "      <th>1</th>\n",
       "      <td>yes</td>\n",
       "      <td>73</td>\n",
       "      <td>0.5935</td>\n",
       "    </tr>\n",
       "  </tbody>\n",
       "</table>\n",
       "</div>"
      ],
      "text/plain": [
       "  Malaise  Total  Percent\n",
       "0      no     50   0.4065\n",
       "1     yes     73   0.5935"
      ]
     },
     "execution_count": 31,
     "metadata": {},
     "output_type": "execute_result"
    }
   ],
   "source": [
    "# Vamos plotar as contagens de observações e as proporções de cada categoria:\n",
    "ptlib.plot_percent_count_feature(\n",
    "    df=data_df, feature='Malaise', plot_style='seaborn-ticks',\n",
    "    title='Paciente apresentou mal-estar?', title_fontsize=14, xlabel2_fontsize=13, ylabel_fontsize=13,\n",
    "    xtick_labelsize=13, ytick_labelsize=13, columns_nr=2, rows_nr=1, share_x=False, share_y=False, width=8, height=4,\n",
    "    wspace=0.3, hspace=None\n",
    ")"
   ]
  },
  {
   "cell_type": "markdown",
   "metadata": {},
   "source": [
    "**Análise:** podemos observar que a maioria dos pacientes apresentaram sinais clínicos de **mal-estar** (**~59%**)."
   ]
  },
  {
   "cell_type": "markdown",
   "metadata": {},
   "source": [
    "### <font color='red'>Anorexia</font>\n",
    "\n",
    "Esta variável preditora traz informações clínicas se o paciente possui (ou não) **anorexia**."
   ]
  },
  {
   "cell_type": "code",
   "execution_count": 32,
   "metadata": {},
   "outputs": [
    {
     "data": {
      "image/png": "[encoded data removed]",
      "text/plain": [
       "<Figure size 576x288 with 2 Axes>"
      ]
     },
     "metadata": {},
     "output_type": "display_data"
    },
    {
     "data": {
      "text/html": [
       "<div>\n",
       "<style scoped>\n",
       "    .dataframe tbody tr th:only-of-type {\n",
       "        vertical-align: middle;\n",
       "    }\n",
       "\n",
       "    .dataframe tbody tr th {\n",
       "        vertical-align: top;\n",
       "    }\n",
       "\n",
       "    .dataframe thead th {\n",
       "        text-align: right;\n",
       "    }\n",
       "</style>\n",
       "<table border=\"1\" class=\"dataframe\">\n",
       "  <thead>\n",
       "    <tr style=\"text-align: right;\">\n",
       "      <th></th>\n",
       "      <th>Anorexia</th>\n",
       "      <th>Total</th>\n",
       "      <th>Percent</th>\n",
       "    </tr>\n",
       "  </thead>\n",
       "  <tbody>\n",
       "    <tr>\n",
       "      <th>0</th>\n",
       "      <td>no</td>\n",
       "      <td>26</td>\n",
       "      <td>0.2114</td>\n",
       "    </tr>\n",
       "    <tr>\n",
       "      <th>1</th>\n",
       "      <td>yes</td>\n",
       "      <td>97</td>\n",
       "      <td>0.7886</td>\n",
       "    </tr>\n",
       "  </tbody>\n",
       "</table>\n",
       "</div>"
      ],
      "text/plain": [
       "  Anorexia  Total  Percent\n",
       "0       no     26   0.2114\n",
       "1      yes     97   0.7886"
      ]
     },
     "execution_count": 32,
     "metadata": {},
     "output_type": "execute_result"
    }
   ],
   "source": [
    "# Vamos plotar as contagens de observações e as proporções de cada categoria:\n",
    "ptlib.plot_percent_count_feature(\n",
    "    df=data_df, feature='Anorexia', plot_style='seaborn-ticks',\n",
    "    title='Paciente possui anorexia?', title_fontsize=14, xlabel2_fontsize=13, ylabel_fontsize=13,\n",
    "    xtick_labelsize=13, ytick_labelsize=13, columns_nr=2, rows_nr=1, share_x=False, share_y=False, width=8, height=4,\n",
    "    wspace=0.3, hspace=None\n",
    ")"
   ]
  },
  {
   "cell_type": "markdown",
   "metadata": {},
   "source": [
    "**Análise:** podemos observar que a grande maioria dos pacientes apresentaram **anorexia** (**~79%**), ou seja, são anoréxicos."
   ]
  },
  {
   "cell_type": "markdown",
   "metadata": {},
   "source": [
    "### <font color='red'>LiverBig</font>\n",
    "\n",
    "Esta variável preditora traz informações clínicas se o paciente está (ou não) com o seu **fígado aumentado**."
   ]
  },
  {
   "cell_type": "code",
   "execution_count": 33,
   "metadata": {},
   "outputs": [
    {
     "data": {
      "image/png": "[encoded data removed]",
      "text/plain": [
       "<Figure size 576x288 with 2 Axes>"
      ]
     },
     "metadata": {},
     "output_type": "display_data"
    },
    {
     "data": {
      "text/html": [
       "<div>\n",
       "<style scoped>\n",
       "    .dataframe tbody tr th:only-of-type {\n",
       "        vertical-align: middle;\n",
       "    }\n",
       "\n",
       "    .dataframe tbody tr th {\n",
       "        vertical-align: top;\n",
       "    }\n",
       "\n",
       "    .dataframe thead th {\n",
       "        text-align: right;\n",
       "    }\n",
       "</style>\n",
       "<table border=\"1\" class=\"dataframe\">\n",
       "  <thead>\n",
       "    <tr style=\"text-align: right;\">\n",
       "      <th></th>\n",
       "      <th>LiverBig</th>\n",
       "      <th>Total</th>\n",
       "      <th>Percent</th>\n",
       "    </tr>\n",
       "  </thead>\n",
       "  <tbody>\n",
       "    <tr>\n",
       "      <th>0</th>\n",
       "      <td>no</td>\n",
       "      <td>18</td>\n",
       "      <td>0.1463</td>\n",
       "    </tr>\n",
       "    <tr>\n",
       "      <th>1</th>\n",
       "      <td>yes</td>\n",
       "      <td>105</td>\n",
       "      <td>0.8537</td>\n",
       "    </tr>\n",
       "  </tbody>\n",
       "</table>\n",
       "</div>"
      ],
      "text/plain": [
       "  LiverBig  Total  Percent\n",
       "0       no     18   0.1463\n",
       "1      yes    105   0.8537"
      ]
     },
     "execution_count": 33,
     "metadata": {},
     "output_type": "execute_result"
    }
   ],
   "source": [
    "# Vamos plotar as contagens de observações e as proporções de cada categoria:\n",
    "ptlib.plot_percent_count_feature(\n",
    "    df=data_df, feature='LiverBig', plot_style='seaborn-ticks',\n",
    "    title='Paciente têm fígado grande?', title_fontsize=14, xlabel2_fontsize=13, ylabel_fontsize=13,\n",
    "    xtick_labelsize=13, ytick_labelsize=13, columns_nr=2, rows_nr=1, share_x=False, share_y=False, width=8, height=4,\n",
    "    wspace=0.3, hspace=None\n",
    ")"
   ]
  },
  {
   "cell_type": "markdown",
   "metadata": {},
   "source": [
    "**Análise:** podemos observar que a grande maioria dos pacientes apresentaram sinais clínicos de **fígado aumentado** (**~85%**)."
   ]
  },
  {
   "cell_type": "markdown",
   "metadata": {},
   "source": [
    "### <font color='red'>LiverFirm</font>\n",
    "\n",
    "Esta variável preditora traz informações clínicas se o paciente está (ou não) com o seu **fígado saudável**."
   ]
  },
  {
   "cell_type": "code",
   "execution_count": 34,
   "metadata": {},
   "outputs": [
    {
     "data": {
      "image/png": "[encoded data removed]",
      "text/plain": [
       "<Figure size 576x288 with 2 Axes>"
      ]
     },
     "metadata": {},
     "output_type": "display_data"
    },
    {
     "data": {
      "text/html": [
       "<div>\n",
       "<style scoped>\n",
       "    .dataframe tbody tr th:only-of-type {\n",
       "        vertical-align: middle;\n",
       "    }\n",
       "\n",
       "    .dataframe tbody tr th {\n",
       "        vertical-align: top;\n",
       "    }\n",
       "\n",
       "    .dataframe thead th {\n",
       "        text-align: right;\n",
       "    }\n",
       "</style>\n",
       "<table border=\"1\" class=\"dataframe\">\n",
       "  <thead>\n",
       "    <tr style=\"text-align: right;\">\n",
       "      <th></th>\n",
       "      <th>LiverFirm</th>\n",
       "      <th>Total</th>\n",
       "      <th>Percent</th>\n",
       "    </tr>\n",
       "  </thead>\n",
       "  <tbody>\n",
       "    <tr>\n",
       "      <th>0</th>\n",
       "      <td>no</td>\n",
       "      <td>47</td>\n",
       "      <td>0.3821</td>\n",
       "    </tr>\n",
       "    <tr>\n",
       "      <th>1</th>\n",
       "      <td>yes</td>\n",
       "      <td>76</td>\n",
       "      <td>0.6179</td>\n",
       "    </tr>\n",
       "  </tbody>\n",
       "</table>\n",
       "</div>"
      ],
      "text/plain": [
       "  LiverFirm  Total  Percent\n",
       "0        no     47   0.3821\n",
       "1       yes     76   0.6179"
      ]
     },
     "execution_count": 34,
     "metadata": {},
     "output_type": "execute_result"
    }
   ],
   "source": [
    "# Vamos plotar as contagens de observações e as proporções de cada categoria:\n",
    "ptlib.plot_percent_count_feature(\n",
    "    df=data_df, feature='LiverFirm', plot_style='seaborn-ticks',\n",
    "    title='Paciente têm fígado saudável?', title_fontsize=14, xlabel2_fontsize=13, ylabel_fontsize=13,\n",
    "    xtick_labelsize=13, ytick_labelsize=13, columns_nr=2, rows_nr=1, share_x=False, share_y=False, width=8, height=4,\n",
    "    wspace=0.3, hspace=None\n",
    ")"
   ]
  },
  {
   "cell_type": "markdown",
   "metadata": {},
   "source": [
    "**Análise:** podemos observar que a maioria dos pacientes apresentaram sinais clínicos de **fígado saudável** (**~62%**)."
   ]
  },
  {
   "cell_type": "markdown",
   "metadata": {},
   "source": [
    "### <font color='red'>SpleenPalpable</font>\n",
    "\n",
    "Esta variável preditora traz informações clínicas se o paciente está (ou não) com o seu **baço aumentado**."
   ]
  },
  {
   "cell_type": "code",
   "execution_count": 35,
   "metadata": {},
   "outputs": [
    {
     "data": {
      "image/png": "[encoded data removed]",
      "text/plain": [
       "<Figure size 576x288 with 2 Axes>"
      ]
     },
     "metadata": {},
     "output_type": "display_data"
    },
    {
     "data": {
      "text/html": [
       "<div>\n",
       "<style scoped>\n",
       "    .dataframe tbody tr th:only-of-type {\n",
       "        vertical-align: middle;\n",
       "    }\n",
       "\n",
       "    .dataframe tbody tr th {\n",
       "        vertical-align: top;\n",
       "    }\n",
       "\n",
       "    .dataframe thead th {\n",
       "        text-align: right;\n",
       "    }\n",
       "</style>\n",
       "<table border=\"1\" class=\"dataframe\">\n",
       "  <thead>\n",
       "    <tr style=\"text-align: right;\">\n",
       "      <th></th>\n",
       "      <th>SpleenPalpable</th>\n",
       "      <th>Total</th>\n",
       "      <th>Percent</th>\n",
       "    </tr>\n",
       "  </thead>\n",
       "  <tbody>\n",
       "    <tr>\n",
       "      <th>0</th>\n",
       "      <td>no</td>\n",
       "      <td>23</td>\n",
       "      <td>0.187</td>\n",
       "    </tr>\n",
       "    <tr>\n",
       "      <th>1</th>\n",
       "      <td>yes</td>\n",
       "      <td>100</td>\n",
       "      <td>0.813</td>\n",
       "    </tr>\n",
       "  </tbody>\n",
       "</table>\n",
       "</div>"
      ],
      "text/plain": [
       "  SpleenPalpable  Total  Percent\n",
       "0             no     23    0.187\n",
       "1            yes    100    0.813"
      ]
     },
     "execution_count": 35,
     "metadata": {},
     "output_type": "execute_result"
    }
   ],
   "source": [
    "# Vamos plotar as contagens de observações e as proporções de cada categoria:\n",
    "ptlib.plot_percent_count_feature(\n",
    "    df=data_df, feature='SpleenPalpable', plot_style='seaborn-ticks',\n",
    "    title='Paciente têm o baço aumentado?', title_fontsize=13, xlabel2_fontsize=13, ylabel_fontsize=13,\n",
    "    xtick_labelsize=13, ytick_labelsize=13, columns_nr=2, rows_nr=1, share_x=False, share_y=False, width=8, height=4,\n",
    "    wspace=0.3, hspace=None\n",
    ")"
   ]
  },
  {
   "cell_type": "markdown",
   "metadata": {},
   "source": [
    "**Análise:** podemos observar que a grande maioria dos pacientes apresentaram sinais clínicos de que estão com o **baço aumentado** (**~81%**)."
   ]
  },
  {
   "cell_type": "markdown",
   "metadata": {},
   "source": [
    "### <font color='red'>Spiders</font>\n",
    "\n",
    "Esta variável preditora traz informações clínicas se o paciente possui (ou não) **spider nevi**, ou seja, manchas de aranha pelo corpo."
   ]
  },
  {
   "cell_type": "code",
   "execution_count": 36,
   "metadata": {},
   "outputs": [
    {
     "data": {
      "image/png": "[encoded data removed]",
      "text/plain": [
       "<Figure size 576x288 with 2 Axes>"
      ]
     },
     "metadata": {},
     "output_type": "display_data"
    },
    {
     "data": {
      "text/html": [
       "<div>\n",
       "<style scoped>\n",
       "    .dataframe tbody tr th:only-of-type {\n",
       "        vertical-align: middle;\n",
       "    }\n",
       "\n",
       "    .dataframe tbody tr th {\n",
       "        vertical-align: top;\n",
       "    }\n",
       "\n",
       "    .dataframe thead th {\n",
       "        text-align: right;\n",
       "    }\n",
       "</style>\n",
       "<table border=\"1\" class=\"dataframe\">\n",
       "  <thead>\n",
       "    <tr style=\"text-align: right;\">\n",
       "      <th></th>\n",
       "      <th>Spiders</th>\n",
       "      <th>Total</th>\n",
       "      <th>Percent</th>\n",
       "    </tr>\n",
       "  </thead>\n",
       "  <tbody>\n",
       "    <tr>\n",
       "      <th>0</th>\n",
       "      <td>no</td>\n",
       "      <td>44</td>\n",
       "      <td>0.3577</td>\n",
       "    </tr>\n",
       "    <tr>\n",
       "      <th>1</th>\n",
       "      <td>yes</td>\n",
       "      <td>79</td>\n",
       "      <td>0.6423</td>\n",
       "    </tr>\n",
       "  </tbody>\n",
       "</table>\n",
       "</div>"
      ],
      "text/plain": [
       "  Spiders  Total  Percent\n",
       "0      no     44   0.3577\n",
       "1     yes     79   0.6423"
      ]
     },
     "execution_count": 36,
     "metadata": {},
     "output_type": "execute_result"
    }
   ],
   "source": [
    "# Vamos plotar as contagens de observações e as proporções de cada categoria:\n",
    "ptlib.plot_percent_count_feature(\n",
    "    df=data_df, feature='Spiders', plot_style='seaborn-ticks',\n",
    "    title='Paciente têm spider nevi?', title_fontsize=14, xlabel2_fontsize=13, ylabel_fontsize=13,\n",
    "    xtick_labelsize=13, ytick_labelsize=13, columns_nr=2, rows_nr=1, share_x=False, share_y=False, width=8, height=4,\n",
    "    wspace=0.3, hspace=None\n",
    ")"
   ]
  },
  {
   "cell_type": "markdown",
   "metadata": {},
   "source": [
    "**Análise:** podemos observar que a maioria dos pacientes apresentaram sinais clínicos de **spider nevi** (**~64%**)."
   ]
  },
  {
   "cell_type": "markdown",
   "metadata": {},
   "source": [
    "### <font color='red'>Ascites</font>\n",
    "\n",
    "Esta variável preditora traz informações clínicas se o paciente está (ou não) com **ascite** (também chamada de **barriga d'água**)."
   ]
  },
  {
   "cell_type": "code",
   "execution_count": 37,
   "metadata": {},
   "outputs": [
    {
     "data": {
      "image/png": "[encoded data removed]",
      "text/plain": [
       "<Figure size 576x288 with 2 Axes>"
      ]
     },
     "metadata": {},
     "output_type": "display_data"
    },
    {
     "data": {
      "text/html": [
       "<div>\n",
       "<style scoped>\n",
       "    .dataframe tbody tr th:only-of-type {\n",
       "        vertical-align: middle;\n",
       "    }\n",
       "\n",
       "    .dataframe tbody tr th {\n",
       "        vertical-align: top;\n",
       "    }\n",
       "\n",
       "    .dataframe thead th {\n",
       "        text-align: right;\n",
       "    }\n",
       "</style>\n",
       "<table border=\"1\" class=\"dataframe\">\n",
       "  <thead>\n",
       "    <tr style=\"text-align: right;\">\n",
       "      <th></th>\n",
       "      <th>Ascites</th>\n",
       "      <th>Total</th>\n",
       "      <th>Percent</th>\n",
       "    </tr>\n",
       "  </thead>\n",
       "  <tbody>\n",
       "    <tr>\n",
       "      <th>0</th>\n",
       "      <td>no</td>\n",
       "      <td>17</td>\n",
       "      <td>0.1382</td>\n",
       "    </tr>\n",
       "    <tr>\n",
       "      <th>1</th>\n",
       "      <td>yes</td>\n",
       "      <td>106</td>\n",
       "      <td>0.8618</td>\n",
       "    </tr>\n",
       "  </tbody>\n",
       "</table>\n",
       "</div>"
      ],
      "text/plain": [
       "  Ascites  Total  Percent\n",
       "0      no     17   0.1382\n",
       "1     yes    106   0.8618"
      ]
     },
     "execution_count": 37,
     "metadata": {},
     "output_type": "execute_result"
    }
   ],
   "source": [
    "# Vamos plotar as contagens de observações e as proporções de cada categoria:\n",
    "ptlib.plot_percent_count_feature(\n",
    "    df=data_df, feature='Ascites', plot_style='seaborn-ticks',\n",
    "    title='Paciente está com ascite?', title_fontsize=14, xlabel2_fontsize=13, ylabel_fontsize=13,\n",
    "    xtick_labelsize=13, ytick_labelsize=13, columns_nr=2, rows_nr=1, share_x=False, share_y=False, width=8, height=4,\n",
    "    wspace=0.3, hspace=None\n",
    ")"
   ]
  },
  {
   "cell_type": "markdown",
   "metadata": {},
   "source": [
    "**Análise:** podemos observar que a grande maioria dos pacientes apresentaram sinais clínicos de **ascite** (**~86%**)."
   ]
  },
  {
   "cell_type": "markdown",
   "metadata": {},
   "source": [
    "### <font color='red'>Varices</font>\n",
    "\n",
    "Esta variável preditora traz informações clínicas se o paciente possui (ou não) **varizes**."
   ]
  },
  {
   "cell_type": "code",
   "execution_count": 38,
   "metadata": {},
   "outputs": [
    {
     "data": {
      "image/png": "[encoded data removed]",
      "text/plain": [
       "<Figure size 576x288 with 2 Axes>"
      ]
     },
     "metadata": {},
     "output_type": "display_data"
    },
    {
     "data": {
      "text/html": [
       "<div>\n",
       "<style scoped>\n",
       "    .dataframe tbody tr th:only-of-type {\n",
       "        vertical-align: middle;\n",
       "    }\n",
       "\n",
       "    .dataframe tbody tr th {\n",
       "        vertical-align: top;\n",
       "    }\n",
       "\n",
       "    .dataframe thead th {\n",
       "        text-align: right;\n",
       "    }\n",
       "</style>\n",
       "<table border=\"1\" class=\"dataframe\">\n",
       "  <thead>\n",
       "    <tr style=\"text-align: right;\">\n",
       "      <th></th>\n",
       "      <th>Varices</th>\n",
       "      <th>Total</th>\n",
       "      <th>Percent</th>\n",
       "    </tr>\n",
       "  </thead>\n",
       "  <tbody>\n",
       "    <tr>\n",
       "      <th>0</th>\n",
       "      <td>no</td>\n",
       "      <td>12</td>\n",
       "      <td>0.0976</td>\n",
       "    </tr>\n",
       "    <tr>\n",
       "      <th>1</th>\n",
       "      <td>yes</td>\n",
       "      <td>111</td>\n",
       "      <td>0.9024</td>\n",
       "    </tr>\n",
       "  </tbody>\n",
       "</table>\n",
       "</div>"
      ],
      "text/plain": [
       "  Varices  Total  Percent\n",
       "0      no     12   0.0976\n",
       "1     yes    111   0.9024"
      ]
     },
     "execution_count": 38,
     "metadata": {},
     "output_type": "execute_result"
    }
   ],
   "source": [
    "# Vamos plotar as contagens de observações e as proporções de cada categoria:\n",
    "ptlib.plot_percent_count_feature(\n",
    "    df=data_df, feature='Varices', plot_style='seaborn-ticks',\n",
    "    title='Paciente possui varizes?', title_fontsize=14, xlabel2_fontsize=13, ylabel_fontsize=13,\n",
    "    xtick_labelsize=13, ytick_labelsize=13, columns_nr=2, rows_nr=1, share_x=False, share_y=False, width=8, height=4,\n",
    "    wspace=0.3, hspace=None\n",
    ")"
   ]
  },
  {
   "cell_type": "markdown",
   "metadata": {},
   "source": [
    "**Análise:** podemos observar que a grande maioria dos pacientes apresentaram sinais clínicos de que possuem **varizes** (**~90%**)."
   ]
  },
  {
   "cell_type": "markdown",
   "metadata": {},
   "source": [
    "### <font color='red'>Histology</font>\n",
    "\n",
    "Esta variável preditora traz informações clínicas se o paciente realizou (ou não) o **diagnóstico** de doenças a partir de estudos comparativos entre tecidos saudáveis e doentes."
   ]
  },
  {
   "cell_type": "code",
   "execution_count": 39,
   "metadata": {},
   "outputs": [
    {
     "data": {
      "image/png": "[encoded data removed]",
      "text/plain": [
       "<Figure size 576x288 with 2 Axes>"
      ]
     },
     "metadata": {},
     "output_type": "display_data"
    },
    {
     "data": {
      "text/html": [
       "<div>\n",
       "<style scoped>\n",
       "    .dataframe tbody tr th:only-of-type {\n",
       "        vertical-align: middle;\n",
       "    }\n",
       "\n",
       "    .dataframe tbody tr th {\n",
       "        vertical-align: top;\n",
       "    }\n",
       "\n",
       "    .dataframe thead th {\n",
       "        text-align: right;\n",
       "    }\n",
       "</style>\n",
       "<table border=\"1\" class=\"dataframe\">\n",
       "  <thead>\n",
       "    <tr style=\"text-align: right;\">\n",
       "      <th></th>\n",
       "      <th>Histology</th>\n",
       "      <th>Total</th>\n",
       "      <th>Percent</th>\n",
       "    </tr>\n",
       "  </thead>\n",
       "  <tbody>\n",
       "    <tr>\n",
       "      <th>0</th>\n",
       "      <td>no</td>\n",
       "      <td>68</td>\n",
       "      <td>0.5528</td>\n",
       "    </tr>\n",
       "    <tr>\n",
       "      <th>1</th>\n",
       "      <td>yes</td>\n",
       "      <td>55</td>\n",
       "      <td>0.4472</td>\n",
       "    </tr>\n",
       "  </tbody>\n",
       "</table>\n",
       "</div>"
      ],
      "text/plain": [
       "  Histology  Total  Percent\n",
       "0        no     68   0.5528\n",
       "1       yes     55   0.4472"
      ]
     },
     "execution_count": 39,
     "metadata": {},
     "output_type": "execute_result"
    }
   ],
   "source": [
    "# Vamos plotar as contagens de observações e as proporções de cada categoria:\n",
    "ptlib.plot_percent_count_feature(\n",
    "    df=data_df, feature='Histology', plot_style='seaborn-ticks',\n",
    "    title='Paciente realizou diagnóstico?', title_fontsize=14, xlabel2_fontsize=13, ylabel_fontsize=13,\n",
    "    xtick_labelsize=13, ytick_labelsize=13, columns_nr=2, rows_nr=1, share_x=False, share_y=False, width=8, height=4,\n",
    "    wspace=0.3, hspace=None\n",
    ")"
   ]
  },
  {
   "cell_type": "markdown",
   "metadata": {},
   "source": [
    "**Análise:** podemos observar que o *dataset* esta **balanceado** em relação aos pacientes que realizaram(ou não) um diagnóstico de doenças a partir de estudos comparativos entre tecidos saudáveis e doentes."
   ]
  },
  {
   "cell_type": "markdown",
   "metadata": {},
   "source": [
    "## <font color='blue'>6- Salvar o *`dataset`* de treinamento modificado</font>"
   ]
  },
  {
   "cell_type": "code",
   "execution_count": 40,
   "metadata": {},
   "outputs": [
    {
     "name": "stdout",
     "output_type": "stream",
     "text": [
      "O arquivo 'train_set.pkl' (data frame) foi salvo com sucesso!\n"
     ]
    }
   ],
   "source": [
    "# Salvando o dataframe de treinamento \"data_df\":\n",
    "dslib.pickle_object_save (\n",
    "    path=DATA_PATH, file=\"train_set.pkl\", object_name=data_df,\n",
    "    msg=\"O arquivo 'train_set.pkl' (data frame) foi salvo com sucesso!\")"
   ]
  },
  {
   "cell_type": "markdown",
   "metadata": {},
   "source": [
    "## <font color='blue'>7- Salvar os `objetos` utilizados nos processos de `imputação`</font>"
   ]
  },
  {
   "cell_type": "code",
   "execution_count": 41,
   "metadata": {},
   "outputs": [
    {
     "name": "stdout",
     "output_type": "stream",
     "text": [
      "O arquivo 'imputer_cat.pkl' (objeto) foi salvo com sucesso!\n"
     ]
    }
   ],
   "source": [
    "# Salvando o objeto \"imputer_cat\" do processo de \"imputação univariada\":\n",
    "dslib.pickle_object_save (\n",
    "    path=OBJ_PATH, file=\"imputer_cat.pkl\", object_name=imputer_cat,\n",
    "    msg=\"O arquivo 'imputer_cat.pkl' (objeto) foi salvo com sucesso!\")"
   ]
  },
  {
   "cell_type": "code",
   "execution_count": 42,
   "metadata": {},
   "outputs": [
    {
     "name": "stdout",
     "output_type": "stream",
     "text": [
      "O arquivo 'imputer_mv.pkl' (objeto) foi salvo com sucesso!\n"
     ]
    }
   ],
   "source": [
    "# Salvando o objeto \"imputer_mv\" do processo de \"imputação múltipla\":\n",
    "dslib.pickle_object_save (\n",
    "    path=OBJ_PATH, file=\"imputer_mv.pkl\", object_name=imputer_mv,\n",
    "    msg=\"O arquivo 'imputer_mv.pkl' (objeto) foi salvo com sucesso!\")"
   ]
  },
  {
   "cell_type": "markdown",
   "metadata": {},
   "source": [
    "## <font color='blue'>8- Conclusões</font>"
   ]
  },
  {
   "cell_type": "markdown",
   "metadata": {},
   "source": [
    "Os principais *insights* e conclusões nesta etapa de **análise exploratória dos dados** foram:\n",
    "\n",
    "1. o *dataset* de treinamento original possui **124 observações** e **19 variáveis preditoras**, sendo que **13 variáveis** são **categóricas** e **6 variáveis** são **numéricas**;\n",
    "\n",
    "2. com relação a análise e tratamento dos valores ausentes (`missing values`):\n",
    "> * verifiquei que **1** observação (registro) tinha uma quantidade muito grande de variáveis (atributos) com valores ausentes, e por isso decidi **remover** esta observação do *dataset*. Com isso, o *dataset* de treinamento passou a ter **123 observações**;\n",
    "> * encontrei **6 variáveis categóricas** com valores ausentes. Após análise, decidi substituir todos os valores ausentes através de um método chamado **imputação univariada**;\n",
    "> * verifiquei que **1 variável numérica** tinha valor igual a **0.0** em **1** observação (registro). Após análise compreendi que era um valor ausente e, portanto, foi tratado junto com os outros valores ausentes;\n",
    "> * encontrei **5 variáveis numéricas** com valores ausentes. Todos os valores foram substituidos através de um método chamado **imputação múltipla**.\n",
    "\n",
    "3. as variávei explicativas **numéricas** possuem valores em **escalas diferentes**, ou seja, os dados precisarão ser **normalizados** ou **padronizados** para que seus valores fiquem na mesma escala;\n",
    "\n",
    "4. com relação a variável *target* **`Class`**, precisarei **balancear** o *dataset* de treinamento na etapa de **modelagem**."
   ]
  },
  {
   "cell_type": "markdown",
   "metadata": {},
   "source": [
    "## <font color='black'>FIM</font>"
   ]
  }
 ],
 "metadata": {
  "kernelspec": {
   "display_name": "Python 3 (ipykernel)",
   "language": "python",
   "name": "python3"
  },
  "language_info": {
   "codemirror_mode": {
    "name": "ipython",
    "version": 3
   },
   "file_extension": ".py",
   "mimetype": "text/x-python",
   "name": "python",
   "nbconvert_exporter": "python",
   "pygments_lexer": "ipython3",
   "version": "3.8.12"
  }
 },
 "nbformat": 4,
 "nbformat_minor": 2
}
