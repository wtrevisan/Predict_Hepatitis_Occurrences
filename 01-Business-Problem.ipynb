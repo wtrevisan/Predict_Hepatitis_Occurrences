{
 "cells": [
  {
   "cell_type": "markdown",
   "metadata": {},
   "source": [
    "***\n",
    "# `Project:` Prevendo a <font color='blue'>morte</font> ou <font color='blue'>vida</font> de pacientes com hepatite\n",
    "\n",
    "## `Date:` fevereiro, 2022\n",
    "\n",
    "## `Data Scientist:` Walter Trevisan\n",
    "***"
   ]
  },
  {
   "cell_type": "markdown",
   "metadata": {},
   "source": [
    "# `Definição do Problema`"
   ]
  },
  {
   "cell_type": "markdown",
   "metadata": {},
   "source": [
    "## <font color='blue'>Hepatite: o que é, principais sintomas, causas e tipos, tratamento, cura</font>\n",
    "\n",
    "**Sistema Digestivo:**\n",
    "\n",
    "![./images/sistema_digestivo.jpg](./images/sistema_digestivo.jpg)"
   ]
  },
  {
   "cell_type": "markdown",
   "metadata": {},
   "source": [
    "## <font color='blue'>O que é hepatite?</font>\n",
    "\n",
    "A hepatite consiste na presença de inflamação das células do fígado. Pode apresentar várias etiologias associadas, nomeadamente **vírus** (Hepatite A, Hepatite B, Hepatite C, Hepatite D, Hepatite E), sendo a hepatite A, B e C as mais comuns e constituindo uma importante causa de mortalidade em Portugal.\n",
    "\n",
    "No entanto, existem **outras causas** associadas a lesão do fígado como alterações do nosso sistema imune - o sistema de defesa do organismo (a chamada hepatite auto-imune), causadas pelo consumo de alguns produtos tóxicos (álcool, fármacos, produtos naturais) ou a causada pela gordura no fígado, cada vez mais prevalente numa sociedade em que a síndrome metabólica se transformou numa verdadeira pandemia. Veja mais informação em causas e tipos de hepatite.\n",
    "\n",
    "O fígado é um importante órgão do nosso sistema digestivo e, no caso de inflamação ou lesão, pode haver comprometimento da sua função, podendo originar diversas complicações a curto ou a longo prazo.\n",
    "\n",
    "A **gravidade** e o **prognóstico** da hepatite variam bastante mediante o **agente etiológico** responsável e as comorbilidades existentes. Em alguns casos, a hepatite pode evoluir muito favoravelmente, necessitando apenas de repouso e tratamento sintomático, mas, noutros casos, pode cursar com doença grave ou fatal, quer na fase aguda, quer desenvolvendo complicações a longo prazo como cirrose ou cancro do fígado. Veja mais informação em cada um dos tipos de hepatite e complicações relacionadas.\n",
    "\n",
    "Em termos de apresentação clínica temporal, podemos classificar as hepatites em:\n",
    "\n",
    "* **Hepatite aguda**: o termo hepatite aguda é usado quando os sintomas possuem uma duração inferior a 6 meses.\n",
    "\n",
    "* **Hepatite crónica**: o termo hepatite crónica é uma perturbação inflamatória do fígado, cuja duração é superior a 6 meses, isto é, quando é persistente no tempo."
   ]
  },
  {
   "cell_type": "markdown",
   "metadata": {},
   "source": [
    "## <font color='blue'>Causas e tipos de hepatite</font>\n",
    "\n",
    "A hepatite pode ser causada por vírus, designando-se neste caso por **hepatite vírica** ou viral. Podemos identificar **5 vírus** causadores de hepatite (A, B, C, D e E).\n",
    "\n",
    "A hepatite pode também ocorrer como consequência da ingestão de algumas **substâncias tóxicas**, como por exemplo a ingestão abundante de bebidas alcoólicas, consumo de drogas, abuso de alguns fármacos ou alguns cogumelos selvagens.\n",
    "\n",
    "Algumas alterações do nosso **sistema imune**, assim como a presença de gordura no fígado (esteatose) podem também causar hepatite.\n",
    "\n",
    "Descrevemos, a seguir, cada um dos tipos de hepatite, atrás mencionados de uma forma mais detalhada.\n",
    "\n",
    "### <font color='red'>Hepatite A</font>\n",
    "\n",
    "A hepatite A é causada pelo vírus da hepatite A (**VHA**). A transmissão da doença é quase sempre efetuada pela via fecal-oral, usualmente, de pessoa para pessoa ou através de alimentos que se encontrem contaminados com o vírus.\n",
    "\n",
    "A hepatite A é mais prevalente nos países em desenvolvimento, podendo, no entanto, ocorrer também em países desenvolvidos.\n",
    "\n",
    "Nas crianças, a hepatite A é habitualmente assintomática (não causa sintomas). No caso dos adultos, a hepatite A provoca sintomatologia que se assemelha a uma gripe e os sintomas surgem de forma repentina, habitualmente, cerca de um mês após ocorrer a infeção (4 semanas).\n",
    "\n",
    "Na maioria dos casos, a infeção é autolimitada, evoluindo favoravelmente, sem complicações e não causando problemas hepáticos no futuro. Contudo, pode levar alguns meses até ser debelada completamente a infeção.\n",
    "\n",
    "O tratamento é habitualmente de suporte e como profilaxia as pessoas podem ser vacinadas antes de viajarem para países onde a infeção é endémica.\n",
    "\n",
    "### <font color='red'>Hepatite B</font>\n",
    "\n",
    "A hepatite B é uma doença do fígado, causada pelo vírus da Hepatite B (**VHB**). A infeção vírica causada pelo VHB pode cursar de forma aguda e auto-limitada (a maioria dos casos) ou evoluir para uma hepatite crónica.\n",
    "\n",
    "O vírus é transmitido de pessoa para pessoa através dos fluidos corporais, principalmente através das relações sexuais desprotegidas, mas também através da partilha de seringas ou durante o parto (principalmente no continente africano e asiático).\n",
    "\n",
    "Os sintomas na hepatite B aguda são semelhantes a uma gripe e na maioria dos casos é uma infeção auto-limitada que não necessita de tratamento. No entanto, cerca de 5% dos doentes evoluem para hepatite B crónica.\n",
    "\n",
    "A principal complicação da hepatite B crónica é o desenvolvimento de cirrose, sendo que estes doentes têm também risco aumentado de cancro do fígado.\n",
    "\n",
    "Os doentes com hepatite B crónica podem ser tratados com medicamentos anti-víricos (tenofovir/entecavir) para manter a carga do vírus negativa.\n",
    "\n",
    "A hepatite B não tem cura, mas existe vacina que faz parte do plano nacional de vacinação que previne o futuro desenvolvimento de Hepatite B.\n",
    "\n",
    "### <font color='red'>Hepatite C</font>\n",
    "\n",
    "A hepatite C é causada pelo vírus de Hepatite C (**VHC**). O contágio da doença é feito através do contacto com sangue de alguma pessoa infetada com o vírus, principalmente pela partilha de seringas usadas no consumo de drogas, agulhas infetadas usadas em tatuagens, agulhas infetadas na acupuntura ou piercings, partilha de escovas de dentes, partilha de máquinas de barbear ou outros objetos que possam conter sangue contaminado, transfusões de sangue. A transmissão pode também ocorrer por via sexual embora numa percentagem muito menor.\n",
    "\n",
    "A hepatite C é um grave problema de saúde pública. Estima-se que entre 1 a 1,5% da população mundial esteja infetada com o vírus VHC.\n",
    "\n",
    "A maioria dos doentes não tem sintomas e não desenvolve alterações hepáticas agudas, evoluindo quase sempre para a cronicidade (hepatite crónica).\n",
    "\n",
    "Muitas pessoas infetadas com o vírus da hepatite C são assintomáticas geralmente nos primeiros 20 anos após a infeção (não apresentam sintomas) e, posteriormente, podem surgir sintomas como cansaço, falta de apetite para comer, náuseas ou vómitos, dores musculares ou articulares, emagrecimento. As principais complicações da hepatite C crónica é o desenvolvimento de cirrose e cancro do fígado.\n",
    "\n",
    "O tratamento da hepatite C depende do subtipo do vírus e o tratamento é prescrito de acordo com este subtipo e o grau de lesão do fígado.\n",
    "\n",
    "Ao contrário do VHB, o VHC tem cura após tratamento eficaz e ainda não tem vacina disponível.\n",
    "\n",
    "### <font color='red'>Hepatite D</font>\n",
    "\n",
    "A hepatite D é provocada pelo vírus de hepatite D (**VHD** ou **vírus Delta**). Trata-se de um tipo de hepatite menos frequente do que as três anteriores (A, B e C).\n",
    "\n",
    "A infeção por VHD obriga sempre a presença de infeção simultânea pelo vírus VHB.\n",
    "\n",
    "A infeção VHD é endémica nos países mediterrânicos e a sua principal forma de transmissão é por via sexual.\n",
    "\n",
    "O tratamento é feito com interferon e não existe vacina disponível, embora doentes vacinados para VHB não desenvolvam infeção pelo VHD.\n",
    "\n",
    "### <font color='red'>Hepatite E</font>\n",
    "\n",
    "A hepatite E é causada pelo vírus de Hepatite E (**VHE**). Este tipo de hepatite é menos frequente do que as três primeiras, sendo a causa mais comum de hepatite aguda em países como a Índia ou México.\n",
    "\n",
    "A maioria das infeções são subclínicas nos países desenvolvidos (sem sintomas) e não evolui para cronicidade (exceção dos doentes imunodeprimidos - doentes HIV+ ou que façam medicação para diminuir a imunidade, como os doentes transplantados).\n",
    "\n",
    "Nos doentes com necessidade de internamento existe um tratamento dirigido (ribavirina). Está disponível uma vacina nos países endémicos.\n",
    "\n",
    "### <font color='red'>Hepatite autoimune</font>\n",
    "\n",
    "Na hepatite auto-imune, o nosso **sistema imunitário** ou imunológico (sistema de defesa do corpo) ataca as células do fígado, provocando a sua inflamação.\n",
    "\n",
    "Trata-se de uma doença progressiva que atinge mais o sexo feminino (mulheres).\n",
    "\n",
    "Muitas vezes, a doença é assintomática (não provoca sintomas), o que faz com que muitas pessoas possuam a doença sem saberem. Desta forma, não raras vezes, o primeiro sinal de alarme para que a doença seja diagnosticada surge através de alterações verificadas em análises de rotina ou já complicações de uma doença muito avançada (cirrose).\n",
    "\n",
    "Quando existe sintomatologia, a fadiga (cansaço) é dos sintomas iniciais mais frequentes. Outros sinais e sintomas que podem também ocorrer são: icterícia (cor da pele e dos olhos amarelada), dores nas articulações, irregularidades menstruais, desconforto abdominal (na barriga), náuseas, vómitos, perda de apetite, urina escura e fezes de cor pálida. Na fase mais avançada da doença, a hepatite auto-imune pode progredir para a cirrose com sintomatologia mais exuberante.\n",
    "\n",
    "O diagnóstico é feito através de exames sanguíneos, mas obriga à realização de biópsia ao fígado. O tratamento é feito através de corticoides e posteriormente podem-se associar outros medicamentos para reduzir a dose dos corticoides pelos seus efeitos adversos conhecidos (diabetes, osteoporose).\n",
    "\n",
    "[Saiba, aqui, tudo sobre hepatite autoimune](https://www.saudebemestar.pt/pt/medicina/medicina-interna/hepatite-autoimune/).\n",
    "\n",
    "### <font color='red'>Hepatite tóxica</font>\n",
    "\n",
    "A hepatite tóxica é a inflamação do fígado provocada por algum tipo de **produto tóxico** que é consumido de alguma forma. Muitas vezes, mesmo que o produto nocivo seja consumido em doses reduzidas, pode desencadear uma hepatite tóxica com a exposição continuada a esse produto. São exemplos de produtos tóxicos: álcool, drogas, medicamentos, suplementos à base de plantas ou produtos químicos nocivos.\n",
    "\n",
    "Em Portugal, a hepatite tóxica causada pelo álcool é uma das principais causas de cirrose e de transplante hepático.\n",
    "\n",
    "A hepatite tóxica pode, na maioria dos casos, ser facilmente evitada. Não consumir álcool em excesso, não consumir drogas, nunca se automedicar e tomar a medicação sempre de acordo com a prescrição médica, são exemplos de medidas simples, mas muito importantes para prevenir o surgimento da doença.\n",
    "\n",
    "No entanto, nas chamadas hepatites tóxicas idiossincráticas, a lesão ocorre mesmo com doses mínimas do fármaco e que para outros doentes pode não causar qualquer alteração. Uma causa rara, mas não desprezível de hepatite tóxica é o consumo de cogumelos selvagens, estando descritas situações fatais.\n",
    "\n",
    "### <font color='red'>Esteato-hepatite não alcoólica</font>\n",
    "\n",
    "A esteato-hepatite não alcoólica, também associada a **doença do fígado gordo** não alcoólica é uma das causas mais comuns de doença hepática nos países desenvolvidos e será a principal causa de cirrose e transplante hepático no futuro.\n",
    "\n",
    "Cerca de 25% da população dos países desenvolvidos tem gordura no fígado (esteatose) e 20-25% destes terão inflamação hepática decorrente desta gordura, a chamada esteato-hepatite.\n",
    "\n",
    "A esteato-hepatite não alcoólica encontra-se intimamente associada a obesidade, diabetes, hipertensão e colesterol aumentado, sendo um dos componentes do síndrome metabólico.\n",
    "\n",
    "Até este momento, o único tratamento disponível baseia-se na perda de peso e realização de exercício físico, porém estão já em desenvolvimento novos fármacos."
   ]
  },
  {
   "cell_type": "markdown",
   "metadata": {},
   "source": [
    "## <font color='blue'>Sinais e sintomas na hepatite</font>\n",
    "\n",
    "Os sinais e sintomas da hepatite podem variar de acordo com o tipo de hepatite presente, da gravidade da doença, do seu tempo de evolução ou da presença de outras doenças simultaneamente. No entanto, na maioria dos casos de hepatite estão patentes os seguintes sinais e sintomas:\n",
    "\n",
    "* Fadiga (cansaço);\n",
    "* Náuseas ou vómitos;\n",
    "* Falta de apetite para comer;\n",
    "* Icterícia (coloração amarelada da pele ou na parte branca dos olhos);\n",
    "* Pode existir febre, se bem que em muitos casos não ocorra elevação de temperatura;\n",
    "* Dor nas costas ou no abdómen (barriga), no lado direito (localização do fígado);\n",
    "* Urina de cor escura;\n",
    "* Fezes de cor clara;\n",
    "* Comichão.\n",
    "\n",
    "Todavia, alguns tipos de hepatite podem ser assintomáticos (não provocam sintomas) durante largos períodos de tempo, mesmo na presença de inflamação do fígado."
   ]
  },
  {
   "cell_type": "markdown",
   "metadata": {},
   "source": [
    "## <font color='blue'>Diagnóstico da hepatite</font>\n",
    "\n",
    "O diagnóstico de hepatite é feito pelo médico, tendo por base a história clínica do doente, dos seus hábitos (como a ingestão de álcool, por exemplo), dos sinais e sintomas apresentados e recorrendo a alguns meios complementares de diagnóstico (MCDT).\n",
    "\n",
    "As análises ao sangue tipicamente revelam alteração das provas hepáticas, mais concretamente um aumento da aspartato aminotransferase (AST) e/ou alanina aminotranferase (ALT), uma vez que representam a presença de lesão das células hepáticas. Os valores absolutos podem ser muito variáveis e nem sempre refletem o prognóstico, sendo que alguns padrões de elevação podem fazer suspeitar mais de um diagnóstico em concreto.\n",
    "\n",
    "O diagnóstico de hepatites víricas vai ser baseado em análises sanguíneas específicas para os vírus, os chamados antigénios e anticorpos.\n",
    "\n",
    "O diagnóstico de hepatite auto-imune é baseado também em exames específicos do sangue, chamados anticorpos e obriga à realização de biópsia hepática.\n",
    "\n",
    "O diagnóstico de hepatite tóxica e esteato-hepatite baseia-se na história clínica e numa relação temporal e exposição a um agente tóxico, não existindo exames sanguíneos específicos para o diagnóstico.\n",
    "\n",
    "Por norma, outros exames realizados são a [ecografia abdominal](https://www.saudebemestar.pt/pt/exame/imagiologia/ecografia-abdominal/) para despistar a presença de outras causas de lesão hepática, avançando-se apenas para realização de [TAC](https://www.saudebemestar.pt/pt/exame/imagiologia/tc/) ou [ressonância magnética](https://www.saudebemestar.pt/pt/exame/imagiologia/ressonancia-magnetica/) na presença de outras lesões suspeitas.\n",
    "\n",
    "A biópsia hepática é apenas raramente realizada nas hepatites víricas, pode ser importante para estabelecer o diagnóstico de hepatite tóxica ou esteato-hepatite não alcoólica (excluindo assim outras causas) e é obrigatória para o diagnóstico de hepatite auto-imune."
   ]
  },
  {
   "cell_type": "markdown",
   "metadata": {},
   "source": [
    "## <font color='blue'>A hepatite é contagiosa?</font>\n",
    "\n",
    "As hepatites provocadas pelos **vírus** (hepatites víricas) são **contagiosas**. Ou seja, a doença “passa ou pega-se” de uma pessoa para outra. O contágio pode ocorrer através do contacto com uma pessoa infetada com o vírus.\n",
    "\n",
    "A transmissão da doença pode ser evitada se forem tomadas uma série de medidas profiláticas, como evitar o contacto com o sangue de pessoas infetadas com hepatite B e C e evitando o contacto com fezes de pessoas com hepatite A e E.\n",
    "\n",
    "No caso da hepatite tóxica e na hepatite auto-imune não existe qualquer risco de contágio de pessoa para pessoa.\n",
    "\n",
    "## <font color='blue'>Complicações da hepatite</font>\n",
    "\n",
    "A **falência hepática** (o fígado deixa de funcionar) é uma das possíveis complicações da hepatite aguda e apresenta uma altíssima taxa de mortalidade, obrigando na maioria das vezes a transplante hepático emergente.\n",
    "\n",
    "No que diz respeito a hepatite crónica, a **cirrose** é uma das complicações mais frequentes e associa-se a várias complicações como hemorragia por varizes esofágicas (vómitos de sangue) ou desenvolvimento de ascite (ganhar líquido na barriga).\n",
    "\n",
    "Uma temível complicação é o desenvolvimento de **cancro do fígado**.\n",
    "\n",
    "Em qualquer uma das complicações existe risco de morte associado. Um tratamento adequado e atempado é de primordial importância não só para debelar a doença, quando tal é possível, mas também para prevenir a sua evolução e desenvolvimento de complicações.\n",
    "\n",
    "## <font color='blue'>Hepatite tem cura?</font>\n",
    "\n",
    "O **prognóstico** da hepatite é muito variável, dependendo do **tipo de hepatite** presente, entre muitos outros fatores. Para algumas hepatites existe uma cura definitiva, que nos permite debelar completamente a doença. No entanto, existem hepatites em que a doença se torna crónica, não existindo possibilidades de cura. Os tratamentos instituídos visam evitar complicações e dar uma maior qualidade de vida aos doentes.\n",
    "\n",
    "Veja mais informação em cada um dos tipos de hepatite."
   ]
  },
  {
   "cell_type": "markdown",
   "metadata": {},
   "source": [
    "## <font color='blue'>Tratamento da hepatite</font>\n",
    "\n",
    "O **tratamento** da hepatite varia bastante, principalmente de acordo com o **agente que a provoca** (vírus, hepatite auto-imune, tóxico). O tratamento da hepatite deve ser orientado pelo médico gastrenterologista (especialista em doenças do aparelho digestivo).\n",
    "\n",
    "Nos casos mais simples, o tratamento pode passar apenas pelo repouso ou pela administração de alguns medicamentos analgésicos (paracetamol). Nos casos de hepatite tóxica passa ainda pela evicção do agente responsável.\n",
    "\n",
    "No caso da hepatite auto-imune é necessário o tratamento com corticoides.\n",
    "\n",
    "Nos casos agudos mais graves pode ser necessário internamento hospitalar, e em situações de falência hepática aguda que são potencialmente fatais, está indicado o transplante de fígado. O transplante de fígado é uma cirurgia (operação) que nos permite substituir o fígado doente por um de um dador compatível.\n",
    "\n",
    "Em caso de ocorrência de complicações associados a hepatite crónica, como cirrose ou cancro no fígado, que podem ser potencialmente fatais, pode ser necessário recorrer a tratamentos mais agressivos."
   ]
  },
  {
   "cell_type": "markdown",
   "metadata": {},
   "source": [
    "## <font color='blue'>Como prevenir a hepatite?</font>\n",
    "\n",
    "Como vimos anteriormente, a hepatite transmite-se de pessoa para pessoa facilmente se não forem tomadas algumas medidas preventivas. Existem algumas **medidas de prevenção** que devem ser adotadas, por todos, de modo a prevenir o contágio da doença.\n",
    "\n",
    "As medidas que a seguir apresentamos são genéricas, para as hepatites. Veja informação específica de medidas de prevenção, selecionando cada uma das hepatites.\n",
    "\n",
    "Como principais medidas genéricas de prevenção podemos destacar:\n",
    "\n",
    "* Evitar hábitos alcoólicos (consumo de álcool);\n",
    "* Não consumir qualquer tipo de drogas (marijuana, heroína, etc.);\n",
    "* Ter cuidados com a alimentação e não ingerir qualquer produto de origem duvidosa (cogumelos de espécies duvidosas, por exemplo);\n",
    "* Manter um peso saudável (evitar a obesidade através de uma alimentação adequada, evitar o sedentarismo), mas sem usar qualquer tipo de medicamentos ou suplementos nutricionais de origem duvidosa;\n",
    "* Fazer a vacina da hepatite A e a vacina da hepatite B;\n",
    "* No caso dos doentes com diagnóstico confirmado, os familiares e amigos próximos devem ser vacinados;\n",
    "* Fazer vacinação para outras doenças como pneumonia, gripe, ente outras de acordo com o plano de vacinação e indicações do seu médico assistente;\n",
    "* Usar um preservativo de látex nas relações sexuais (qualquer tipo de sexo);\n",
    "* Em caso de diagnóstico confirmado, informe os parceiros sexuais que é portador de hepatite para estes se protegerem;\n",
    "* Não partilhe, em caso algum, agulhas, lâminas ou navalhas de barba, escovas de dentes ou qualquer outro objeto que possa estar contaminada com sangue;\n",
    "* Deve ter cuidado quando existem feridas abertas, para que estas não contactem com qualquer objeto ou pessoa contaminada;\n",
    "* Ter cuidado com a auto-medicação, como por exemplo com o uso abusivo de fármacos utilizados no alívio da dor e anti-inflamatórios, devendo sempre tomar os medicamentos sob orientação médica;\n",
    "* As mulheres que tencionem engravidar devem falar previamente com o médico. Em algumas hepatites pode ocorrer a transmissão do vírus ao feto durante a [gravidez](https://www.saudebemestar.pt/pt/clinica/ginecologia/gravidez/)."
   ]
  },
  {
   "cell_type": "markdown",
   "metadata": {},
   "source": [
    "**Autor**: Dr. Rui Gaspar, Médico Gastroenterologista (NOM 54765). \n",
    "\n",
    "**Data desta revisão**: 12/03/2021"
   ]
  },
  {
   "cell_type": "markdown",
   "metadata": {},
   "source": [
    "# `Objetivo do Projeto`\n",
    "\n",
    "O objetivo deste projeto é criar um modelo de ***Machine Learning*** (Aprendizado de Máquina) que seja capaz de prever se um paciente, **com hepatite**, irá **morrer** ou **viver**. Para isso, utilizarei algumas informações de dados clínicos de pacientes que tiveram a doença. Este projeto usará métodos de **classificação binária** para prever se um indivíduo **morrerá** ou **viverá** em decorrência da doença (hepatite)."
   ]
  },
  {
   "cell_type": "markdown",
   "metadata": {},
   "source": [
    "# `Avaliação do Projeto`\n",
    "\n",
    "Como **métrica de avaliação** para o modelo usaremos a ***AUC Score*** (*Area Under The Curve Score*), cujo valor vai de 1 a 100%. Para esse problema o valor da métrica deverá ser no mínimo igual a **90%**, uma vez que a previsão do modelo está relacionada a casos de **vida** ou **morte** de um paciente. Usaremos a métrica calculada no **conjunto de dados de teste**."
   ]
  },
  {
   "cell_type": "markdown",
   "metadata": {},
   "source": [
    "# `Referências`\n",
    "\n",
    "1- Fonte de **[informações sobre hepatite](https://www.saudebemestar.pt/pt/clinica/gastrenterologia/hepatite/)**;\n",
    "\n",
    "2- Fonte dos dados: **[Dua, D. and Graff, C. (2019). UCI Machine Learning Repository [http://archive.ics.uci.edu/ml]. Irvine, CA: University of California, School of Information and Computer Science](https://archive.ics.uci.edu/ml/datasets/hepatitis)**."
   ]
  },
  {
   "cell_type": "markdown",
   "metadata": {},
   "source": [
    "# <font color='black'>FIM</font>"
   ]
  }
 ],
 "metadata": {
  "kernelspec": {
   "display_name": "Python 3 (ipykernel)",
   "language": "python",
   "name": "python3"
  },
  "language_info": {
   "codemirror_mode": {
    "name": "ipython",
    "version": 3
   },
   "file_extension": ".py",
   "mimetype": "text/x-python",
   "name": "python",
   "nbconvert_exporter": "python",
   "pygments_lexer": "ipython3",
   "version": "3.8.12"
  }
 },
 "nbformat": 4,
 "nbformat_minor": 2
}
